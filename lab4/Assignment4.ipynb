{
  "nbformat": 4,
  "nbformat_minor": 0,
  "metadata": {
    "colab": {
      "provenance": [],
      "gpuType": "L4"
    },
    "kernelspec": {
      "name": "python3",
      "display_name": "Python 3"
    },
    "language_info": {
      "name": "python"
    },
    "accelerator": "GPU"
  },
  "cells": [
    {
      "cell_type": "code",
      "source": [
        "# BEFORE STARTING -----------------------------------------------------------------------------------------------------------------------------------------------------------------------------\n",
        "# Make sure to have 'lab4_example.pt', 'wiki-interpolate.3gram.arpa', 'model_epoch_10.pt' (under 'checkpoints') and 'optimizer_epoch_10.pt' (under 'checkpoints').\n",
        "\n",
        "# First time runnning: takes extra long because of the data_loaders (extra 6-7 min)\n",
        "\n",
        "# Make sure to select mode='test' if you uploaded model_epoch and optimizer_epoch previously, otherwise we must train to get these.\n",
        "\n",
        "# We are using torch.save and torch.load in order to avoid training.\n",
        "\n",
        "# TODO: the could could be refractored in many places, this works decently.\n",
        "\n",
        "# TODO: grid search takes too much time, so I can't really find good values for alpha and beta, even though the code is simple. For now, alpha=0.5, beta=1.0 seems good.\n",
        "\n",
        "# NB: much of the actual calculation was done using a more advanced GPU (NVIDIA A100, NVIDIA L4) and extended RAM, so I would not try re-create anything without\n",
        "# a sufficinetly strong GPU. The necessary results should be saved as screenshots in the notebook."
      ],
      "metadata": {
        "id": "2zZ9YzJ4idYl"
      },
      "execution_count": 40,
      "outputs": []
    },
    {
      "cell_type": "code",
      "source": [
        "import torch\n",
        "from torch import nn\n",
        "import torchaudio\n",
        "import torch.nn.functional as F\n",
        "import torch.utils.data as data\n",
        "import torch.optim as optim\n",
        "import numpy as np\n",
        "import argparse"
      ],
      "metadata": {
        "id": "2ud7RxIj5oYT"
      },
      "execution_count": 2,
      "outputs": []
    },
    {
      "cell_type": "code",
      "source": [
        "#!python lab4_main.py  # can take some time to load in my experience, works fine on CPU, maybe faster on CUDA\n",
        "                      # Make sure all files are in the google.colab files in order for this to work,\n",
        "                      # requires manually uploading them to colab for every new session I believe.\n",
        "                      # Sometims it doesn't work, try pasting code into the colab then."
      ],
      "metadata": {
        "id": "USR9vr1Xv4OM"
      },
      "execution_count": 3,
      "outputs": []
    },
    {
      "cell_type": "code",
      "source": [
        "'''\n",
        "MODEL DEFINITION\n",
        "'''\n",
        "class CNNLayerNorm(nn.Module):\n",
        "\t\"\"\"Layer normalization built for cnns input\"\"\"\n",
        "\tdef __init__(self, n_feats):\n",
        "\t\tsuper(CNNLayerNorm, self).__init__()\n",
        "\t\tself.layer_norm = nn.LayerNorm(n_feats)\n",
        "\n",
        "\tdef forward(self, x):\n",
        "\t\t# x (batch, channel, feature, time)\n",
        "\t\tx = x.transpose(2, 3).contiguous() # (batch, channel, time, feature)\n",
        "\t\tx = self.layer_norm(x)\n",
        "\t\treturn x.transpose(2, 3).contiguous() # (batch, channel, feature, time)\n",
        "\n",
        "\n",
        "class ResidualCNN(nn.Module):\n",
        "\t\"\"\"Residual CNN inspired by https://arxiv.org/pdf/1603.05027.pdf\n",
        "\t\texcept with layer norm instead of batch norm\n",
        "\t\"\"\"\n",
        "\tdef __init__(self, in_channels, out_channels, kernel, stride, dropout, n_feats):\n",
        "\t\tsuper(ResidualCNN, self).__init__()\n",
        "\n",
        "\t\tself.cnn1 = nn.Conv2d(in_channels, out_channels, kernel, stride, padding=kernel//2)\n",
        "\t\tself.cnn2 = nn.Conv2d(out_channels, out_channels, kernel, stride, padding=kernel//2)\n",
        "\t\tself.dropout1 = nn.Dropout(dropout)\n",
        "\t\tself.dropout2 = nn.Dropout(dropout)\n",
        "\t\tself.layer_norm1 = CNNLayerNorm(n_feats)\n",
        "\t\tself.layer_norm2 = CNNLayerNorm(n_feats)\n",
        "\n",
        "\tdef forward(self, x):\n",
        "\t\tresidual = x  # (batch, channel, feature, time)\n",
        "\t\tx = self.layer_norm1(x)\n",
        "\t\tx = F.gelu(x)\n",
        "\t\tx = self.dropout1(x)\n",
        "\t\tx = self.cnn1(x)\n",
        "\t\tx = self.layer_norm2(x)\n",
        "\t\tx = F.gelu(x)\n",
        "\t\tx = self.dropout2(x)\n",
        "\t\tx = self.cnn2(x)\n",
        "\t\tx += residual\n",
        "\t\treturn x # (batch, channel, feature, time)\n",
        "\n",
        "class BidirectionalGRU(nn.Module):\n",
        "\n",
        "\tdef __init__(self, rnn_dim, hidden_size, dropout, batch_first):\n",
        "\t\tsuper(BidirectionalGRU, self).__init__()\n",
        "\n",
        "\t\tself.BiGRU = nn.GRU(\n",
        "\t\t\tinput_size=rnn_dim, hidden_size=hidden_size,\n",
        "\t\t\tnum_layers=1, batch_first=batch_first, bidirectional=True)\n",
        "\t\tself.layer_norm = nn.LayerNorm(rnn_dim)\n",
        "\t\tself.dropout = nn.Dropout(dropout)\n",
        "\n",
        "\tdef forward(self, x):\n",
        "\t\t#print('bi-gru, in:',x.shape)\n",
        "\t\tx = self.layer_norm(x)\n",
        "\t\tx = F.gelu(x)\n",
        "\t\tx, _ = self.BiGRU(x)\n",
        "\t\tx = self.dropout(x)\n",
        "\t\t#print('bi-gru, out:',x.shape)\n",
        "\t\treturn x\n",
        "\n",
        "class SpeechRecognitionModel(nn.Module):\n",
        "\t\"\"\"Speech Recognition Model Inspired by DeepSpeech 2\"\"\"\n",
        "\n",
        "\tdef __init__(self, n_cnn_layers, n_rnn_layers, rnn_dim, n_class, n_feats, stride=2, dropout=0.1):\n",
        "\t\tsuper(SpeechRecognitionModel, self).__init__()\n",
        "\t\tn_feats = n_feats//stride\n",
        "\t\tself.cnn = nn.Conv2d(1, 32, 3, stride=stride, padding=3//2)  # cnn for extracting heirachal features\n",
        "\n",
        "\t\t# n residual cnn layers with filter size of 32\n",
        "\t\tself.rescnn_layers = nn.Sequential(*[\n",
        "\t\t\tResidualCNN(32, 32, kernel=3, stride=1, dropout=dropout, n_feats=n_feats)\n",
        "\t\t\tfor _ in range(n_cnn_layers)\n",
        "\t\t])\n",
        "\t\tself.fully_connected = nn.Linear(n_feats*32, rnn_dim)\n",
        "\t\tself.birnn_layers = nn.Sequential(*[\n",
        "\t\t\tBidirectionalGRU(rnn_dim=rnn_dim if i==0 else rnn_dim*2,\n",
        "\t\t\t\t\t\t\t hidden_size=rnn_dim, dropout=dropout, batch_first=i==0)\n",
        "\t\t\tfor i in range(n_rnn_layers)\n",
        "\t\t])\n",
        "\t\tself.classifier = nn.Sequential(\n",
        "\t\t\tnn.Linear(rnn_dim*2, rnn_dim),  # birnn returns rnn_dim*2\n",
        "\t\t\tnn.GELU(),\n",
        "\t\t\tnn.Dropout(dropout),\n",
        "\t\t\tnn.Linear(rnn_dim, n_class),\n",
        "\t\t\tnn.LogSoftmax(dim=2)\n",
        "\t\t)\n",
        "\n",
        "\tdef forward(self, x):\n",
        "\t\tx = self.cnn(x)\n",
        "\t\tx = self.rescnn_layers(x)\n",
        "\t\tsizes = x.size()\n",
        "\t\tx = x.view(sizes[0], sizes[1] * sizes[2], sizes[3])  # (batch, feature, time)\n",
        "\t\tx = x.transpose(1, 2) # (batch, time, feature)\n",
        "\t\tx = self.fully_connected(x)\n",
        "\t\tx = self.birnn_layers(x)\n",
        "\t\tx = self.classifier(x)\n",
        "\t\treturn x\n",
        "\n",
        "'''\n",
        "ACCURACY MEASURES\n",
        "'''\n",
        "def wer(reference, hypothesis, ignore_case=False, delimiter=' '):\n",
        "\tif ignore_case == True:\n",
        "\t\treference = reference.lower()\n",
        "\t\thypothesis = hypothesis.lower()\n",
        "\n",
        "\tref_words = reference.split(delimiter)\n",
        "\thyp_words = hypothesis.split(delimiter)\n",
        "\tedit_distance = levenshteinDistance(ref_words, hyp_words)\n",
        "\tref_len = len(ref_words)\n",
        "\n",
        "\tif ref_len > 0:\n",
        "\t\twer = float(edit_distance) / ref_len\n",
        "\telse:\n",
        "\t\traise ValueError(\"empty reference string\")\n",
        "\treturn wer\n",
        "\n",
        "def cer(reference, hypothesis, ignore_case=False, remove_space=False):\n",
        "\tif ignore_case == True:\n",
        "\t\treference = reference.lower()\n",
        "\t\thypothesis = hypothesis.lower()\n",
        "\n",
        "\tjoin_char = ' '\n",
        "\tif remove_space == True:\n",
        "\t\tjoin_char = ''\n",
        "\n",
        "\treference = join_char.join(filter(None, reference.split(' ')))\n",
        "\thypothesis = join_char.join(filter(None, hypothesis.split(' ')))\n",
        "\n",
        "\tedit_distance = levenshteinDistance(reference, hypothesis)\n",
        "\tref_len = len(reference)\n",
        "\tif ref_len > 0:\n",
        "\t\tcer = float(edit_distance) / ref_len\n",
        "\telse:\n",
        "\t\traise ValueError(\"empty reference string\")\n",
        "\treturn cer\n",
        "\n",
        "'''\n",
        "TRAINING AND TESTING\n",
        "'''\n",
        "\n",
        "def train(model, device, train_loader, criterion, optimizer, epoch):\n",
        "\tmodel.train()\n",
        "\tdata_len = len(train_loader.dataset)\n",
        "\tfor batch_idx, _data in enumerate(train_loader):\n",
        "\t\tspectrograms, labels, input_lengths, label_lengths = _data\n",
        "\t\tspectrograms, labels = spectrograms.to(device), labels.to(device)\n",
        "\n",
        "\t\toptimizer.zero_grad()\n",
        "\t\t# model output is (batch, time, n_class)\n",
        "\t\toutput = model(spectrograms)\n",
        "\t\t# transpose to (time, batch, n_class) in loss function\n",
        "\t\tloss = criterion(output.transpose(0, 1), labels, input_lengths, label_lengths)\n",
        "\t\tloss.backward()\n",
        "\t\toptimizer.step()\n",
        "\t\tif batch_idx % 100 == 0 or batch_idx == data_len:\n",
        "\t\t\tprint('Train Epoch: {} [{}/{} ({:.0f}%)]\\tLoss: {:.6f}'.format(\n",
        "\t\t\t\tepoch, batch_idx * len(spectrograms), data_len,\n",
        "\t\t\t\t100. * batch_idx / len(train_loader), loss.item()))\n",
        "\n",
        "def test(model, device, test_loader, criterion, epoch):\n",
        "\tprint('\\nevaluating…')\n",
        "\tmodel.eval()\n",
        "\ttest_loss = 0\n",
        "\ttest_cer, test_wer = [], []\n",
        "\twith torch.no_grad():\n",
        "\t\tfor I, _data in enumerate(test_loader):\n",
        "\t\t\tspectrograms, labels, input_lengths, label_lengths = _data\n",
        "\t\t\tspectrograms, labels = spectrograms.to(device), labels.to(device)\n",
        "\n",
        "\t\t\t# model output is (batch, time, n_class)\n",
        "\t\t\toutput = model(spectrograms)\n",
        "\t\t\t# transpose to (time, batch, n_class) in loss function\n",
        "\t\t\tloss = criterion(output.transpose(0, 1), labels, input_lengths, label_lengths)\n",
        "\t\t\ttest_loss += loss.item() / len(test_loader)\n",
        "\n",
        "\t\t\t# get target text\n",
        "\t\t\tdecoded_targets = []\n",
        "\t\t\tfor i in range(len(labels)):\n",
        "\t\t\t\tdecoded_targets.append(intToStr(labels[i][:label_lengths[i]].tolist()))\n",
        "\n",
        "\t\t\t# get predicted text\n",
        "\t\t\tdecoded_preds = greedyDecoder(output)\n",
        "\n",
        "\t\t\t# calculate accuracy\n",
        "\t\t\tfor j in range(len(decoded_preds)):\n",
        "\t\t\t\ttest_cer.append(cer(decoded_targets[j], decoded_preds[j]))\n",
        "\t\t\t\ttest_wer.append(wer(decoded_targets[j], decoded_preds[j]))\n",
        "\n",
        "\tavg_cer = sum(test_cer)/len(test_cer)\n",
        "\tavg_wer = sum(test_wer)/len(test_wer)\n",
        "\tprint('Test set: Average loss: {:.4f}, Average CER: {:4f} Average WER: {:.4f}\\n'.format(test_loss, avg_cer, avg_wer))"
      ],
      "metadata": {
        "id": "TH_-5No4g-f9"
      },
      "execution_count": 4,
      "outputs": []
    },
    {
      "cell_type": "markdown",
      "source": [
        "# Lab4_proto.py"
      ],
      "metadata": {
        "id": "7Ij7-Lzk1u4A"
      }
    },
    {
      "cell_type": "code",
      "source": [
        "# DT2119, Lab 4 End-to-end Speech Recognition\n",
        "\n",
        "# Variables to be defined --------------------------------------\n",
        "import torch\n",
        "import torchaudio.transforms as T\n",
        "import torch.nn as nn\n",
        "'''\n",
        "train-time audio transform object, that transforms waveform -> spectrogram, with augmentation\n",
        "'''\n",
        "train_audio_transform = nn.Sequential(\n",
        "    T.MelSpectrogram(sample_rate=16000, n_mels=80),\n",
        "    T.FrequencyMasking(freq_mask_param=15),\n",
        "    T.TimeMasking(time_mask_param=35)\n",
        ")\n",
        "'''\n",
        "test-time audio transform object, that transforms waveform -> spectrogram, without augmentation\n",
        "'''\n",
        "test_audio_transform = nn.Sequential(\n",
        "    T.MelSpectrogram(sample_rate=16000, n_mels=80)\n",
        ")\n",
        "\n",
        "\n",
        "# Functions to be implemented ----------------------------------\n",
        "\n",
        "def intToStr(labels):\n",
        "    '''\n",
        "        convert list of integers to string\n",
        "    Args:\n",
        "        labels: list of ints\n",
        "    Returns:\n",
        "        string with space-separated characters\n",
        "    '''\n",
        "    if not all(isinstance(label, int) for label in labels):\n",
        "        raise ValueError(\"There can only be integers in labels list!\")\n",
        "\n",
        "    return ' '.join(map(str, labels))\n",
        "\n",
        "\n",
        "def strToInt(text):\n",
        "    '''\n",
        "        convert string to list of integers\n",
        "    Args:\n",
        "        text: string\n",
        "    Returns:\n",
        "        list of ints\n",
        "    '''\n",
        "    if not isinstance(text, str):\n",
        "        raise ValueError(\"Input must be a string!\")\n",
        "\n",
        "    return [int(part) for part in text.split()]\n",
        "\n",
        "\n",
        "# Mapping dictionaries\n",
        "char_to_int = {\n",
        "    \"'\": 0, \" \": 1, \"a\": 2, \"b\": 3, \"c\": 4, \"d\": 5, \"e\": 6, \"f\": 7, \"g\": 8,\n",
        "    \"h\": 9, \"i\": 10, \"j\": 11, \"k\": 12, \"l\": 13, \"m\": 14, \"n\": 15, \"o\": 16,\n",
        "    \"p\": 17, \"q\": 18, \"r\": 19, \"s\": 20, \"t\": 21, \"u\": 22, \"v\": 23, \"w\": 24,\n",
        "    \"x\": 25, \"y\": 26, \"z\": 27\n",
        "}\n",
        "\n",
        "int_to_char = {v: k for k, v in char_to_int.items()}\n",
        "\n",
        "\n",
        "def text_to_int(text):\n",
        "    \"\"\"\n",
        "        convert string to list of integers\n",
        "    Args:\n",
        "        text: string\n",
        "    Returns:\n",
        "        list of ints\n",
        "    \"\"\"\n",
        "    if not isinstance(text, str):\n",
        "        raise ValueError(\"Input must be a string.\")\n",
        "\n",
        "    return [char_to_int[char] for char in text]\n",
        "\n",
        "\n",
        "def int_to_text(labels):\n",
        "    \"\"\"\n",
        "        convert list of integers to string\n",
        "    Args:\n",
        "        labels: list of ints\n",
        "    Returns:\n",
        "        string with concatenated characters\n",
        "    \"\"\"\n",
        "    if not all(isinstance(label, int) for label in labels):\n",
        "        raise ValueError(\"All elements in the list must be integers.\")\n",
        "\n",
        "    return ''.join(int_to_char[label] for label in labels)\n",
        "\n",
        "\n",
        "def dataProcessing(data, audio_transform):\n",
        "    \"\"\"\n",
        "    process a batch of speech data\n",
        "    arguments:\n",
        "        data: list of tuples, representing one batch. Each tuple is of the form\n",
        "            (waveform, sample_rate, utterance, speaker_id, chapter_id, utterance_id)\n",
        "        audio_transform: audio transform to apply to the waveform\n",
        "    returns:\n",
        "        a tuple of (spectrograms, labels, input_lengths, label_lengths)\n",
        "        -   spectrograms - tensor of shape B x C x M x T\n",
        "            where B=batch_size, C=channel, T=time_frames, M=mel_band.\n",
        "            spectrograms are padded to the longest length in the batch.\n",
        "        -   labels - tensor of shape B x L where L is label_length.\n",
        "            labels are padded to the longest length in the batch.\n",
        "        -   input_lengths - list of half spectrogram lengths before padding\n",
        "        -   label_lengths - list of label lengths before padding\n",
        "    \"\"\"\n",
        "    spectrograms = []\n",
        "    labels = []\n",
        "    input_lengths = []\n",
        "    label_lengths = []\n",
        "\n",
        "    for (waveform, sample_rate, utterance, _, _, _) in data:\n",
        "        spectrogram = audio_transform(waveform)\n",
        "        spectrogram = spectrogram.squeeze(0).transpose(0, 1)\n",
        "        spectrograms.append(spectrogram)\n",
        "\n",
        "        label = text_to_int(utterance.lower())\n",
        "        labels.append(torch.tensor(label, dtype=torch.int32))\n",
        "\n",
        "        input_lengths.append(spectrogram.shape[0] // 2)\n",
        "        label_lengths.append(len(label))\n",
        "\n",
        "    spectrograms = nn.utils.rnn.pad_sequence(spectrograms, batch_first=True)\n",
        "    labels = nn.utils.rnn.pad_sequence(labels, batch_first=True)\n",
        "    spectrograms = spectrograms.unsqueeze(1).transpose(2, 3)\n",
        "\n",
        "    return spectrograms, labels, input_lengths, label_lengths\n",
        "\n",
        "\n",
        "def greedyDecoder(output, blank_label=28):\n",
        "    '''\n",
        "    Decode a batch of utterances.\n",
        "\n",
        "    Arguments:\n",
        "        output: network output tensor, shape B x T x C where B=batch_size, T=time_steps, C=characters\n",
        "        blank_label: id of the blank label token\n",
        "        int_to_char: function to convert character IDs to characters\n",
        "\n",
        "    Returns:\n",
        "        list of decoded strings\n",
        "    '''\n",
        "    batch_size = output.size(0)\n",
        "    time_steps = output.size(1)\n",
        "    decoded_output = []\n",
        "\n",
        "    for i in range(batch_size):\n",
        "        prev_char = -1\n",
        "        decoded_sequence = []\n",
        "        for t in range(time_steps):\n",
        "            max_prob_char = torch.argmax(output[i, t]).item()\n",
        "            if max_prob_char != blank_label and (t == 0 or max_prob_char != prev_char):\n",
        "                decoded_sequence.append(max_prob_char)\n",
        "            prev_char = max_prob_char\n",
        "\n",
        "        if int_to_char:\n",
        "            decoded_sequence = ''.join([int_to_char[c] for c in decoded_sequence])\n",
        "\n",
        "        decoded_output.append(decoded_sequence)\n",
        "\n",
        "    return decoded_output\n",
        "\n",
        "def levenshteinDistance(sequence1, sequence2):\n",
        "    '''\n",
        "    Calculate Levenshtein distance (edit distance) between two sequences.\n",
        "\n",
        "    Arguments:\n",
        "        sequence1: reference sequence\n",
        "        sequence2: sequence to compare against the reference\n",
        "\n",
        "    Returns:\n",
        "        edit distance (int)\n",
        "    '''\n",
        "    len_seq1, len_seq2 = len(sequence1), len(sequence2)\n",
        "    matrix = [[0] * (len_seq2 + 1) for _ in range(len_seq1 + 1)]\n",
        "\n",
        "    for i in range(len_seq1 + 1):\n",
        "        matrix[i][0] = i\n",
        "    for j in range(len_seq2 + 1):\n",
        "        matrix[0][j] = j\n",
        "\n",
        "    for i in range(1, len_seq1 + 1):\n",
        "        for j in range(1, len_seq2 + 1):\n",
        "            if sequence1[i - 1] == sequence2[j - 1]:\n",
        "                matrix[i][j] = matrix[i - 1][j - 1]\n",
        "            else:\n",
        "                matrix[i][j] = min(matrix[i - 1][j] + 1,\n",
        "                                   matrix[i][j - 1] + 1,\n",
        "                                   matrix[i - 1][j - 1] + 1)\n",
        "\n",
        "    return matrix[len_seq1][len_seq2]\n"
      ],
      "metadata": {
        "id": "tjhV1s_TzPyw"
      },
      "execution_count": 5,
      "outputs": []
    },
    {
      "cell_type": "markdown",
      "source": [
        "# 3 **Data**"
      ],
      "metadata": {
        "id": "258dy9vpHllW"
      }
    },
    {
      "cell_type": "markdown",
      "source": [
        "## 3.1 Representing text"
      ],
      "metadata": {
        "id": "R_64hkyuHqkk"
      }
    },
    {
      "cell_type": "code",
      "source": [
        "# I don't think he wants testStr and strToInt, despite having them in the proto.\n",
        "# He probably wants text_to_int(text) and int_to_text(labels), as per the instructions.\n",
        "testStr = intToStr([3, 2, 6, 5, 4, 3])\n",
        "print(type(testStr))\n",
        "testStr"
      ],
      "metadata": {
        "colab": {
          "base_uri": "https://localhost:8080/",
          "height": 53
        },
        "id": "SpfVk3GvxidO",
        "outputId": "f64eb240-12c6-434d-e366-ea05e2aeeabf"
      },
      "execution_count": 6,
      "outputs": [
        {
          "output_type": "stream",
          "name": "stdout",
          "text": [
            "<class 'str'>\n"
          ]
        },
        {
          "output_type": "execute_result",
          "data": {
            "text/plain": [
              "'3 2 6 5 4 3'"
            ],
            "application/vnd.google.colaboratory.intrinsic+json": {
              "type": "string"
            }
          },
          "metadata": {},
          "execution_count": 6
        }
      ]
    },
    {
      "cell_type": "code",
      "source": [
        "labels = strToInt(testStr)\n",
        "print(type(labels))\n",
        "labels"
      ],
      "metadata": {
        "colab": {
          "base_uri": "https://localhost:8080/"
        },
        "id": "fn5aB72F0KmJ",
        "outputId": "3af6757b-1ec2-43c4-daa8-d35d02321d88"
      },
      "execution_count": 7,
      "outputs": [
        {
          "output_type": "stream",
          "name": "stdout",
          "text": [
            "<class 'list'>\n"
          ]
        },
        {
          "output_type": "execute_result",
          "data": {
            "text/plain": [
              "[3, 2, 6, 5, 4, 3]"
            ]
          },
          "metadata": {},
          "execution_count": 7
        }
      ]
    },
    {
      "cell_type": "markdown",
      "source": [
        "![image.png](data:image/png;base64,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)"
      ],
      "metadata": {
        "id": "MEmO26ER3C0T"
      }
    },
    {
      "cell_type": "code",
      "source": [
        "all_char_string = \"' abcdefghijklmnopqrstuvwxyz\"\n",
        "int_list = text_to_int(all_char_string)\n",
        "print(*int_list)"
      ],
      "metadata": {
        "colab": {
          "base_uri": "https://localhost:8080/"
        },
        "id": "xz8MhXw_2WsN",
        "outputId": "7457e2ec-3856-44f6-fe33-b4276c0fd3c8"
      },
      "execution_count": 8,
      "outputs": [
        {
          "output_type": "stream",
          "name": "stdout",
          "text": [
            "0 1 2 3 4 5 6 7 8 9 10 11 12 13 14 15 16 17 18 19 20 21 22 23 24 25 26 27\n"
          ]
        }
      ]
    },
    {
      "cell_type": "code",
      "source": [
        "#int_list = [i for i in range(0,27+1)]\n",
        "resulting_char_string = int_to_text(int_list)\n",
        "print(resulting_char_string)\n",
        "assert resulting_char_string == all_char_string"
      ],
      "metadata": {
        "colab": {
          "base_uri": "https://localhost:8080/"
        },
        "id": "gqkJZCR63F7Y",
        "outputId": "29a14475-8212-4531-f69a-bfbdb0807e9c"
      },
      "execution_count": 9,
      "outputs": [
        {
          "output_type": "stream",
          "name": "stdout",
          "text": [
            "' abcdefghijklmnopqrstuvwxyz\n"
          ]
        }
      ]
    },
    {
      "cell_type": "markdown",
      "source": [
        "## 3.2 Representation and augmentation of the speech signal"
      ],
      "metadata": {
        "id": "HwabbpbdHzoi"
      }
    },
    {
      "cell_type": "code",
      "source": [
        "example = torch.load('lab4_example.pt')\n",
        "example.keys()"
      ],
      "metadata": {
        "colab": {
          "base_uri": "https://localhost:8080/"
        },
        "id": "VzUhjnvC8Qyk",
        "outputId": "5da8e80d-fb23-4edd-a573-282551d99a4a"
      },
      "execution_count": 10,
      "outputs": [
        {
          "output_type": "execute_result",
          "data": {
            "text/plain": [
              "dict_keys(['data', 'spectrograms', 'labels', 'input_lengths', 'label_lengths'])"
            ]
          },
          "metadata": {},
          "execution_count": 10
        }
      ]
    },
    {
      "cell_type": "code",
      "source": [
        "print(len(example['data']))\n",
        "print(\"First value: \\n--------\")\n",
        "example['data'][0]"
      ],
      "metadata": {
        "colab": {
          "base_uri": "https://localhost:8080/"
        },
        "id": "gWnAjbNtBJYd",
        "outputId": "58af146d-d256-4efd-e980-78ff635ed594"
      },
      "execution_count": 11,
      "outputs": [
        {
          "output_type": "stream",
          "name": "stdout",
          "text": [
            "5\n",
            "First value: \n",
            "--------\n"
          ]
        },
        {
          "output_type": "execute_result",
          "data": {
            "text/plain": [
              "(tensor([[0.0003, 0.0003, 0.0004,  ..., 0.0021, 0.0021, 0.0016]]),\n",
              " 16000,\n",
              " 'HE HOPED THERE WOULD BE STEW FOR DINNER TURNIPS AND CARROTS AND BRUISED POTATOES AND FAT MUTTON PIECES TO BE LADLED OUT IN THICK PEPPERED FLOUR FATTENED SAUCE',\n",
              " 1089,\n",
              " 134686,\n",
              " 0)"
            ]
          },
          "metadata": {},
          "execution_count": 11
        }
      ]
    },
    {
      "cell_type": "code",
      "source": [
        "print(example['spectrograms'].shape)\n",
        "print(\"First value: \\n--------\")\n",
        "example['spectrograms'][0]"
      ],
      "metadata": {
        "colab": {
          "base_uri": "https://localhost:8080/"
        },
        "id": "uASeeSFJBQiA",
        "outputId": "36561610-a575-4f32-a6fa-c4351c1b0810"
      },
      "execution_count": 12,
      "outputs": [
        {
          "output_type": "stream",
          "name": "stdout",
          "text": [
            "torch.Size([5, 1, 80, 835])\n",
            "First value: \n",
            "--------\n"
          ]
        },
        {
          "output_type": "execute_result",
          "data": {
            "text/plain": [
              "tensor([[[2.6046e-03, 1.2348e-03, 1.4951e-03,  ..., 1.5157e-03,\n",
              "          3.5274e-03, 2.5832e-03],\n",
              "         [9.4290e-03, 4.4699e-03, 5.4125e-03,  ..., 5.4870e-03,\n",
              "          1.2769e-02, 9.3513e-03],\n",
              "         [1.2107e-04, 3.9373e-03, 1.8843e-03,  ..., 4.5020e-03,\n",
              "          4.6623e-03, 6.7429e-03],\n",
              "         ...,\n",
              "         [2.3236e-06, 1.2590e-05, 3.3010e-06,  ..., 9.8374e-06,\n",
              "          1.7321e-05, 6.5594e-06],\n",
              "         [1.6269e-06, 1.6525e-05, 8.5944e-06,  ..., 9.9509e-06,\n",
              "          7.6597e-06, 9.3466e-06],\n",
              "         [3.0970e-06, 1.5812e-05, 7.8631e-06,  ..., 9.8372e-06,\n",
              "          1.7456e-05, 1.1849e-05]]])"
            ]
          },
          "metadata": {},
          "execution_count": 12
        }
      ]
    },
    {
      "cell_type": "code",
      "source": [
        "print(example['labels'].shape)\n",
        "print(\"First value: \\n--------\")\n",
        "example['labels'][0]"
      ],
      "metadata": {
        "colab": {
          "base_uri": "https://localhost:8080/"
        },
        "id": "tWEv8I_OBaKY",
        "outputId": "dd06f7fd-b014-4794-807e-6130ca149689"
      },
      "execution_count": 13,
      "outputs": [
        {
          "output_type": "stream",
          "name": "stdout",
          "text": [
            "torch.Size([5, 158])\n",
            "First value: \n",
            "--------\n"
          ]
        },
        {
          "output_type": "execute_result",
          "data": {
            "text/plain": [
              "tensor([ 9.,  6.,  1.,  9., 16., 17.,  6.,  5.,  1., 21.,  9.,  6., 19.,  6.,\n",
              "         1., 24., 16., 22., 13.,  5.,  1.,  3.,  6.,  1., 20., 21.,  6., 24.,\n",
              "         1.,  7., 16., 19.,  1.,  5., 10., 15., 15.,  6., 19.,  1., 21., 22.,\n",
              "        19., 15., 10., 17., 20.,  1.,  2., 15.,  5.,  1.,  4.,  2., 19., 19.,\n",
              "        16., 21., 20.,  1.,  2., 15.,  5.,  1.,  3., 19., 22., 10., 20.,  6.,\n",
              "         5.,  1., 17., 16., 21.,  2., 21., 16.,  6., 20.,  1.,  2., 15.,  5.,\n",
              "         1.,  7.,  2., 21.,  1., 14., 22., 21., 21., 16., 15.,  1., 17., 10.,\n",
              "         6.,  4.,  6., 20.,  1., 21., 16.,  1.,  3.,  6.,  1., 13.,  2.,  5.,\n",
              "        13.,  6.,  5.,  1., 16., 22., 21.,  1., 10., 15.,  1., 21.,  9., 10.,\n",
              "         4., 12.,  1., 17.,  6., 17., 17.,  6., 19.,  6.,  5.,  1.,  7., 13.,\n",
              "        16., 22., 19.,  1.,  7.,  2., 21., 21.,  6., 15.,  6.,  5.,  1., 20.,\n",
              "         2., 22.,  4.,  6.])"
            ]
          },
          "metadata": {},
          "execution_count": 13
        }
      ]
    },
    {
      "cell_type": "code",
      "source": [
        "example['input_lengths']"
      ],
      "metadata": {
        "colab": {
          "base_uri": "https://localhost:8080/"
        },
        "id": "X576s7r0Bdg6",
        "outputId": "fc66a24b-8b24-4f62-ed76-c62b4eda2bc0"
      },
      "execution_count": 14,
      "outputs": [
        {
          "output_type": "execute_result",
          "data": {
            "text/plain": [
              "[417, 131, 265, 107, 209]"
            ]
          },
          "metadata": {},
          "execution_count": 14
        }
      ]
    },
    {
      "cell_type": "code",
      "source": [
        "example['label_lengths']"
      ],
      "metadata": {
        "colab": {
          "base_uri": "https://localhost:8080/"
        },
        "id": "Y2IV2oy1Bg42",
        "outputId": "7da0929e-e59c-4717-9555-83e919016da9"
      },
      "execution_count": 15,
      "outputs": [
        {
          "output_type": "execute_result",
          "data": {
            "text/plain": [
              "[158, 42, 104, 34, 59]"
            ]
          },
          "metadata": {},
          "execution_count": 15
        }
      ]
    },
    {
      "cell_type": "code",
      "source": [
        "# Process the example data using train_audio_transform\n",
        "spectrograms_train, labels_train, input_lengths_train, label_lengths_train = dataProcessing(example['data'], train_audio_transform)\n",
        "\n",
        "# Process the example data using test_audio_transform\n",
        "spectrograms_test, labels_test, input_lengths_test, label_lengths_test = dataProcessing(example['data'], test_audio_transform)\n",
        "\n",
        "# spectrogram tensor, shape: (batch, channels, mel bands, time frames)\n",
        "# labels tensor, shape: (batch, label length)\n",
        "# input_lengths int list, Li = Ti / 2\n",
        "# label_lengths int list, corresponding to length of label strings\n",
        "\n",
        "print(\"Training Data:\")\n",
        "print(\"Spectrograms:\", spectrograms_train.shape)\n",
        "print(\"Labels:\", labels_train.shape)\n",
        "print(\"Input Lengths:\", input_lengths_train)\n",
        "print(\"Label Lengths:\", label_lengths_train)\n",
        "\n",
        "print(\"\\nTesting Data:\")\n",
        "print(\"Spectrograms:\", spectrograms_test.shape)\n",
        "print(\"Labels:\", labels_test.shape)\n",
        "print(\"Input Lengths:\", input_lengths_test)\n",
        "print(\"Label Lengths:\", label_lengths_test)\n",
        "\n",
        "assert spectrograms_train.shape == spectrograms_test.shape\n",
        "assert spectrograms_train.shape == example['spectrograms'].shape\n",
        "assert spectrograms_test.shape == example['spectrograms'].shape\n",
        "assert input_lengths_train == input_lengths_test\n",
        "assert label_lengths_train == label_lengths_test\n",
        "assert input_lengths_train == example['input_lengths']\n",
        "assert label_lengths_train == example['label_lengths']\n",
        "assert input_lengths_test == example['input_lengths']\n",
        "assert label_lengths_test == example['label_lengths']"
      ],
      "metadata": {
        "colab": {
          "base_uri": "https://localhost:8080/"
        },
        "id": "QBv2PPku6zmp",
        "outputId": "0a66b144-76aa-4711-e126-79a113167cb7"
      },
      "execution_count": 16,
      "outputs": [
        {
          "output_type": "stream",
          "name": "stdout",
          "text": [
            "Training Data:\n",
            "Spectrograms: torch.Size([5, 1, 80, 835])\n",
            "Labels: torch.Size([5, 158])\n",
            "Input Lengths: [417, 131, 265, 107, 209]\n",
            "Label Lengths: [158, 42, 104, 34, 59]\n",
            "\n",
            "Testing Data:\n",
            "Spectrograms: torch.Size([5, 1, 80, 835])\n",
            "Labels: torch.Size([5, 158])\n",
            "Input Lengths: [417, 131, 265, 107, 209]\n",
            "Label Lengths: [158, 42, 104, 34, 59]\n"
          ]
        }
      ]
    },
    {
      "cell_type": "code",
      "source": [
        "# Check that spectrograms_tests are sufficiently close to example['spectrograms']\n",
        "eps = 1e-06\n",
        "n = len(example['input_lengths'])\n",
        "for idx in range(0, n):\n",
        "  diff_per_elem = torch.sum(torch.abs(spectrograms_test[idx] - example['spectrograms'][idx])) / torch.numel(spectrograms_train[idx])\n",
        "  #print(diff_per_elem)\n",
        "  assert diff_per_elem < eps"
      ],
      "metadata": {
        "id": "OJcPzyGZFSWW"
      },
      "execution_count": 17,
      "outputs": []
    },
    {
      "cell_type": "markdown",
      "source": [
        "# 4 The model"
      ],
      "metadata": {
        "id": "RbtvAPxoIDP5"
      }
    },
    {
      "cell_type": "markdown",
      "source": [
        "The model starts with an **Input: MelSpectrogram**, which represents the speech signal as a time-frequency representation. The **Conv2D Layer** processes these spectrograms to extract initial low-level features from the input. These features are further refined by **Residual CNN Layers**, which include residual connections to help with gradient flow and capture complex patterns in the data. The **Bidirectional GRU Layers** then model temporal dependencies in both forward and backward directions, providing a comprehensive understanding of the context within the speech signal. Additional sequential modeling is performed by **RNN Layers**, which further process the temporal information. The **Fully Connected Layer** then maps the extracted features to a higher-dimensional character space. Finally, the **LogSoftMax Activation** layer converts the outputs to log probabilities for each character, resulting in the **Output: Character Probabilities** used for decoding the speech into text.\n"
      ],
      "metadata": {
        "id": "guOkD8YUendt"
      }
    },
    {
      "cell_type": "markdown",
      "source": [
        "![image.png](data:image/png;base64,iVBORw0KGgoAAAANSUhEUgAAAxoAAAHiCAIAAADgfC1YAAAgAElEQVR4AeydCVQUV77/b+/N3uw0goKsCoqKC6IoCArKIqgguEVUQFERVxAQlMV2JZviRM0yxjiJW8zimKgk0bgvPZPdmZfEiWaM2pn3zsz5R50lvr948+7UNNAg3UBV9dfDSW5X3Xvrdz+/KupzbhW3yf/iHwiAAAiAAAiAAAiAgBkEiBlt0RQEQAAEQAAEQAAEQOB/oVM4CUAABEAABEAABEDALALQKbPwoTEIgAAIgAAIgAAIQKdwDoAACIAACIAACICAWQSgU2bhQ2MQAAEQAAEQAAEQgE7hHAABEAABEAABEAABswhAp8zCh8YgAAIgAAIgAAIgAJ3COQACIAACIAACIAACZhGATpmFD41BAARAAARAAARAADqFcwAEQAAEQAAEQAAEzCIAnTILHxqDAAiAAAiAAAiAAHQK5wAIgAAIgAAIgAAImEUAOmUWPjQGARAAARAAARAAAegUzgEQAAEQAAEQAAEQMIsAdMosfGgMAiAAAiAAAiAAAtApnAMgAAIgAAIgAAIgYBYB6JRZ+NAYBEAABEAABEAABKBTOAdAAARAAARAAARAwCwC0Cmz8KExCIAACIAACIAACECncA6AAAiAAAiAAAiAgFkEoFNm4UNjEAABEAABEAABEIBO4RwAARAAARAAARAAAbMIQKfMwofGIAACIAACIAACIACdwjkAAiAAAiAAAiAAAmYRgE6ZhQ+NQQAEQAAEQAAEQAA6hXMABEAABEAABEAABMwiAJ0yCx8agwAIgAAIgAAIgAB0CucACIAACIAACIAACJhFADplFj40BgEQAAEQAAEQAAHoFM4BEAABEAABEAABEDCLAHTKLHxoDAIgAAIgAAIgAALQKZwDIAACIAACIAACIGAWAeiUWfjQGARAAARAAARAAASgUzgHQAAEQAAEQAAEQMAsAtAps/ChMQiAAAiAAAiAAAhAp3AOgAAIgAAIgAAIgIBZBKBTZuFDYxAAARAAARAAARCATuEcAAEQAAEQAAEQAAGzCECnzMKHxiAAAiAAAiAAAiAAncI5AAIgAAIgAAIgAAJmEYBOmYUPjUEABEAABEAABEAAOoVzAARAAARAAARAAATMIgCdMgsfGoOAOQTu3bt36NChRYsW5eTkpOIfCHSUQE5OzqJFiw4dOnTv3j1zTki0BQEQ6DAB6FSH0aEhCHScwJdffpmdnW1rZ0cI8egVEBAZHRozrs+oRPyAwJMSCI0ZFxAZ7dErgBBiZ2+fnZ395ZdfdvzUREsQAIEOEYBOdQgbGoGAGQQ+//xzV3d3Nx+/cYWrl715Qac34AcEzCew7M0L4wpXu/n4uXl4fP7552acoWgKAiDwxASgU0+MDA1AwBwCX3zxhau7e4+Q8IrGa+bfQdEDCBgRqGi81iMk3NXd/YsvvjDnREVbEACBJyIAnXoiXKgMAuYSmDxlipuvP1zKSALw0YIEKhqvufn6T8nMNPdkRXsQAIF2E4BOtRsVKoKA2QT+3//7f2obm8TFFRa8d6IrEGhOIHFRuY2t7U8//WT2OYsOQAAE2kUAOtUuTKgEAhYhsH//fkLIircuNb//YQsIWJDA8iMXCSEHDhywyHmLTkAABNokAJ1qExEqgIDFCMyfP98rIMSCd010BQKtEfDqHbxgwQKLnbvoCARAwCQB6JRJPNgJAhYlkJmZGTRsdGv3P2wHAQsSCBw6Kisry6LnLzoDARBolQB0qlU02AECFieQmJQUFpdswVumcLvSaH0HpU4Vbvz8jzwsLjkxKcni5zA6BAEQaJEAdKpFLNgIAp1CIDEpKTw+pbU78ZS1zxFCFu490VoFC25fd/a7+PyVeTuPPFGf8fkrCSESiaTkt7/nNqw6/a1cpSaERGXN4W43UTbSqVXvXo1MzXbx8ZMrVfau7n4Do8bkrTDR3FK7xi0sm7H115bqjVf9hMenQKc65TJGpyDQEgHoVEtUsA0EOocAf3SqovEaISQ+f+UTGQDVKblKnVRUyW04Ze1z5ujU8iMX1Q5ODm6ecXOXTlpTn7CgtG/cBLlSxT1EJ5WVNrZinSSDTnXORYxeQaBlAtCplrlgKwh0BgFx6FTYmGRtSDjXbwKjYsPjUzo8OxWVmSuVy1e9q+f2WX7yS+7HTiq3qVPrzv7Jsoe2eIethQed6oxLGH2CQGsEoFOtkcF2ELA8gSfSqUGpU5U2tqXvfdo3drzSxtZO4xozs7Du8m16+1z17lVCyPjitcnLajRePnKV2n/Q8CX7T7Obq39ktH9kNPuo0xsGpU7VaH11egNtSzj/6DRV7cVbSw+dW/3+Z9xW3DKdnZq++SVCyNJD5+iusuOfS2Wy6ZtfNtKpmgvfj8lb4eLjJ1MonTy9R81aVHPhe9Yb92Ff0PA4Z++ebFfzgkbrGzJybO72/drgMLlS5eEfPH3zy9xqlae+js7Jd/L0limULj5+SUVr6q7cYRXqrtxJWVHrGdhHrlTZaVyDhsfRJ6ocAE1FOk1Fx1h88ExE0iS1gxMVx9pLPyQsKKVj0Wh9Y3OXcMdSd+VOfP5KBzdPhdqm9+ARxQfPcEdHn+Hm7ToyLDPXztlN7eD0OAX6YZm5br0C5Cq1jZNzeELqqnevsoBpk4IX3xmePc9O46q2dxw6aVbNxT9Xnvp6YHKW2sFJ7eA0atai9VfvsibNC9Apy1/A6BEEWicAnWqdDfaAgKUJPKlOyVVqz4DQwROnpZdtptM/E1dvojdOqkRegX2dvXsmFVUmzC+xcXK2c3YrO/EFrWBCp9ad/VN62eZH6xKFxSVn1TRk1TQUvf4R0ywTD7+oapQ3fuXk6T0mbzk9UMqKWrW9Y82F77k6VXflTlBUrEJtO2JaQUb51uFT50rl8r6x49ldnyscQyfNkspk8351mO01Kmi0vm69AtQOTqNzi5KX1XgF9pVIpXMaDtBq685+5xUUZqtxiZ1TnF62ZWBKlkQiic7JZ51EpmYTQoJHxKesqJ2wdF3f2PGpq3Q6vSGrpkGuVPkNjKIQ5r/8W53eQMfo0Tukb+z4ias3pZVupCZKCAlPSE0r3TgwJYsQ0jduAut/1FOLCSF9RiWmlWwYkjHTydPbTuPKMFI38ugd4h8ZnbpKl1S0Rqc3TNv0ojY4bEzeioyK+tg5xTaOGo3Wd93Z72iftIk2JDw4ekzTEZObjjjqqcV+A4ZFjJ88cfWm0JhxhJDM6m0shuYF6JSlL1/0BwKmCECnTNHBPhCwLIEn1SlCSMKCUnan9A7t16NPBP1IdUqhtil971O6pXDP+4SQEdPn048mdEqnN7T47hTtk3kAOy4rUNWoaLwWM3Ohq68/3e4TNjAyLUenN3B1KqumQSKVFrz4DmubXraFEDL/5aN0C1enig98rFDbEEK0IeHROfkz6/cwsWCVCSFsRqrq9LcObp7eof3o3rGFpUob2+VH/v1l0qNzi6QyGX1fft4LbxJConPyWCQ6vYHN6zR/2EfHGJE0idUvev1DQsiQjBlsS8zMhYSQeS+8qdMbyk580WSKHLuKL1jF5rp0egN1I78Bw9jMok5vqD53g/Wm0xsWvHLssR5tpxtpk6DhcSzOnv2HSCSSYVNm0wp1l287eXobzT5yO9TpDdApy1686A0ETBOATpnmg70gYEkCHdCp8sav2G0yOifPxlFDP1L14d71dXqDb3iku18grdABnWIHaq3AdGrxvkZCSOGrx+nq23N3HDTSqT6jkzwDQisar7Gf5UcuEELGFa6mnXN1Sqc3LHvzwoAJmWoHJ/oATmlrl1FRz8LQaH0d3b2YW+j0htGzmyaEyo5/rtMbvILCgqPHsANVNF6bu+MQISSrdodOb4jKmiORSNZ8+EfWG7fQmk7l73qLVUtcVN70cPPgWbal7PjnhJCYmYU6vWFq3a8IIWyqTKc3rPnwj811qrWZpNqLtyo++ENF4zW1g9OIaQX0EFSnpm3czY44YlqB0V999o2b4OTVg1VoXoBOWfLSRV8g0BYB6FRbhLAfBCxH4El1Sq5Sc2+T1GboFqpTRqsJDEzOYn8Q16k6pdMb3P2CRkwriC9Y5eDmQV9U4s5OefgHG72ZRD+yWSIjnaKDqrt8e8kbpxIXlVOvopam0xs0Wl//QcO5KCZXPkMIWfDKMZ3eQGe2mh8ueVmNTm8Ijh7j6KHltuWWW9Mp7koQQyc/JZFKay/e4jZUOziFJ6Tq9AYqWyvfucLda+OoYZN81I3yd7/NrVB97saYvOVOnt4SiYRFTif52ITWgl+/x5rQ1LMnufT5o9LWjlVoXoBOWe7CRU8g0DYB6FTbjFADBCxF4El1Smljy71NPpFO9R48wuhh0IAJmfRV9NYe9nGP1WKZzU7p9IaEBaUObp5uvQLYW0pcnXL3C/QK7Dt3x0Gjn2WHz9OeW9QpdtC8nUcIIZGp2ayyCZ2SK1WBUbFGB5q742DJ0d91WKcqGq+xYH7RqUs/sC06veFJdcpoObHB6dMlUunIGQumbXpxTsOBuTsO2mpcjAyM24RLnoZB/1KBG5JRGTplqcsW/YBAewhAp9pDCXVAwDIELK5TJh72hcUla4PDuLdYv4FR/9apD/7Q4XWnqGqseOsSnVYp3PM+PQpXp0JGJjh6aLmP57iR0AknZg9Gux49N1x75johJGh4HN1l+mGfR++Qnv2HNO+EbmnjYZ+tnVEYzcWlhYd9J74w8bCv4jFb1i2dneK6UZON2TuyuaimV6nO35TKZCaaNI8KOmWZaxK9gICFCECnLAQS3YBAOwhYXKdaeBX9/96/iZm5UK5UsVevil7/UCKVMp2qPnfj8Qva//7zN53e0M6FEtjMTcqK2sTFFcxjuDo1Zd3zhJCM8q1sL33/mq26xJ2dyt/9ttGjtJwNu7jvj2u0vs1fRWdrX9FXv3O3vcE9VuWpr2sfzyeZfhXd3tWd+/eG7C/72Bh1egN9FX3opFmsf/qnfNxX0bnfHdTiq+hGOmXj5Mzm3nR6w/glVc1ft+I2gU614/JCFRDoTgLQqe6kj2NbGwGL69S/F0pYUGrj5GyrcWGrRi09eFYilXqH9ksr2TAmb4W9i7tXYF+mUzq9waN3iIObR1rpxmzdTrpgVfv/so+JBbfA1am6K3dCRiZIJJL+iRmpq3QpK2qHTZlt4+TMFIGrUyEjxzq4eURl5qaXbUkv2zJ00iy6GhN7Iek/FkpY/stCCcyf1p39zju0v1QuH5IxI71s84Sl6+jMDVMiutBA00IJK+uSl9eEjUmmCyXo9IaQkQlKG9sJy6qzdTvpu0rNxYUtlNBv7MS00o2DUqcaLZQQM7Pwl4USSjcOnTTLyauHncaV2VKLs1MDU7KkMll0Tn5G+dbI1GwnT2887LO23wYYr8gIQKdEllAMh9cELK5T44vXTlhW7eTVg66fRJePYoqTVbuDrjypDQnP3b6fLeNJK8x/+bc9+kTIFEr21M+COkXnupKKKj0DQuVKlY2jpkefiIT5JVWnv6VH5+rU/JePRmXN8Qzs82j9KplcofHyiUzNXvn2ZTYQtoynV1DTMp7ufkHTNr3I9tKHg7G5S1x9/WUKpZ3GtVfEkAlL17EZr7rLt8cXr3X3C2ra6+wWPCJ+0WsnafNlh8/7DxpOX2anz9pa1KmmZTznlzj36CWTK5y8ehgv43n59pi85Y9eyVeobQKGxCw9dM5W48IWNWhRpypPfR2ZlmOncVXa2gUNj1t2+DwXSPMmzaPCwz5eX+oIzvoIQKesL+cYcfcRMK1TXD9os0zVZ3zx2jZriqAC1SmhDKTy1NfcJSG6K2y8it59FzqObI0EoFPWmHWMubsIQKc65hY81ymjNTnpTFLBS+92bLCWagWd6q7LHMe1TgLQKevMO0bdPQSgUx1zBZ7r1JS1z/lHRicVVaaVboxImtT0N4lRsR0bqQVbQae65yLHUa2VAHTKWjOPcXcHAehUx3SB5zq16LWTAUNH2Wpcmt6s8vSOzslfe+Z6x0ZqwVbQqe64xHFM6yUAnbLe3GPkXU8gOTm5z+gkC94y0RUItEagz+ik5OTkrj/JcUQQsE4C0CnrzDtG3T0Epk2b1jvyP74spbV7IbaDgJkEekcOnz59evec6DgqCFgfAeiU9eUcI+4+AiUlJY6u7nWXb5t5p0RzEDBNoO7ybUdX95KSku472XFkELAuAtAp68o3Rtu9BM6dO0cIydt1xPS9EHtBwEwC9EsPz58/370nPI4OAtZDADplPbnGSLufwM8//9zDxzcqa46ZN0s0BwHTBKIyc3v4+D58+LD7T3pEAALWQQA6ZR15xih5Q2DlypUKlXrujkOmb4fYCwIdJjB3xyGFSr1y5UrenPUIBATETwA6Jf4cY4S8InD//v3ExCSFSs2+cq7Dd000BIHmBHK3vaFQqRMTk+7fv8+rMx/BgIC4CUCnxJ1fjI6PBKhREUK8g/omLChd/JsPyk9+WX3uRs2F7/EDAk9KoPrcjfKTXy7+zQcJC0q9g/oSQuBSfLzsEZPYCUCnxJ5hjI+XBP7+978fPnw4JyfHzt6e4B8IWIKAnb19Tk7O4cOH//73v/PyrEdQICBmAtApMWcXY+M/gXv37n388cdHjhx5Ff9AoKMEjhw58vHHH9+7d4//JzwiBAGxEoBOiTWzGBcIgAAIgAAIgEAXEYBOdRFoHAYEQAAEQAAEQECsBKBTYs0sxgUCIAACIAACINBFBKBTXQQahwEBEAABEAABEBArAeiUWDOLcYEACIAACIAACHQRAehUF4HGYUAABEAABEAABMRKADol1sxiXCAgEgKfffZZenr6Z599JpLxYBggAAJiJACdEmNWMSYQEBGBwsJCQkhhYaGIxoShgAAIiI0AdEpsGcV4QEBkBKBTIksohgMCoiQAnRJlWjEoEBAPAeiUeHKJkYCAeAlAp8SbW4wMBERBADolijRiECAgcgLQKZEnGMMDAaETgE4JPYOIHwSsgQB0yhqyjDGCgIAJQKcEnDyEDgJWQwA6ZTWpxkBBQJgEoFPCzBuiBgHrIgCdsq58Y7RWTuDmzZvHjx9/4403XhXOv/j4eEJIfHy8cEJ+9Y033jh+/PjNmzet/HzD8EHAeghAp6wn1xip9RL4/vvv6+vrhw6LIvjXtQSGDouqr6///vvvrffkw8hBwDoIQKesI88YpRUT0Ov1GmdnuULZd3RSVk3DyneuVJ36pubC9/jpPAJVp75Z+c6VrJqGvqOT5AqlxtlZr9db8TmIoYOA+AlAp8SfY4zQmglQl/ING1jxwR90egN+up5AxQd/6Bk2EEZlzZchxm4NBKBT1pBljNFKCfzzn//09PLyDRtYeerrrtcIHJERqDz1dc+wgZ5eXv/85z+t9FzEsEFA7ASgU2LPMMZnxQROnjxJCFm49wS7r6PQXQQKXz1OCDl58qQVn48YOgiImQB0SszZxdisnEB+fr5rj57rr97tLofAcRmB9VfvuvboWVBQYOXnJIYPAmIlAJ0Sa2YxLhD4X3cPz5iZC9kdHYXuJRAzc6G7hyfOSxAAAVESgE6JMq0YFAj87z/+8Q9CyOSqZ7vXIXB0RmBy1bOEkH/84x84O0EABMRHADolvpxiRCDQRMBgMBBCZmx5hd3OUeheAjO2vPLoVTaDwYATFARAQHwEoFPiyylGBAJNBG7fvk0ImfXMa93rEDg6IzDrmdcIIbdv38YJCgIgID4C0Cnx5RQjAoEmAu3UqRVvXRo6aZZzj15ypUplZ98rYkjKitrqczeYBHRSofDV41FZczx6hyjUtk5ePfqNTVv25gXusfwjo+kC5hKJRGVn79YrYMCEzDkNB7h1mpcHpU5V2tg2386HLdApXJkgIGIC0CkRJxdDs2oC7dGpp559TaG2UTs4RefkZVTUp5Vs6J+YIZMrhmTM7Gz/CI9PcXDzGJ49b9Ka+rGFpfau7kob2yX7T7Pj+kdGO3l6Z9U0ZNU0pJdtiZm50MXHjxDSb+zE2ou3WDWjAnTKqk96DB4Euo8AdKr72OPIINCZBNrUqZXvXFHa2rn7Ba1+/zOulCw/cjFlRS13S2eU5798tObin1nPy49ckCtVA8ZPYVv8I6M9A0LZR53eUHf5dlRmLiFk1FOLudu5ZT7oVPX5m3VX7nCjomXMTnXm+Y6+QaCbCUCnujkBODwIdBKBNnVq2JTZj17lmf/y0eY3fral9tIPCQtKXXz8ZAqlRusbm7uk5sL3bK9G6xsycmzBi+/4hA2UK1XOPXplVm+jexfuPUEImbLueVZZpzfkbnvDxOtc3qH9vUP7s/rNdYoaFX0+WHXqG1aTWzChU6ve1Q/LzHXrFSBXqW2cnMMTUle9e5W2Xfn2ZUJI8rIablfzXz5KCJm6/gW6sfS9TyPTcuxd3GUKpUfvkMmVz7DKeTuPEEKydTvj5i51dPeSSCQtLkMPneqkUx3dggAfCECn+JAFxAAClifQpk45emhdfPyYE7RYGJQ6lRASnpCaVrpxYEoWIaRv3ARWU6P1dfcLtHd1j51TnFaywTu0v0QiKT7wMa3g4uMXMjKBVdbpDZFpOTaOmhYf1a2/etfRQxsUFcvqt6hTOr1hbGEpIeSpZ1t+xd6ETk3b9KI2OGxM3oqMivrYOcU2jhqN1nfd2e/oEXsNGNqjTwQ7uk5viMrMVdnZ0wplJ75w8vR28uqRsKA0vWxzn9FJTfq1/Bf9ojrl0TtEGxKevKwmcXEF65bbIXTK8mc5egQB3hCATvEmFQgEBCxKwLROVZ3+tsmNYsdz7/dG5aLXPySEDMmYwbbHzFxICJn3wpt0i0brSwjJ3/02/Vje+JVcqYqZWUg/PprKkskVlR/9F/1Yc/HPagenwROn0Y9G/82qaWhaJYsz5dOaTs3Y+mtCSMrKOqMe6EcTOmX0fv2CV44RQjKrt9OGGeVbCSFLD52jH2sv3rLTuA5KnUo/Dk6f7uDmyf0a6f6JGWp7R9on1SkXHz+jQ9C27L/QKYue4OgMBPhFADrFr3wgGhCwFAHTOlV67BNCyIAJmexm37yQuKi8yTAOnmW7yo5/TghhwqTR+nr0DmF7dXqDV1BYWFwy3UJtbFLl0/QjlYnc7fu59Wn5kcSo7B169h9Sd/k229uaTs3dcZAQMq5wNavJLZjQKVat9uKtig/+UNF4Te3gNGJaAd1eeepruUodN28Z/UijnbvjoE5vWH/1rtrBaeikWRWN19jPlLXPEUIKXnpXpzdQnUqYX8IO0WIBOmWpcxv9gAAPCUCneJgUhAQCFiBgWqfaMzs1dPJTEqnU6Nmc2sEpPCGV6oJG6xscPYarDv6R0b0Hj2Bb3P2CAv/v+d2ACZl2GtfaSz+wvbRQdvxzFx8/J68eRm/Et6ZT5sxOjclb7uTpLZFI6BIMhJDItBwWT7+xaezpZ//EDEcPLX2jvPzkl6y+UYGukkp1ik10sQ6NCtApC5zW6AIE+EoAOsXXzCAuEDCPgGmd0ukNju5ezB6Mbvz04y869Z8CZKRTISPHctv6R0b7R0azLfH5K6VyeUXjtUcvsKvsHYZOfortooWqU99oQ8JtnJyLD54x2tWaTv3y7tRz+4zq048mZqcGp0+XSKUjZyyYtunFOQ0H5u44aKtxYY/zdHoD1Z1Hb6Cv/fi6Qm3Lvu6QzskNmJA5d8dBo5/yk1+y2alpm15sMSS2ETpl3hmN1iDAawLQKV6nB8GBQIcJtKlTQyfNevyXfb9l93ujQgsP+058YfSwz7ROLT14lhCSXraFTinl7TzCPUT1+Zt+A6MUatv5L7cQQ4s6VXf5tod/sEJtW3X6W25XrGxCp9T2jty5qOrzN6UyGVenai/9YOfsFpWZm1m9jRBS9PpHtNtHjyBVdvYRSZPYUYwKdHYKOtXhcxUNQUAEBKBTIkgihgACLRBoU6dWvHVJaWPr0Tuk7MQXXD9Y8dYluu4Ufflp6KRZbO+opxYbvYpuWqea3qYK7Nt78Mj+iRkObp7c1ZjqLt/uMzpJKpc/1co8U3OdYutOjc4tYiEZFUzolI2Tc2RqNqs/fkkVIYSrUzq9ITonz07j2nvwSK/Avqxm098kpmbLFEruKqM6vaG88StaBzrVwvmHTSBgZQSgU1aWcAzXagi0qVM6vWHm0682LcLkqInOyZ+0pj6tdOOA8VNkCiVTKLpQQr+xE9NKN9Ky0UIJberUuMLVEqlUobYdnj2PKyjROfmEkD6jEum65+y/rA53VfSM8q2jZi2iq6L3T8xo/gIWazUodapMoRxbWMr9SSvdqNMbBqZkSWWy6Jz8jPKtkanZTp7eRg/7dHrDor0n6dtRSUWVrE+d3lB24guN1lehtqXNExdX9BubZuOooXWgU1ZzVWGgINAqAehUq2iwAwQETaA9OqXTG5YfuTAkY6azd0+ZQtn0nX0Dhqau0rG1OpuW8Zxf4tyjl0yucPLq0eIynlztMHp36nH/F6mg0D+CY5XZV/IZvdzdYgWlrZ1rz97t/M4+ow4JIfQVscpTX0em5dhpXJW2dkHD45YdPq/R+hrNTun0Bs+AUIlUWvrepywSWig/+WVU1hwnrx4yucLBzSNg6KiMinq6Czol6CsFwYOARQhApyyCEZ2AAO8ItFOnjKQBH7Uh4QFDYjqDA15F591FgoBAwHIEoFOWY4meQIBPBKBTHVCiFr8bpwP9tNgEOsWn6wOxgICFCUCnLAwU3YEATwhAp1p0mtY2Ltl/esq6570C+zq4eVafv9laNXO2Q6d4cmkgDBDoDALQqc6gij5BoPsJUJ2a+fSr5hiA9bSNz18pkUjc/YLydv3Hag4WJDDz6VcfrUxx+/bt7j85EAEIgIClCUCnLE0U/YEAPwj89NNPhJCs2h0WFAJ0ZQ4B+r2E9+7d48cJgihAAAQsSQA6ZUma6AsE+EPg4cOHKrV6/JIqcwwAbS1IIKmoUm1jw58zBJGAAAhYkAB0yoIw0RUI8IvA+PETeiAAVIoAACAASURBVA+KsqAQoCtzCPgPjJowIZlfpwiiAQEQsBAB6JSFQKIbEOAfgZdfflkikRh9tbA5QoC2HSZQ+t6nhJBXXnmFf6cJIgIBELAAAeiUBSCiCxDgJ4H//u//VigUI6YVrL96t8MegIbmE1h/9e6IaQUKheJ//ud/+HmqICoQAAEzCUCnzASI5iDAawKbN28mhMTNWwajMt+KOtbD+qt34+YtI4Rs2bKF1+cKggMBEDCDAHTKDHhoCgJCILBp0yZCSMiI+KyahqrT33bMCdCqAwSqTn+bVdMQMiKeELJ582YhnCyIEQRAoIMEoFMdBIdmICAgAnv27BkWNZwQIlcofftGBA0b3WdUIn46j0DQsNG+fSPkCiUhZFjU8D179gjobEGoIAACHSAAneoANDQBAUESuHHjRn19fV5e3pQpU1K7+19KSkpMTExoaKirq6tEIiGE0P82/wJj01tYW1dX19DQ0JiYmJSUlO4eXOqUKVPy8vLq6+tv3LghyHMFQYMACDwhAejUEwJDdRAAAUsT+Omnn44fP15SUhIREUH1SC6Xm7AoulcikURERJSUlJw4cQJrY1o6J+gPBEDgyQhAp56MF2qDAAh0KoEff/zxwIED+fn5PXv2pEYlk8kIIfS/hJBevXoVFBQcOHDgxx9/7NRI0DkIgAAItJ8AdKr9rFATBECgSwlcv3599+7dU6dO9fPzmzp16u7du69fv96lEeBgIAACINA+AtCp9nFCLRAAARAAARAAARBohQB0qhUw2AwCIAACIAACIAAC7SMAnWofJ9QCARAAARAAARAAgVYIQKdaAYPNIAAC/CBw//79ffv23b9/nx/hIAoQAAEQaIEAdKoFKNgEAiDAHwKlpaWEkNLSUv6EhEhAAARAwIgAdMoICD6CAAjwi0BhYSEhpLCwkF9hIRoQAAEQ4BCATnFgoAgCIMA/AtAp/uUEEYEACBgTgE4ZE8FnEAABXhGATvEqHQgGBECgRQLQqRaxYCMIgABfCECn+JIJxAECINA6AehU62ywBwRAgAcEoFM8SAJCAAEQaIMAdKoNQNgNAiDQvQSgU93LH0cHARBoDwHoVHsooQ4IdBuBhw8fPrDufwUFBYSQgoIC68bw4OHDh912FuLAIAACbRGATrVFCPtBoMsJ3Lt379ChQ9nZ2e4engqFguAfCBCiUCjcPTyzs7MPHTp07969Lj8rcUAQAAFTBKBTpuhgHwh0PYGGhgZbOztCiHdwWOyc4rTSjZnV27NqGvBjzQQyq7enlW6MnVPsHRxGCLG1s2toaOj6kxNHBAEQaI0AdKo1MtgOAt1AYNu2bYSQIRkzlr15Qac34AcEmhNY9uaFIRkzCCHbtm3rhnMUhwQBEGiJAHSqJSrYBgLdQWDfvn2EkBHT56+/erf5TRRbQIARWH/17ojp8wkh+/bt645TFccEARAwJgCdMiaCzyDQXQSGDosKjo6DSzFpQMEEgfVX7wYPjx0WNby7TlccFwRAgEsAOsWlgTIIdBuB7777jhCSVbvDxB0Uu0CASyCrpoEQcuPGjW47a3FgEACB/yMAnfo/Evg/CHQrga1btyqUqqrT33LvlyiDgAkCVae+kSuU9fX13Xrm4uAgAAJNBKBTOA9AgBcEZs+e3atfpIl7J3aBQHMCvfpF5ubm8uIMRhAgYN0EoFPWnX+MnjcEJk6cGDIyofn9EltAwASBkBHx6enpvDmLEQgIWC8B6JT15h4j5xWBxKSk8PgUEzfOTtoVn7+SEGKic0JIfP5KExXav8s/Mto/Mrr99VGzTQJhY5ITk5J4dSYjGBCwTgLQKevMO0bNOwKmdWrK2ufYwuBSmczR3WtQ6tTS9z5t83bbZgVe6VTd5duTq571j4y2cdTIFEqN1jcyNXvh3hN0FBSCXKkyGrh/ZLRnQCgbqUbrSwgZPnUu26LTG/J2HiGETNv0IncjK6969yohZHzxWrZFKIXw+BToFO8uZgRklQSgU1aZdgyafwTao1MJC0qzahomrakfnD5dKpO5+PhVn79p5o2/9tIPpjvpstmp6nM3gqPHEEL8Bw0fX7x2cuUzY/KWu/sFSiSS0mOf6PQG5pRGqtSiTsmVqtXvf8bgQKf4d8ojIhAQFQHolKjSicEIl0B7dIrN0+j0htGzFxNCcjbsYsbQSYUu06morDmEkOTlNdyB1F2+Pb54LVentCHhRqrUXKc8A0Klcvnw7HmsK0Ho1Lqz37GA21nA7JRwL3lELjIC0CmRJRTDESqBJ9Wpp559jRCSuKic3XeXHjoXHp9i46iRK1U9+kTMfPpVtqv24q34glWuvv5ypcrGybnXgKFzGg7QvUYP+2oufD9iWoGdxlVpa9dnVGLpsU+4OjUodapG68u61ekNRs0nVz3be/BIO2c3mULp4R88cfUmbmUT706VHvtEKpcHRsVy6xuV6ezUtI27jVSpuU6FjBw7eOI0uUrNJqjM0SkTgxqYkmWrcam9eIsbamBUrFuvALYlq6bBO7S/XKW2cdT0H5de8tvfs1008kV7T/oNjFKobaJz8nV6w8K9J4KiYh91K1epnb17RqblsPrNC9ApoV7wiFt0BKBTokspBiRMAk+qU2klGwgh6WWb6S22+MDHantHj94hSUWVaSUb/AcNl0gkM7a8QvfGzimWSCRDMmZOWlM/YVl1RNKkpKI1dJeRDw2YkEkIiRg/Oa1kQ9iYZK+gpi/cZa+it6lTPmEDI1Ozk5fXpK7SBUXFEkLSSjYwCTChUxkV9YSQzOrtrHLzAtWphXtPGKlSizq18u3LXOsyR6dMDGrujoOEkFnPvMaiLTv+uVQmS1hQSreMK1wtkUj6j0ufuHpTwvwSO42rs3fPylNf073+kdEObh52zm7Ds+dllG+dWb+n/OSXNo4at14B44vXTlpTHzd3qYd/MOu8eQE6JczLHVGLkAB0SoRJxZCESKA9OjV3x6GKxmulxz6ZvvklO2e3ppeyH79UpNMbAoaO8grsW3Phe3rHXX/1bq+IIa49e9OP2uCwkJFjm9+MjaaXil7/kBASlZnLakaMn/xEOlV97gZrq9MbgobHufj4sS0mdIp+A93i33zAKjcvMJ2iqhSdk0frtKhTOr0hMi2HTVCZo1MmBlV35Y6Tp3f/ceks2uRlNRKJZOU7V3R6w6p39VKZbNzCMrZ3yf7TUrmcbfGPjH7sxFtYhRlbf00I4T7VZbtaLECnhHixI2ZREoBOiTKtGJTwCLRHp9gf9xFCnL175m7fT2+xaz78o0QiGVtYWtF4jf0kzC8hhNA/gvOPjHb27rn8yIXmt2Tu7FTionJCyLLD51m1wlePP5FOsYZVp76paLxGO6w69Q3dbkKnBqdPJ4SseOsS66F5gemUkSq1plNc6zJHp1gkLQ5q9OzFCrXN2o+v02o9+kT0GjCUlqlaLT9ykSWlovGah39w4LDRtIJ/ZLRcqaq5+Gd2CBpnfP5KoweIrIJRATolvEsdEYuUAHRKpInFsIRGoD06lVa6ce6Og9M3vxQyMkFpa5e36wi9uRbueZ9rWtzy4n2NOr0hf9dbagcnQohnYJ+YmQuLXv+I3ZW5OjV08lMSqbT20g9sb9Xpb59Ipwpeejdg6CiF2pYbQ8nR39EOTejUE81O6fQGriq1plNc6zJHp0wPqvjgmcePKbfp9IZlh89zZ5uGZeZyObCyV1AYA8KdvdPpDeuv3g2PT3m0EpjK3qHP6KTJVc+yGUeWFG4BOiW0Cx3xipYAdEq0qcXAhEWgPTrFngHVXb7t22+wo7vX2jNNkyILXjlGCImZuXDujoNGP2zWZM2Hf5xc9Wz/xAy1g5NUJpu0pp7elZ9IpyJTs41eRY+bt4ytArrirUtypUobHJZetuWp5/bN3XGQStKqd68ye2htGc+M8q3tf3eK9haZmk2f5ZnQqRVvXZLK5dE5+R3WqTYHpdMbevSJoC/Rx81bJlMoKz/6Lxphk55KJLnb3jBKyoJXjjEg3BWz6Eaa0Ng5xT36RDQZcEAozTLbyy1Ap4R1mSNaEROATok4uRiakAg8kU6xdSkTF1fo9Ibyk18SQmJzl3BvtK2V15657h3az9FDSytwdarNh30jps9X2ztyex6YnMV0Knl5DSGEzUXp9IbYOcWEkPboVMlvfy+VyYLa8Zd9zCmZKpnQqaYJqsfWNXX9Cx1bxrPNQen0hpSVdVKZbPX7n7n4+IXFJTM+45dUNT08fbOFZ6y0jlHkrCErTK37FSGEuS/bzgrQKSFd5IhV1ASgU6JOLwYnHAJPqlM6vcEnfJC9qztdhLP34BE2Ts5sXQB6uy1v/IoWKj74A7sB6/SGfmPT7DSudAtXpxb/5gPTr6LTPydkzwpXv/+Z0taO6VTqqvWP5UlPe6469Y2Dm2c7dUqnNwybMpsQkrpqPTfUuit3Jixdx113iukUUyV3v0DuHI9G68t9777JumQybUh4x3SqzUE16WzjV1K5vN/YNELI9M0vs/jpoSPGT15/9S7buP7qXZaO5jpV+dF/cSvTJ4ncv45k/dACdEo4lzgiFTkB6JTIE4zhCYVAB3Rq2qYX2VoJxQfP2DhqbDUuo3OLMirqxxaWhoxMYO/o2Lu49xs7MamoctKaevoEii1xydUpnd4QkTSJEDJg/JS00o3NF0qo+OAPShtbFx+/lBW1iYvKnbx6eIf2Zzq17PB5mULpFdg3rWRDUtEaFx8/bXDTOgvtmZ3S6Q3rzn4X+Hhthd6DR0xYum5y5TPx+Ss9eodIpFL6Qj33VXQqE8uPXJTKZPSJGPMMI53S6Q2DUqfS95ZMf8lMcPSYsYWl3J8l+0+3OSh63NCYcYQQtYOT0atOiYsrCCG9IoaMX1KVXrZ51FOLXXv2Zt9m01ynkpfXuPbsPeqpxRnlWycsXefuF6iyd6B/J8gGyC1Ap4RygSNO0ROATok+xRigMAh0QKfqrtxx8fFz8fGru3ybvp09MCXLwc1DJlc4emhDY8ZN3/wSvfWOK1ztEz5I7eCkUNu4+wWNW1jG/nDMSKeqz9+Mzsmz1bgobWybL+Op0xvmNBzwDOwjUyjd/QKzancYNZ/19F6voDC6/mRSUeXkqmfbr1M6vaHu8u1JlU/7DYxS2zvK5Iqm7+xLy2GrJzTXKaZKJmandHoDsy7TOsVeFWeFrJoGnd5gelCU8LSNuwkhQyfN4roOLU/f/LLfgGFKG1ulja27X1BU1hz2+K+5Ti3e1xiRNEnj5SNXquxd3ENjxi3ae7J5n2wLdEoYlzeitAIC0CkrSDKGKAQCpnWK3T5R4CeBmfV7CCH5u9/u4vCgU0K4uBGjVRCATllFmjFI/hOATnWxiFj2cCEjx7r4+HFfe7Js/631Bp3i/6WNCK2EAHTKShKNYfKdAHSqNWPg+fZs3c7Y3CWEkJSVdV0fKnSK7xc24rMaAtApq0k1BspvAtCprncRixyREKK0tRucPp27/KlFem5PJ2FjkhOTkvh9aiM6ELAKAtApq0gzBsl/AhMnTgwZmdCeOyjqgAAjEDIiPj09nf+nNyIEAdETgE6JPsUYoDAIzJ49u1e/SHabRAEE2kOgV7/I3NxcYZziiBIERE0AOiXq9GJwwiGwdetWhVJVdfrb9txEUQcEdHpD1alv5AplfX29cE5zRAoCoiUAnRJtajEwYRH47rvvCCFZtTsgCiDQTgJZNQ2EkBs3bgjrVEe0ICBKAtApUaYVgxIkgaHDooKj47r+j+3befNGNV4RWH/1bvDw2GFRwwV5riNoEBAdAeiU6FKKAQmWwL59+wghI6bPh1HxSlx4GMz6q3dHTJ9PCNm3b59gz3cEDgKiIgCdElU6MRihE9i2bRshZEjGjGWHz/PwLo6Q+EBg2eHzQzJmEEK2bdsm9BMe8YOAaAhAp0STSgxEJAQaGhps7ewIId5BfWPnFKeVbMis3pZV04AfayaQWb0trWRD7Jxi76C+hBBbO7uGhgaRnPEYBgiIggB0ShRpxCDEReDevXuHDx/Oycnx8PRSKBTsG3lRsGYCCoXCw9MrJyfn8OHD9+7dE9cpj9GAgOAJQKcEn0IMQNwEHj58+EDU/27evLl3797c3FwfHx9qS1KptE1tYnV8fHzmzJmzd+/emzdviprTg4cPH4r7VMfoQEDQBKBTgk4fggcBURH45ptvdu7cmZmZ6eTkRAiRSqUSiYSplUQioRal0WgyMzN37tz5zTffiGr8GAwIgIBgCUCnBJs6BA4C4iXw888/6/X6zZs3JyQkqFQqQohKpUpISNi8efPvfve7n3/+WbxDx8hAAAQESQA6Jci0IWgQsB4CDx48+P3vf//gwQPrGTJGCgIgIDgC0CnBpQwBgwAIgAAIgAAI8IsAdIpf+UA0IAACIAACIAACgiMAnRJcyhAwCFgdgb///e9WN2YMGARAQFAEoFOCSheCBQHrI7Bnzx5CyJ49e6xv6BgxCICAYAhApwSTKgQKAtZJoLCwkBBSWFhoncPHqEEABARBADoliDQhSBCwXgLQKevNPUYOAsIhAJ0STq4QKQhYJQHolFWmHYMGAYERgE4JLGEIFwSsjQB0ytoyjvGCgBAJQKeEmDXEDAJWRAA6ZUXJxlBBQLAEoFOCTR0CBwHrIACdso48Y5QgIGwC0Clh5w/Rg4DoCUCnRJ9iDBAEREAAOiWCJGIIfCfw888/nz59uqSkZNasWRMnTkzFvych4OfnRwjx8/N7kkaomzpx4sRZs2aVlJR8/PHH+NJovv+OQHzCJwCdEn4OMQIeE/jrX/+6ZMkSL603IcTJzdN/wLCQkQl9RiXiBwQ6m0DIyAT/AcOc3DwJIV5a7yVLlvz1r3/l8bWC0EBA2ASgU8LOH6LnM4G//vWvQ4dF2dg7ROfkF7z0bt2VOzq9AT8g0JUE6q7cKXjp3eicfBt7h2FRw2FUfP6NgdgETQA6Jej0IXj+Evjb3/42dFiUrYPjwr0nuvL2iWOBQIsEFu49YevgOCxq+N/+9jf+XjaIDAQESwA6JdjUIXB+E9i2bZtMLodLtXhrx8ZuIbBw7wmZXL59+3Z+XzqIDgQESQA6Jci0IWj+Exg1anRwdFy33DVxUBBojUDw8NjRo2P5f/kgQhAQHAHolOBShoAFQOCHH36QSCSTK59p7a6G7SDQLQQmVT4tlUp/+OEHAVxFCBEEBEUAOiWodCFYgRB4/fXXCSHljV91yy0TBwWB1giUn/ySEPLGG28I5EpCmCAgGALQKcGkCoEKiMD27dtlcvn6q3dbu6thOwh0C4H1V+9KZbKGhgYBXU0IFQQEQQA6JYg0IUiBEdiwYYOdk8bM+yUhJD5/ZWudxOevJISwvRqt76DUqexjZxe67HBGw+zscVlD/3ZOmg0bNgjsikK4IMB7AtAp3qcIAQqQwIYNG+w1LibuzVPWPkc4/+yc3XoPHjH7+d9wm/BEp+a/fDQ+f2Xlqa+5sfFKp/J3v91vbJqju5dMrlDZO/iED0qYX1J24gsWsH9kNIMtV6m9AvsmL6/hLgOWt/MIIWTaphdZE1qIyprDdVajvYNSpyptbI028v+jvcYFOiXAXyoIme8EoFN8zxDiEyKBdupUwoLSrJqGzOrt44vXegaEEkJmPfMaux9Xn79Ze+kH9tGoYDRtU3Ph+9qLt4zqWOTj+OK1hJBV717l9tZ5h+MeRac3GA3TaK9ObxiTt5wQ4uLjFzuneFLl02klGyLTclT2Di4+fqyyf2S0k6d3Vk1DVk1D8vIan7CBhJDYOcWsAnRKiFcZYgYBXhGATvEqHQhGJATaqVPcVakqP/ovmVwRMX4yu8ebLrTpGaz5urN/YuUOFFrUqQ7007EmpoeZo9tJCOk3dmLNxT9z+6869Q33Oal/ZLRnQCirUH3+pkbrq7Kzr7t8m24Urk5Vn7/JnWZjYzRRwOyUSH7LYBg8IwCd4llCEI4oCHRApx69t66ydxiYksVuhEYP+wpefKdH3wFypcrFxy+9bIuRZ3CfvtEniXm7jgzLzLVzdlM7ONE+Zz//G78BwxRqW6WtXcjIhOIDH7Nj6fSGpYfO9RubZqdxlavUbr0C6OQNPQp7UsamqbiH0+kNK9++HJ6QauOoUahtfMMjn3r233Ns1FRyNuwaV7ja0UMrV6oChsQsP3KRHTp/99vhCalOXj1kCqWTp/eIaQXV526wvUbDZNtpwa1XgJ3Gde2Z60bbjT4a6ZRObwhPSCWErH7/M1rT4jq16l39sMxct14BcpXaxsk5PCGVTe+tfPsyISR5WQ03yPkvHyWETF3/At1Y+t6nkWk59i7uMoXSo3cId8UNGmq2bmfc3KWO7l4SiaTy1Ne1F2/FF6xy9fWXK1U2Ts69Bgyd03CA2z+3DJ0Sxe8YDIJ3BKBTvEsJAhIBgXbq1Nwdhyoar5U3flV84OOhk5+SSKXcuyBXp5a8cUqhttF4+SQurhhbWGrv6u4VFMZ9rYfrN1SnPHqH+EdGp67SJRWt0ekNmdXbJRJJcPSYx1sqnb17qh2c2D2+6PWPVPYOthqX2NwlGeVbRz212Cuwr05vKHr9o4ikSU23/+U19GEZneviHq7sxBf2ru4qO/u4uUuTl9Vog8MkUumMLa/QWzi9/XuH9uvRJyJ5eU18wSqF2tYnfBC7wQ/PnhcyMiFxUXlG+dbB6dOlMll4Qirba0Knlr15gRAyJGMGq9xaoblO9eg7QCKRMG+zuE5N2/SiNjhsTN6KjIr62DnFNo4ajdZ33dnvaIS9Bgzt0SeCG21UZq7Kzp5WKDvxhZOnt5NXj4QFpellm/uMTqL8aX0aqkfvEG1IePKymsTFFevOfhc7p1gikQzJmDlpTf2EZdURSZNo0rmHYGXolAh+w2AIPCQAneJhUhCS4Am0U6e4sz5ypWrKuufZPU+nN3B1qm/cBLlKXXL0d7TC0oNnpTKZaZ16NBHFHmatPXNd7eA0JGMm67/sxBdqe0e2xX/QcJWdPetfpzewVR5afNjH1akR0woIIQUvvkM7X3vmunOPXs7ePelDqF9u//7B7Hlcyso6QsiS/adpfeY09OMjP5BIJCwSEzo18+lXCSEpK2rZoNZfvVvReI39sDfP/COj3f2C6PZlh8+PmrWIEBIycixraHGdMhrUgleOEUIyq7fTI2aUbyWELD10jn6svXjLTuPK/jBzcPp0BzfPig/+wMLrn5ihtnekfdJQXXz8uIfQBodxh8MatliATgn+9wsGwEsC0ClepgVBCZxAO3UqrXTj3B0H5+44mFW7Izh6jFQun775ZXYLZDpVd/m2Qm3TPzGD7dLpDSEjE0zrVGb1NlZ/xpZXCCHzXniTqUZF47WgqFhXX3+d3lDe+BUhJDonn9XnFtrUKbdeAdzZJp3ekLi4ggkTvf2PX1LF+ly8r5EQMvPpV9kWWlh39k8Vjdfyd73VtLd+D91oQqeyahoIIZMqn2b9VJ76mmuo7NU07l/20Qp9RidVNF5jDS2uU6zn2ou3Kj74Q0XjNbWD04hpBXT7o8dzcpU6bt4y+nHWM68RQubuOEgtVu3gNHTSLG6m6HRjwUvv6vQGGmrC/BJ2CJ3e4B8Z7ezdc/mRC9yNrZWhUwL/7YLweUoAOsXTxCAsQRNop06x+71Ob6i7cscrKMzBzZPN4jCdKjv+OSFkTN5y7g1yxPT5pnUqf/fbrH5SUSXXM1hZZe+g0xsW/Pq9Ji9ZU8/qcwtt6pRcqRqY/O9XvnR6w8z6PYQQ+gYVvf3n6HayPle9e5UQwqbiSo7+blDqVBtHDYvq8UTOLy5oQqfoUbizU7WXfqB6SuefGF5qG3N3HMzdvn/i6k2OHtqe/Ydw37iyuE5Vn7sxJm+5k6e3RCJh43r0J4cMQr+xaexvD/snZjh6aOlkHl21nDXhFujzUxoqm+iiHebvekvt4EQI8QzsEzNz4aNHt+xAzQvQKUH/bkHwvCUAneJtahCYgAl0QKd0ekN0Tj4hhL0hbqZOMZlg00VZNQ3UNth/83Ye6Rqd4i7p9ItOrX2uSSIv36avkycVrZlZv2fujoNT1j3fJFuP95peKGHZ4fOtvTtFp3MYAaN3p4pe/0gqkw3PnsdUw+hhHNsemZYjV6nZR6OCiXWnBqdPl0ilI2csmLbpxTkNB+buOGircWGP83R6A52RevQG+tqPryvUtjEzF9LOqToPmJDJcsQK5Se/ZLNTXJ604ZoP/zi56tmmx4IOTlKZrDU51ukN0CkB/2ZB6DwmAJ3icXIQmmAJdEyn6KKRC379Hr1BMp3q2MM+JhM6vWHaxt2EkNzt+42EgH40/bBvwtJ17A/6WHPuu1PNH/YlFa0xetjHvf1zdWrxbz7gzkXp9IY5DQfaqVM6vcG1Z287jWvzlSBM65RObxiUOlWmULI3tFa//xkhJG7uUjZAWugVMcTdL9BoI/toQqfU9o7cuajq8zelMhlXp2ov/WDn7BaVmZtZvY0QwuaTHr3uprKzj0iaxI5iVGhtIo1VW3vmundoP0cPLdtiVIBOCfb3CgLnNQHoFK/Tg+AESqADOlV78ZZrz94yhbLq9Lf0/sd0Sqc3dOBVdK5OPepTZe/gHxlttNQn+5JmE6+ip5dtJoQs/s0H3LsyV6foq+jzX/4trbDu7J9cfPyMXkVvTaeWvHGK++Bv/dW7ISPHtl+nptb9ihASkTTJaFyTq54lhDACRrNTOr2h+OAZiUTCfV1MGxKu0fpyF39ftPekRCplLzxxh0/LJnTKxsk5MjWbNRm/pIoQwtWpx5OReXYa196DR9I/omSVI1OzZQole1WfbmeZalGnuO+t6/QGuuAF69CoAJ0S6G8VhM1zAtApnicI4QmSQDt1iq6KnlXTMGFZdY8+EYSQ0blF7ObH1ami1z+Sq9QaL5+kojXjCle3Z6EEJhO0w6l1v5JIpZ6BfcYVrs4o3xo3d6k2JDwqaw7dW/T6h0pbu18WSnj8t/3aCYW4BgAAIABJREFU4DC6q/DV44//Di4hs3p7tm5nawslqO0dx+QtT15eow0Jl0gkRgsltKZTtRdvufj42Wlcxy0sS12l6z14hDa4aQGI9jzso+HF5i6hq6LHzV06qfLplJV1QzJmKm3tVHb2K966ROs016nH7/KPVdrYMhGZ98KbMrlCo/WNz1+ZUb51xLQChdrW0UNLH7HRfoz+S6e4xhaWcn/SSjfq9IaBKVlSmSw6Jz+jfGtkaraTp7fRwz6d3rBo70n6alRSUSW357ITX2i0vgq1LW2euLii39g0G8dfvgKyRZ2yd3HvN3ZiUlHlpDX1TStuSCTcR5nczvGwT5C/UBC0EAhAp4SQJcQoNALt1Cn2orFcpdaGhKeXbWbLExgtlKDTG/J3vdWjT4RMoWznMp5GOkVfuwkaHqe2d5Sr1C4+fpGp2Yv2nmT32uIDH4fFJasdnOQqtbtfIPfN97GFpY4eWolUyp76cWen2DKetK1P+KDmy3i2plNNy4cePBs4bLTS1s5O4zokY2bR6x89kU41jWvXkfCE1Edv8dPv7OvRd0B8/sqy45+zobWoU3m7mr6nj7t4+oJfvxcaM87GUSOVyx09tEMyZpS+9ynrpHlhUOpUlkFWoC+YV576OjItx07jqrS1Cxoet+zweSNitDfPgFCJVNr8KOUnv4zKmtO0tKlc4eDmETB0VEbFL38o0KJOjStc7RM+SO3gpFDbuPsFjVtYZjRdxw0es1NC+3WCeIVBADoljDwhSmERaFOnuLc3lK2WgDYkPGBITBcPHzolrF8miFYoBKBTQskU4hQSAehUFyuCEA+3cO8J7ntjXTYE6JSQfpUgVuEQgE4JJ1eIVDgEoFNdJgdCPNCS/aenrHveK7Cvg5tn9fmbXTwE6JRwfpEgUiERgE4JKVuIVSgEoFNdrAjCOlx8/kqJROLuF5S3q2ndry7+gU4J5dcI4hQWAeiUsPKFaIVBYPPmzTaPFxzv4jslDgcCbRKwsXfYvHmzMC4kRAkCwiEAnRJOrhCpcAjs3LmTEMK+gbjNOxwqgEDXEKi7fJsQsmvXLuFcTIgUBIRBADoljDwhSmEROHbsGPfrYrrmTomjgECbBIoPfEwIOXbsmLAuKEQLAvwnAJ3if44QofAI3L9/397BIb5gVZu3N1QAga4kEJ+/0sHR8cGDB8K7qBAxCPCbAHSK3/lBdIIlMGPGDG1gaFfeKXEsEGiTgFdAyIwZMwR7VSFwEOAvAegUf3ODyARN4OjRo4SQcQvL2rzDoQIIdA2BcQvLCCFHjx4V9JWF4EGAnwSgU/zMC6ISA4G1a9c2GVXh6rord7rmfomjgECLBOqu3BlXuPrRN+GsXbtWDJcWxgAC/CMAneJfThCRiAhQo9J4aIdnz8vbdaT0vU/Xnf1TzYXv8QMCnU1g3dk/lb73ad6uI8Oz52k8tHApEf1ewVD4SAA6xcesICYxEThz5kxRUZGX1pt9Sy4KINCVBLy03kVFRWfOnBHTZYWxgADfCECn+JYRxCNOAj///PPVq1ePHj362muvvYp/jwns2bNny5Yts2fPHjx4sFqtJoRIJJIn8gxaX61WDx48ePbs2Vu2bNmzZw/oUgKvvfba0aNHr169+vPPP4vzosKoQIBPBKBTfMoGYgEBayXwr3/96/Llyxs2bIiLi1MoFIQQuVzeolrR7UqlMi4ubsOGDVeuXPnXv/5lrdgwbhAAAb4QgE7xJROIAwRAgBK4d+/eyZMnV69ePXDgQDr/JJPJ6NzVwIEDV69e3djYeP/+feACARAAAf4QgE7xJxeIBARAwJjAX/7yl0OHDpWVlR06dOgvf/mL8W58BgEQAAF+EIBO8SMPiAIEQAAEQAAEQECwBKBTgk0dAgcBEAABEAABEOAHAegUP/KAKEAABEAABEAABARLADol2NQhcBCwDgKfffZZenr6Z599Zh3DxShBAAQESQA6Jci0IWgQsB4ChYWFhJDCwkLrGTJGCgIgIDgC0CnBpQwBg4B1EYBOWVe+MVoQECYB6JQw84aoQcBqCECnrCbVGCgICJgAdErAyUPoIGANBKBT1pBljBEEhE4AOiX0DCJ+EBA5AeiUyBOM4YGAKAhAp0SRRgwCBMRLADol3txiZCAgHgLQKfHkEiMBAVESgE6JMq0YFAiIjAB0SmQJxXBAoOMEbt26deLEif3797/Kp3/x8fGEkPj4eD4F9er+/ftPnDhx69atjuNGSxAAARERgE6JKJkYCgh0iMCdO3eef/75kTGjJBIJwb8nISCRSEbGjHr++efv3LnTIfZoBAIgIBIC0CmRJBLDAIGOEfjqq688vLxkcnnoiPjJVc+ueOtS5amvay58jx/TBCpPfb3irUuTq54NiR4jk8s9vLy++uqrjqUArUAABERAADolgiRiCCDQQQJNLuXppQ0IXf3+Zzq9AT8dI7D6/c+0AaEwqg6ehWgGAqIgAJ0SRRoxCBB4cgIPHz4MCAzSBoSWn/yyYxqBVoxA+ckvtQGhAYFBDx8+fPJUoAUIgIDgCUCnBJ9CDAAEOkbgypUrhJC5Ow4yJ0DBHAJzGg4QQq5cudKxdKAVCICAoAlApwSdPgQPAh0nsGrVKntn19pLP5jjEGjLCNRe+sFe41JSUtLxlKAlCICAYAlApwSbOgQOAuYRCAoOGZIxg9kACuYTGJIxIyg4xLy0oDUIgIAgCUCnBJk2BA0C5hOwsbVNXlZjvkOgB0YgeVmNrZ2d+alBDyAAAoIjAJ0SXMoQMAhYgMA//vEPQsjkqmeZCqBgPoHJVc8SQv75z39aIEPoAgRAQFAEoFOCSheCBQELEXjw4AEhJKumwXyHQA+MQFZNAyHkwYMHFsoSugEBEBAMAeiUYFKFQEHAggTa1Kkpa59jy4NLZTJHd69BqVNL3/uUqYNOb/CPjCaEhMaM425c9e5VQsj44rV0Y97OI7SfRXtPcqsNSp2qtLHlbuGW4/NXEkIqGq9xN/K/DJ2y4CmKrkBAWASgU8LKF6IFAcsQaKdOJSwozappmLSmfnD6dKlM5uLjV33+JtMaqlOEEK4qtaZTRtYFnbJMItELCIAAPwhAp/iRB0QBAl1LoJ06tXDvCSZPo2cvJoTkbNjFtvhHRmu8fGwcNX1GJbKNLeqUNiS8ybpe+/cEFf91qvbSDzUX/8zG1Z4CZqe69izG0UCARwSgUzxKBkIBgS4j0AGdeurZ1wghiYvKmVj4R0Z7BoQmLCjlqlKLOjW58hkj6+qwTq358I8xMws9A/s8elaosrMPjh5T9PqHNKS1Z64r1LbROXksQp3eUHrsE4lUysKuPPV1dE6+k6e3TKF08fFLKlpTd+UOrc8iT15e4+LjJ5FKF//mA53ekLpqvUfvEIXaRu3g1KNPxNS6X3H755ahU112AuNAIMA3AtApvmUE8YBAVxDogE6llWwghKSXbWYCQXWq6vS3XFViUkKr0Xenpm160ci6OqxTC/eecPHxG51blFG+NWFBqaOHVm3vyL5zcMD4Kfau7nWXb7Mgxy+pkkgkJUd/p9Mb1p39zisozFbjEjunOL1sy8CULIlEEp2TTyvTyD16h1DNSl5eU3L0dxkV9YSQ8ITUjPKtKSvrBqdPN9I1diCd3gCd6opzF8cAAV4SgE7xMi0ICgQ6mUA7dWrujkMVjddKj30yffNLds5ucqWq9NgnTCCoTun0hoT5JWyCqjWdqjr1TZN1jU6izTusUzUXvmfzSTq9YdW7V+VKVcKCUtpt7vb9hJDZz7/OgvQKCvOPjKYfxxaWKm1slx+5wPaOzi2SymQlv/097YoQorJ3KG/8ilXoGzveMyCUfTRdgE518mmL7kGAvwSgU/zNDSIDgc4j0E6dYn/cRwhx9u6Zu30/1yeYTnFVqTWdYta1eF+jTm/osE6xAOou36744A8Vjde8gsL6xk2g2+uu3HF09xowIZN+XLL/NCFk0pp6+tErKCw4ekxF4zX2M3fHoaYFI2p3MJ2KTMthh6Bxqu0dC189zt3YWhk61XlnLHoGAZ4TgE7xPEEIDwQ6hUA7dSqtdOPcHQenb34pZGSC0tYub9cRrkkwneKqkgmdqjr1jdrBiU5QdVin6q7cSV5W4+rrL5XJmO31HjySBTZq1iKlrd26s9/p9IbRuUVylbrq1Dd0r0Jtw5pwC3R1eBo5m+iiTZYePOvooSWEuPr6R2XmFrz0LjtQ8wJ0qlNOVnQKAkIgAJ0SQpYQIwhYmkA7dYr9ZV/d5du+/QY7unutPXOdaQRXp6gq9Y0db0KndHpDfMEqQsjifY0d1qmxhU1vvg+eOC1btzN3+/65Ow56BoSyx3k6vYHOSE2t+9X6q3c1Xj7hCaksYLlSFRgVO3fHQaMf+maVUeSs1bqzf8rR7YxMzbZ3dSeEjMlbwXYZFaBTlj5P0R8ICIYAdEowqUKgIGBBAk+qUzq9gb5Unri4gjkEV6eYKs3Y8krzZTynbXqRtmLW1WGd0gaHceeidHqDo4eWq1M6vcE7tF/IyIT8XW8RQmY+/SoL2KN3SM/+Q9hHo0JrOsWq1Vz8c8jIsVKZjLv4FtuLV9EteH6iKxAQHAHolOBShoBBwAIEOqBTOr3BJ3yQvas7kwkjnaKqRJeYMloVnekUsy5tcFjHVkX3Du3fe/AIJjHTNu4mhBjpVPKyGqlcHhaXbKtxqb14i1Wmc2O5295gW3R6Q+Wpr2sv/cDenWKR0zoVH/yBW3nUrEUSqXTtx/+eouPuxeyUBU5NdAECwiQAnRJm3hA1CJhHoGM6NW3Ti9y1Eox0qkmVHn85jInZKaovantHQkibOhWbu2RsYSn7GbewTKc3jMlbQQiJTM3OqKgfnj3PxsnZxcfPSKfKTnwhlcsJIcMyc7m6s+7sd96h/aVy+ZCMGellmycsXUcnyei32bQ4O+Ud2j9kZMK4hWWTKp+OmVkoV6q4a5ZyO8fslHmnJFqDgLAJQKeEnT9EDwIdI9Axnaq7csfFx8/Fx48u7NRcpypPfU1Vic3xsHWnuOZBratNneK+LU4IkcpkOr2h5sL3MTMLHdw8FWqbXgOGLnjlmH9ktJFO6fSGkJEJhJD5L/+We1yd3rD2zPXY3CWuvv4yhdJO49orYsiEpevoDFaLOpVRvtV/0PBHs1xypcrFx2/UrEVVp7816pN9xOxUx85GtAIBERCATokgiRgCCDwxgTZ1iimCQAt94ya4+Ph1cfDQqSc+EdEABMRCADollkxiHCDwJATErVOr3/9MJlfEF6yCTj3JSYG6IAACHScAneo4O7QEAeESEKtOrXznSlZNg39ktEJtW3b8c+iUcE9RRA4CwiIAnRJWvhAtCFiGANWpzOptXSwcnX24KWufI4RovHy4f0vY2Qdl/WdWbyOEPHjwwDJJQi8gAALCIQCdEk6uECkIWI7Aw4cPFQpFWskGpgIomE8gdZVOqVQ+fPjQcolCTyAAAsIgAJ0SRp4QJQhYnICHp1fsnGLzHQI9MAKxuUs8vbQWzxQ6BAEQ4D8B6BT/c4QIQaBTCEybNs07qC9TARTMJ6AN7DN9+vROyRY6BQEQ4DcB6BS/84PoQKDTCLz55puEkKWHzpmvEehBpzcsPXiWEHLkyJFOyxg6BgEQ4C8B6BR/c4PIQKBTCdy7d8/O3j4yLWf91bvwITMJrL96t+k7kh0c7t+/36lZQ+cgAAL8JACd4mdeEBUIdAWBnTt3EkKGT50LozJHp9ZfvTt86lxCyK5du7oibTgGCIAA/whAp/iXE0QEAl1I4IUXXiCEBA6NmVz1bOVH/2WOVVhh2zUf/nFy1bOBQ2MIITt37uzCvOFQIAAC/CIAneJXPhANCHQ9gQMHDsSMGi2RSGRyuU9o/8Cho0JjxvUZlYif1giExowLHDrKJ7S/TC6XSCQxo0YfPHiw6xOHI4IACPCHAHSKP7lAJCDQnQRu3br1/PPP5+fnZ2Zmpnb+v5SUlJiYmNDQUFdXV4lEQgih/zX62uM2P7K2rq6uoaGhMTExKSkpnR9+amZmZn5+/iNit27d6s604dggAAL8IACd4kceEAUIWDGBn3766fjx4yUlJREREVSP5HK5CZGieyUSSURERElJyYkTJ+7du2fF/DB0EACB7icAner+HCACEAABRuDHH388cOBAfn5+z549qVHJZDJCCP0vIaRXr14FBQUHDhz48ccfWSsUQAAEQKB7CUCnupc/jg4CINAqgevXr+/evXvq1Kl+fn5Tp07dvXv39evXW62NHSAAAiDQfQSgU93HHkcGARAAARAAARAQBQHolCjSiEGAAAiAAAiAAAh0HwHoVPexx5FBAARAAARAAAREQQA6JYo0YhAgIF4C9+/f37dvH768RbwZxshAQAwEoFNiyCLGAAIiJlBaWkoIKS0tFfEYMTQQAAGhE4BOCT2DiB8ERE6gsLCQEFJYWCjycWJ4IAACQiYAnRJy9hA7CFgBAeiUFSQZQwQBwROATgk+hRgACIibAHRK3PnF6EBAHASgU+LII0YBAqIlAJ0SbWoxMBAQEQHolIiSiaGAgBgJQKfEmFWMCQTERgA6JbaMYjwgIDIC0CmRJRTDAQFREoBOiTKtGJRQCTx8+PAB/v0ngYKCAkJIQUHBf27GpwcPHz4U6omOuEFAdASgU6JLKQYkNAL37t07dOhQdna2u4enQqEg+AcC7SOgUCjcPTyzs7MPHTp07949oZ34iBcEREUAOiWqdGIwgiPQ0NBga2dHCPEODoudU5xWujGzentWTQN+QMA0gczq7WmlG2PnFHsHhxFCbO3sGhoaBHf+I2AQEA0B6JRoUomBCI/Atm3bCCFDMmYse/OCTm/ADwh0jMCyNy8MyZhBCNm2bZvwLgNEDAKiIACdEkUaMQgBEti3bx8hZMT0+euv3u3YTRStQIARWH/17ojp8wkh+/btE+DVgJBBQPAEoFOCTyEGIFACQ4dFBUfHwaWYEKBgJoH1V+8GD48dFjVcoFcEwgYBQROATgk6fQheqAS+++47QkhW7Q4z76BoDgJcAlk1DYSQGzduCPXCQNwgIFgC0CnBpg6BC5nA1q1bFUpV1elvufdClEHATAJVp76RK5T19fVCvjgQOwgIkgB0SpBpQ9BCJzB79uxe/SLNvHeiOQg0J9CrX2Rubq7QLxDEDwKCIwCdElzKELAYCEycODFkZELzeyG2gICZBEJGxKenp4vhIsEYQEBQBKBTgkoXghULgcSkpPD4FDNvnM2b5+08QgjJ23mE7hqUOlWj9W1eDVtMEzDCaLoy3/aGjUlOTEoSy4WCcYCAYAhApwSTKgQqJgKmdWrK2ueaL4s9evbiNu/cRh5gpk7VXb49uepZ/8hoG0eNTKHUaH0jU7MX7j3RZhjdW2HcwrIZW39tTgxGGI26otnhLYfw+BTolJh+V2AsQiEAnRJKphCnqAi0R6cSFpRy18Ve/JsPjO7rzT8aeYA5OlV97kZw9BhCiP+g4eOL106ufGZM3nJ3v0CJRFJ67JPmh+bPFqWN7aDUqebEY4TRqCvolKguRQwGBCxEADplIZDoBgSehEB7dKoD8x9GHmCOTkVlzSGEJC+v4cpE3eXb44vXQqcIIR3IDpekmeW6K3eqz99ssRPMTj3JhYi6IGAxAtApi6FERyDQfgId1ilCSHz+Su59VKP1ZZMxrenU+qt3NVrfPqOTuA0f3Y9V9g5DJ83ibqTl0mOfSOXywKjY5ru4WxbvawyOHqOys1fa2AYMiVnwyjG2l07hFLz07ojp8+00rgq1bd+4CeWNX7EKGq1vyMixBS++4xM2UK5UOffolVm9je3V6Q2Vp76Ozsl38vSWKZQuPn5JRWvqrtxhFequ3ElZUesZ2EeuVNlpXIOGx1G/MXpIysiUvvdpZFqOvYu7TKH06B0yufIZ1pVObyg99knf2PEKta2ds9uIaQW5297gvoLGranTG0zMTtVc/POYvOXeof1V9g4Kta3fgGHzXniTNm9PCmoufD8mb4WLj59MoXTy9B41a1HNhe/Z0QkhUVlzsmp3ePQOkcrlrT3QhE61/zJETRCwIAHolAVhoisQaC+B9ujU3B2HKhqvsR96W+2YTun0hri5S2VyxZoP/8huz9M27iaE5O9+m21hhYyKekJIZvV2tqV5ofjAx0obWwc3z7GFpUlFa5x79JIrVQt+/R6tSZ3DO7RfwJCY1FW6mJmFUpms39iJrB+N1tfdL9De1b3pi59LNniH9pdIJMUHPqYV1p39zisozFbjEjunOL1sy8CULIlEEp2Tz5pHpmY/+kKV4BHxKStqJyxd1zd2fOoqnU5vyKppkCtVfgOj6HPS+S//Vqc3lJ34wsnT28mrR8KC0vSyzX1GJ3En3qrP3XDrFSBXqUc9tThlRW2PPhFeQU1fKsze6GcHpQUTOlXReM3BzXPkjAXpZZvHL6ly9wuUyRXsKa3pFNRduRMUFatQ246YVpBRvnX41LlSubxv7Hh2dEKIh3+wnbNbwvyStNKNrFtWgRb+f3tnHhbFkf7xmntgOAaRG+QQBAEFBORUQUBuBREQjyiKaDDiiSAgyuV4m8No1pg1UeOaeKwx5lRMjNHEoJPsZpM1hzHGJKvOHn/FzW+z6/4gla10BphBGMJ0z5dnHp+aquq33/dT011fq6qrIad6exGiHgiYlADklElxwhgI9I5Ab+SU3kAL7Sz7LKdW/P5dQkhe7RbW+46ckOHgPqzbt9zQt7/11GFTC8HJWRKZvOpkO/265rUPFSob3zFx9CvVHP4xE5j9hJmLxBLJunPXaAW1mxdXzNW1/VkqV4ybXUFL0ypq5FbWK0/8/GboCaWVYomk+uUPNFpd2W9+TwiJL1lAK9N/2Ym6rp2KyptpO9Sl/uwnrP7o9HyljV3Txa80Wl3OqhZCyIxNe2lp44Ubjl6+fZNTre23mi99w87ScO5zG0enqCkzaI7hJihq3iUSixc+9SI7PK92KyFk0b6XaA4hRCQWLzv6NqvQbQJyqneXIGqBgIkJQE6ZGCjMgUBvCPRGTk2u2TR/91H2YX1qHyb76LFeoZE+4TE0vfaNTyVSWfL85d12yVF5Mwkhq154r9tSjVbX2n5LprTmjjZptLqxBXNEYjHd6p3KKaZRNFrdrK1PE0IqD79JbardvJz9Arn2XQNCQpKzaY5rQMiI+IlsZK6+7er83cfYa3lii+aJRCLuSBvXjp6c2nDljtLWfuzUB7jWqHsLf3tKo9UFxCbZDnVhakyj1WUuXdc3OcXcaL18e+0bn9a3XQ1MTHMLDGX5Bppg5IQMl+FBXCdXnuhUwJMq1tDDCSF+UYnMVE8JyKneXICoAwImJwA5ZXKkMAgCxgn0Rk51u9i5z6NTGq1ucs0mkUi0+pRWo9XRkY8Vx9/ptlc2OjpV+/qfCCETF6zkHk6HeeiEHdUrbO5Po9X9tK7ryZ/2xFK7eXWsu+Ie7hsZ7xeVQHNkSiu9wTn6NXtF59L4EfET7ZzduMdy03pyqu7Mx92aIoTM2vq0Rqtz8vH3iYjlWpi940Cf5dS0xsdc/YMlUhk7qYOHNzNuoAmcfUewQ7gJNghHCGEDXcxg1wTklPHLDzVAYAAIQE4NAFSYBAFjBEwop+xd3NmC656WotNOt3NESiaftLhWo9X5hMd4BId37YxpTn7dNsNrp3opp7iKUM83uhSd64BvZLxvZDzNkcoV/rFJbGSOJapfev9+5RR1NTyrkBlhibozH5tWTtE3EAcnZxU2PV6687n5u48Ojx7H3UnVQBM4+fi7+gcz31iCSV66FJ1LrNs05JSxiw/lIDAgBCCnBgQrjIKAYQJ9llNWdmruiuzmS9+IJZJeyimNVheSnO3sF7j6lFYkEuVUtXbbH2u0uuqXPxBLJAE9P9nX7WRfzLS5epN9fZZTzn6Bw0ZH9+Sekck+axUDQuclFSqbsIypPVkLiE2yc3I1yWRfcFLmEE8frinvsGiunDLQBIGJqXbObtxj9RyGnDJ8TaEUBAaXAOTU4PLH2S2UQJ/llEdwuHvQKNbR5q7WEEKYetAbAeq67xRdwDQqbbJYKqVjM8yUXiJm2lxCSO7qDdz81su3s5Y30n2ngpOzpHLF6lNXaIXa0x8pbGz1lqL3WU6lLFxNCCnd+Rz37A3nPm957y9Gl6LbODpxH4jTaHWRudMlMvnS59/iWmO7NphwKXrIxOwhnj5sQ4cHn3lVJBLpyamemmBa42OEkPy6bVwnmy5+1XjhS5oDOWWhNwuEzRMCkFM8aSi4KSwCfZZTdM1TyMTsvNotMdPmOnh4q9SOvZdTzZe+sVYPoVsMcLvtrunGCzf8Y5N+XP6ckLW8saDh4ZTyKme/QJFYXPPqHzVaHd0owc7ZbdLi2ozKhiGePl03SuiznGq8cMM9aLRYKo3On5VXuyVreeOY3GK5lXV921XqakR20U8bJVS1Zq9sDpmYTTdK0Gh1gYmpcivrrBVN0zV76OKt2tMfqd28ZErr+JLy/Lpt6UvqR6VNtrJTU1P0UT6pQjlh7n1slBBTWJpWUcP9rD9/vWDdI4SQkRMy8uu2TSitVNrauwwP0pNTPTVB6+XbgYmpIpFodHp+7mpNzqqWmGlzrewdGEPIKWHdAxCN0AhATgmtRREPLwj0WU61Xr49Ye4SujFmQFzyqhfe6802nly1FFtYSggp3vAbbma36db2W1MbdvhExCpt7CRSWec7+yaXcHdPWHKoLSAuWW6tkimt/aIS6SZP1BRdis6kwM9L0f/3embDa6c0Wt36t68nlS519PKVyOQqtaN3WHTW8saWS99S+3R/diefgM5Sh6EjElIeevYMLVpx/B3fMXF0MTsTmnVnPo4tmmfv6iGRymyHOg8fOz6/fjuLuvql90dOyOjcxlPtGF9S3pttPLmrxWm65pU/bLhyJ/2hOrWbl1SucA8aNeeRZ7sOEGq0up6aoOXStxmVDS7Dg6S4qVryAAAgAElEQVRyhZWd2mNkWOqiavqkZAcQyCleXNpw0mIJQE5ZbNMj8MEkYFhOsW5+IBIJMxYqVDaNF24MhHHY7A2BAW0CLEUfzAsb57ZgApBTFtz4CH3wCAyWnGp656ZK7RiZO703vT7qDASBgW4CyKnBu6xxZosmADll0c2P4AeLwK8vp+rOfFzc+kRIcrZIJOJO2A2EYoDNbgn8Ok0AOTVYFzXOa+EEIKcs/AeA8AeHwK8vp+hDfzZDnNiS7W67fGQOHIFfpwlCJmanZ2QMzs8aZwUBCyYAOWXBjY/QB4/AlClTAhNTB67nhmWLJRCYkJKXlzd4P22cGQQslADklIU2PMIeXAJz5871HhVpsV0+Ah84At6jIktLSwf3542zg4AFEoCcssBGR8iDT2Dbtm0yuYI9Az9wnSssWxSBdeeuSWXy7du3D/5PHB6AgIURgJyysAZHuOZB4MaNG4SQopbdFtXZI9iBJkBfGvjVV1+Zx88cXoCABRGAnLKgxkaoZkVgbEzsiPhkA+9oG+iuF/YFRmDDlTsj4pJiYuPM6ncOZ0DAQghATllIQyNMsyNw6NAhQkjCzEVQVAKTNYMSzoYrdxJmLup48c6hQ4fM7rcOh0DAAghATllAIyNEcyWwc+dOQkh0/qwVx98ZlD4YJxUGgRXH34nOn0UI2blzp7n+2OEXCAicAOSUwBsY4Zk5gV27dlmrVIQQ94DgpHnLJldvLGzaWdS8Cx8QMEygsGnn5OqNSfOWuQcEE0KsVapdu3aZ+a8d7oGAgAlATgm4cREaPwjcvXv3+PHjJSUlzi6uMpms67t1kQMC3RKQyWTOLq4lJSXHjx+/e/cuP37u8BIEBEoAckqgDYuw+Eng3r1731vY382bNw8ePFhaWurp6UlFg1gs7lY9cDNZHU9Pz3nz5h08ePDmzZsWRu77e/fu8fNnDq9BQIAEIKcE2KgICQR4SuDatWt79uwpLCy0t7cnhIjFYpFIxFSUSCSiKkqtVhcWFu7Zs+fatWs8jRRugwAICIwA5JTAGhThgIAQCPznP//RarVbtmxJTU1VKBSEEIVCkZqaumXLlvfff/8///mPEIJEDCAAAgIiADkloMZEKCAgRALff//9Bx988P333wsxOMQEAiAgEAKQUwJpSIQBAiAAAiAAAiAwWAQgpwaLPM4LAiAAAiAAAiAgEAKQUwJpSIQBAgIm8H//938Cjg6hgQAICIAA5JQAGhEhgICQCezfv58Qsn//fiEHidhAAAR4TgByiucNCPdBQOgEKioqCCEVFRVCDxTxgQAI8JgA5BSPGw+ug4AlEICcsoRWRowgwHcCkFN8b0H4DwICJwA5JfAGRnggIAgCkFOCaEYEAQLCJQA5Jdy2RWQgIBwCkFPCaUtEAgKCJAA5JchmRVAgIDACkFMCa1CEAwJCIwA5JbQWRTwgIEQCkFNCbFXEBAICIgA5JaDGRCggIFgCkFOCbVoExiMCN27c2L59e1lZWUFBQS7+fknAx8eHEOLj4/PLbHzLLSgoKCsr2759+40bN3j0a4erICBIApBTgmxWBMUbAs8888zYmFhCiEyu8AoOC4hNGjk+HR8Q6A2BgNgkr+AwqUxOCBkbE4udTnlz2cNRIRKAnBJiqyImnhDYvHkzISQoMbWoZfe6t77QaHX4gMD9Elj31hdFLbuDElMJIVu2bOHJbx9ugoDQCEBOCa1FEQ9fCGzZsoUQkly2YsOVO/fbg6I+COgR2HDlTnLZCigqvlz+8FN4BCCnhNemiIgHBP7+97/LZLKEGQuhpfRkAb72mcCGK3cSZiyUyWT/+Mc/eHANwEUQEBYByClhtSei4QmBffv2iUSiNa992Oe+EweCQFcCNa/+sWPZ/tNPP82T6wBugoBwCEBOCactEQmPCGRmZvmNie3aHSIHBPpJwDciNisrm0fXAlwFAWEQgJwSRjsiCj4RuHfvnkKpzFy6rp8dJw4Hga4EMioblFZWfLoe4CsICIIA5JQgmhFB8IrAd999RwgpatndtS9EDgj0k0BR8y5CyN27d3l1TcBZEOA9Acgp3jchAuAdgVu3bhFCZu840M+O89c/vPb0R6EpOVb2DoSQ7JXNv74Dv9oZx+QWq928Buh0KeVVhJABMj57xwFCyK1bt3h3XcBhEOA1AcgpXjcfnOclASqnHnj42Z461GnrHyWELD54uqcKfc5vvXy7sGmnZ+gYKzu13FrlOMwvIrvowadf6aXBsIypcmtV5rL1Rc27lh+7OOfRQynlVXrHkh//ovJm6uUnzVtGi+rbruoVmfDr5JpNhBDP0DG9t7nmtQ9TyquW/O4s9xBTyanGCzdSyqsW7DnBNT6gcuqBh5+FnOLlfQFO85wA5BTPGxDu85DAIMqp2KJ5hJDgpMycqtbJNZviSxY4DvPrKom4fT83bePoFJ45jeVQa+wrTRBCpAql0ta++dI33CIHD2+pQkkIGVA55R0W7eA+jBCy8sQl7tkNpBcfPE0Imbb+UW6dlkvfNr/7NTenb+n6tquEED3CLe/9pemdm30zaPQoyCke3hLgshAIQE4JoRURA78IDJacqj39kUgkis6fze2SN1y5U3fmY26OgbRIJIotmscq9CSngpOzRGLx7O37Wc1F+14ihISm5AyonKp68TIhZNbWp1UOQ1MWrmZnN5zoVk4ZPqT3pd3Kqd4f3oeakFP8uhvAW8EQgJwSTFMiEN4Q6KecWnKobUT8RIXKRm5lPTx6nN5UXeXhN33HxEkVSjtnt7SKmoJ1j3QsTF596opGq3vw6Vc6h2EaHzPQSVedbA9NzbWyU8uUVl6hkXMe+WlGks4/0tk6+u+Y3GLuV7YYiBASWzTPLyphVNoUdqLYwlJX/2A6ycVGp8r3ngxNzbV39ZDI5PYu7gkzFjZd/IoeUnfmY5Xa0Tcynm1zuvLEJZnSmmuTGWeJtIoaKzt186VvYgpLHYf5sXyaaDj3ecKMhWo3L4lMbufsFpFdVN92dcGeE3pR0GEqNtnXculbKzt1ZO50rrV1b30hlSvGza7QaHXNl76ZuGCle9BohY2tTGntEx5T9pvf08qrT13RM06HqfQm+1re+0vqgzVDPH0kMrnazSupdCl3YEzt5hWYmLbwqRc9QyKkcoWDh3dh006uM3ppyCne3AjgqLAIQE4Jqz0RDR8I9EdOLTtyXm5lbTvUJa2iJqNybecMmlzx4DOv0j615tU/Wtk7WKuHpC6qzlre6OQT4DYihMmpNa99SAgJTExrvHBDrw+mX2tPf2Tj6KRQ2STPX569otltRIhILJ619WmNVld1sp0+MuYfm1TUvKuoedeifS/7xyZ1PqL449ei5l3UCJVT+fXbZUqr9W9f12h1Le/9ReUwNH1JvZ6cipteFpiYmv5QXX7dtqi8mWKJJDQ1lzk2Y/NThJCcqlaNVtd6+bZ3+FgbR6f6s5+wCl0TTj4BdM1W+d6ThJCKA6+zOuvfvu7iP1IskUTnz86r3ZJWUeMZErHkd2drT3+U+mBN5yuEpz5AA6k62a7R6pic0mh1UVNm6M1dFjbtZIvb6tuu2g51SZz1YF7tlsyl65x8/CVSGV2J1Xjhy7zazlcJhSRnU+OVh9/UaHV6cooK09DU3Mk1myJyijpnY5OzmOdqNy8nH38bR6ekecsmV290DxotEomWHTnPKuglIKf4cA+AjwIkADklwEZFSGZOoD9yKjg5SyKT0y5fo9V17KuuUNn4jomjfWrc9DKRSMRWVa9941P6FB4dndJodbS3trJThyRnZy1vXH7sIrczTpixkBCy8KkXaeb6t687eHg7uA9rvXyb5lCpxA7pabIvtmhew5ufSWRyqrHmPHpIJBKtPqXVk1NsLIoaTF9SLxKJql96n9kPy5gqU1qvPPFu5rL1nc9CcmYPWR2WeOjgGULI/N1HNVrdhit37F3c40vKWenEBavoPCDLodU0Wl23k31cOVX6+POEEO6jA4GJqUM8faip1vZb3FViDec+t3F0ipoyg5Z2O9nHlVOVh98ghETnz2KOjZu9mBDChrjUbl6EkPK9J2mFurY/s4Exdgg3ATll5pc/3BMqAcgpobYs4jJfAn2WU63tt7pOeI0tmCMSi9e99YVGq3Mc5ucdFs3tXOOml7HRKTrMQ0c42CTU8OhxNa/+kR4y1Hu43jNx6UvqCSFLn3+LVui9nNJodSMnZAQmpmq0uvDMad7hY9moDJvsY342Xviyvu1q+ZMv6GmmtW98ajvUxTUgRKpQRmQXsfrdJhJmLrJxdGptv0VLx82u4H51GR7kNiKk2wONyqnO0TW1Y3hWIT28UylKZUmlS/WstV6+vfaNT+vbrgYmprkFhtJSo3Iq/aE6QsjyoxeYtdrX/0QIoTOJGq1O7ebl7BfISjVanWtASEhyNjeHm4acMt8rH54JmgDklKCbF8GZJYE+yyna0U5csJLbfeasaiGE0NkfiUwekfML2ZFT1cqVU+zA+rOfzN5xYERCSscr3nzCY2i+VK7QUy2zt+8nhLAVVPclp0o0eyRSWfVL78utrCfXbOoqp6pfen9MbrGVnZppO0KI3sIgOuVn4+jUcO5z5nzXRGv7LduhLqPT81eeuEQ/MzbtJYSUPv78T6EplNxnErkWjMopjVY3tmCOQmVDlzRNbdhBCKk8/AYzMq3xMVf/YIlUxgJx8PCmpUblFFXDLZe+ZdY0Wp3S1p7Ne6rdvDqWynFLfSPj/aISuDncNOSUWV70cEr4BCCnhN/GiNDcCJiDnGIdsG9k/I96S9uxyMm0cqrp4ldya5VfVIJYKqUjUtzJvtb2W0O9h6vUjhmVa2dv3z9/99FpjY913bAgOn8WIUQik7MRMuY5NzFv1xEmZbgJJi6l/ZNTdMX6rG3PaLS6gNgkJ58Adna6pCw4Oauw6fHSnc/N3310ePQ4tgVob+XUe39hBrvKqcDENG6pb2S8b2Q8N4ebhpwyt+sd/lgIAcgpC2lohGlGBPosp7qd7IuZNrf3k33cfpemx82uIITQxwO7TvZlVK41MNkXVzyfPdDHLHNHsMKzCgkhIxJSaClXTi353Vm9sSgqibj7P8197DAhZPycJXbObu5Bo1t+qTnYGenKcZshTjM2P8X9hGVMVahs6AotA5N9dNEV97x6S9HpJCkd/apvuyqWSrn7SAUnZQ7x9GFPIGq0Ou+w6J/l1NlPuu47xV071c1k3+mP9Cb7IKfM6OqFKyDQAwHIqR7AIBsEBoxAn+WURqsLTs6SyhVsaXnt6Y8UNrY/L0Uvnm9gKXrt639advRtrgppvvSNW2CoSCymo0d0KfqifS/TOo0Xvhzi6WNgKfqEuUsIIXrTcFw5VXn4jZTyKmaQK6eWPneOu2vDhit3AhPTuKNTDec+t3N28wwd09p+i+qq1EXVXOdZukMwKVQ2bPU3y6ebXZVo9mi0OgNL0Zcfu9j1nTncpejUYNz0MrmVdfaKZr2lTiETs4d4+rDV+g8+86pIJGJyquniV4QQ7qJ4NulJzdKl6GOnPsDcHj+nkyp3KTrk1IBdizAMAiYjADllMpQwBAK9JNBLORVTWJpWUcP9rD9/nW6UYOfsNmlxbUZlwxBPH+5GCdUvf6C0tVepHX/eKCEwlM3lLT54WiQSDR87Pv2huoJ1j2RUrqXbKCTMWEj7crpRgtLGbuKCldkrmzuVlkhEN0qgFbhSSaPV0fVJEdlFRS27p/+oWjRanV4dphKYjKDSreXSt0M8fVRqx0mLa3NXa/yiEqgzbJQoIqdIqlCyZw+j82dJpDLuiiVmuUSzR28NOy1qvXxb5TB05Pj0Dq/Wv33d2S/wfxslbE1/qM5rVBS11nLpW6WtvZOP/9SGHdM1e6pevNx1dEqj1S387amOoTiFysbVP5idWqPV0Z29Rk7IyK/bNqG0Umlr7zI8iMkpjVbn7BdoO9R5cs2m6Zo9dMqSOzpFz0UIGZU2ZXLNJrppgt5GCZBTvbyyUA0EBpEA5NQgwsepLZRAL+UUdw0QTde88geNVrfkUFtAXLLcWiVTWvtFJbKxH9rHL/ndWZ+IWKlcYe/inr6kPnf1BkJIxyBWp6Q4fz2nqjUgLtnexV0ilSlUNsNGR09du507UUW38VTa2ksVSs/QMWwROjWuJ5Va22/FTS9TOQwViURs1k+vDld5cEenNFrd8qMX/GMmyK1VKrVjdP7sysNvstEp+h7frBVN7PD156+r3bzcRoTordrufIRwfLpUoex2M63I3OkSqYzuVrX2jU/jiufbObvRXUPH5BazXaxm7zjQKbakUuZA19Gpzs0XXD0IIZMq1jCv6G4L6Q/Vqd28pHKFe9CoOY88q3fson0ve4wMk8jkbNZPT051buO5qNrBw1sildm7enS7jSf3jFg7ZaE3DoRt3gQgp8y7feCdEAkYlVPcvrOf6fiScqlCybYP6Kc1HG7+BLAUXYj3DMTEAwKQUzxoJLgoMAIDKqe4e2PWn/3Eyt7BP2aC+YsAeGgqApBTArtdIBy+EICc4ktLwU/hEBhQOeU2IiS+pDyvdmvqomq1q6dYKi1/8gVTddWwY/4EIKeEc6dAJLwiADnFq+aCs4IgMKByKql0qeMwP5nSir6Ol750xfxFADw0FQHIKUHcJBAE/whATvGvzeAx3wnodJ2Pv3GfmDNVVwo7IDBr69Mdr2fW6XR8v0zgPwjwiwDkFL/aC94KgcC//vUvQkjBukfQ94OAyQnQjRv+9a9/CeFSQQwgwB8CkFP8aSt4KiACTs4u42YvNnlXCoMgMG72YidnFwFdKwgFBPhBAHKKH+0ELwVGoLy83NFjGHfDJ+gAEOg/gQ1X7gxx91q4cKHArheEAwLmTwByyvzbCB4KkMCZM2c6FrgsPni6/z0oLIAAI1Bx4HVCyJkzZwR4zSAkEDBvApBT5t0+8E6gBH744QcXV9dhIRF6L7xj/SISIHC/BBrOfT4sJMLF1fWHH34Q6HWDsEDAfAlATplv28AzYRPQarVqBwevkAj2qpP77T5RHwQYgfqznwwLiVA7OGi1WmFfOIgOBMyTAOSUebYLvLIIAlRRSWXykePTC5serzrZ3nDu8+Z3v8YHBHpDoOHc51Un2wubHu98a6FMDi1lEXcNBGmuBCCnzLVl4JdlEPj666+3b98eExvX9YXHyAGBXhKIiY3bvn37119/bRkXDaIEAXMkADlljq0CnyyQwM2bN0+fPv38888fsJi//fv3b926de7cuVFRUUqlkhAiEol6KSBoNVpfqVRGRUXNnTt369at+/fvtxh+B55//vnTp0/fvHnTAq8XhAwC5kYAcsrcWgT+gIAlEvj3v//d3t6+cePG5ORkmUxGCJFKpd1KK5ovl8uTk5M3btx4+fLlf//735aIDDGDAAiYEwHIKXNqDfgCAiDw3//evXv3zJkza9asiYiIoONPEomEjl1FRESsWbOmra3tn//8J1CBAAiAgPkQgJwyn7aAJyAAAvoE/va3vx07dqy2tvbYsWN/+9vf9IvxHQRAAATMgwDklHm0A7wAARAAARAAARDgLQHIKd42HRwHARAAARAAARAwDwKQU+bRDvACBEAABEAABECAtwQgp3jbdHAcBCyDwIcffpiXl/fhhx9aRriIEgRAgJcEIKd42WxwGgQsh0BFRQUhpKKiwnJCRqQgAAK8IwA5xbsmg8MgYFkEIKcsq70RLQjwkwDkFD/bDV6DgMUQgJyymKZGoCDAYwKQUzxuPLgOApZAAHLKEloZMYIA3wlATvG9BeE/CAicAOSUwBsY4YGAIAhATgmiGREECAiXAOSUcNsWkYGAcAhATgmnLREJCAiSAOSUIJsVQYGAwAhATgmsQRGOKQlcv379tddeO3z48AH8DR6BlJQUQkhKSsrguYAzHzh8+PBrr712/fp1U15gsAUCAiIAOSWgxkQoJiLw5Zdfbty4MWJMJMEfCIDALwlEjIncuHHjl19+aaKrDWZAQCAEIKcE0pAIw1QEzp8/r7KxkSutQlNySjY+ufrUlXVvfdH87tf4gIAlE1j31herT10p0ewJTcmRK61UNjbnz5831UUHOyAgAAKQUwJoRIRgMgJUSw2PSlj31hcarQ4fEACBrgTWvfXF8KgEKCqT3XdgSBAEIKcE0YwIwhQEvvvuO1s7u+FRCY0XvuzahSAHBECAEWi88OXwqARbO7vvvvvOFBcfbIAA7wlATvG+CRGAqQgcPXqUELLyxLusz0ACBECgJwIrT7xLCDl69KipLkDYAQFeE4Cc4nXzwXlTEigsKvIIGtVT54F8EAABPQIegaHFxcWmvAhhCwR4SwByirdNB8dNSuCHH36wsraeVLFGr8PAVxAAgZ4ITKpYY61S/fDDDya9FmEMBHhJAHKKl80Gp01O4M6dO4SQWVuf7qnnQD4IgIAegVlbnyaE6HQ6k1+PMAgCvCMAOcW7JoPDA0Lgs88+I4SU/eb3eh0GvoIACPREoOw3vyeEfPbZZwNyTcIoCPCKAOQUr5oLzg4YgatXrxJCFj71Yk89h6Xlp5RXEULq265aWuB9jnfa+kc7hmoWHzzdNwu+kfEuw4N6Onb1qSuEkGnrH6UVaOuwymo3rzG5xexr14RvZLxvZHzX/H7mLHzqRULI1atXB+y6hGEQ4A0ByCneNBUcHVACvZRTy46cD8+cZufkKpHJbYe6hGUWLDty/r76pEmLa2dte+a+DjFcedG+l1LKqxrOfW64WtfS1vZbBese8Y2Mt7JTS2RytZtXZO50pgbMSk4Vtz6RvbK5awj9zPGNjGc7flvZqT2CwwsaHm69fLtvZs1ETi07+nZKedXqU1e4UUBODejdA8ZB4L///S/kFH4GINBJoDdyauaWfT+qKOfk+cunNuxILlthO9RFIpPf14oruZW14YEEbi/Ym3TmsvWEEL3u0+iBTRe/GhE/kRDiOyYuc9n6goaHJy5Y6eTjLxKJal75g0arMys5FZiYpnbzMhrU/VbwjYy3d3Evat5V1Lwre0WzW2AoIWTC3CX3a4fWH1A5teHKnaZ3bra236Ln0hudan7365ZL39KiGZufIoQs2HOCG0XzpW+aL33DzTFJGqNTuHuCACMAOcVQIGHRBIzKqVUvvCdTWjv5BNS1/Zl1RfVtV518AuRW1lUn21mm4YSZyKnYonmEEL0hn9b2W5nL1ptcTnVKgYtfGcZiuLSfcqr18u2md252PYXe/FrjhRv2Lu5yK2smTdghPVlgFTRa3YDKKe6JmNjVy6Rfu5VT3dbsfybklEXfNBH8LwlATv2SB75ZKgGjcmpswRxCSPnek3qdUPmTLxBCxhbMofljcov1xlG4Awlsaokm6DAVrbD82MVRaZMVKhsre4f4kgWs+9dbNEPPQghJKa9i3SrXLB2mqm+7uvzYxcYLN/S8pV9rXvmDWCr1j03qtpRmUq9Wnrg0JrdYaWOnsLGNzJ3ONViw7hG/qESVw1CJTO7sO2LKms1ca2o3r8DEtNKdz3mMDJPKFVS3GT5Eo9XNfex3vmPi5NYqhcrGIzi8uPUJjVbHnZIjhDC8ze9+PXHBqiGePhKZ3N7FffwDDzW/+zXzgRASWzSvqGW3s1+gWCrtdoJVT05ptLrQ1FxCyJrXPtRodd1aWHKobUT8RIXKRm5lPTx63INPv8LOSOVU+ZMvjJ36gJW9g0JlE5Fd1PDmZ6zC7O37AxNT6YjmEE+f1Adr2GgTDdNleNBDB88MGx0tVSgd3Ifl1W5hx+r9DLg/Ko1Wx9ZOUR+4vwc6TKU32WcY3bxdR7zDxypt7ORW1kO9hyeVLmVu6CUgpyz1fom4uyEAOdUNFGRZIAGjcsrOydXBfZhed0K/OrgPs3dxp2nDcqqoeZdUrvCJiKUTTIv2vcwkkat/8Mjx6ZOrN4ZnFRJCIrKLqEG9fpRmMjlVefjNsIypdJyJ2qRvyKHdrd6MDz1Wo9Xl128nhBQ2Pc5yuiaoBfegUSETs6es2RydP4sQMn7OzxNhniERkbnTs1c2567WBMQmEUImV29kdtRuXo5evlZ26gmllXm1W6knhg+Ztv5RkUjk4j9y0uLayTWbovNnUQjzdh1xCwxVqR1pgFQYtV6+HRCbJFNaJ8xYmF+3La54vlgqDU7KZA4QQpx9R6gchqYuqp5cs2nJ786yIpboKqfcg0aLJRKqGrtaWHbkvNzK2naoS1pFTUblWgcPb6lc8eAzr1KDVMq4+gf7RMTmrt4QWzRPJBZ3qMMNV+7QCsHJWaPSpmQuW59Xu2VU2mRCyLjZi7nO2Dm52gxxiiuen7t6g094DCGkoOFhWkHvZ9CTnKo62R5fsoAQkjRvGcVVe/ojqtXYUnTD6JYdOS+RyT2Cw3OqWvNqt46bvdh3TBxzUi8BOWWBt0qE3BMByKmeyCDfsggYllPrzl0jhHB7a26/MnJCRsd4wPrz1zVanWE5pdHquk720a5x5IQMZjO2sJQQUnn4TY1Wp9eP0jpMTmm0um7XThmWUwkzFxFCulUYzAdqIWrKDJYTkpxtrR7CvurN3wXEJQ/x9GGlajcvQkjpzudYjkarM3DIunPXFCobr9BINizXwYoJka6TfUXNu0RiMfdJzLzarYSQRfteomckhIjE4mVH3+Y6oJf2jYx38gmob7tKB/OoEBk5Pr0nC8HJWRKZnE3sdgxiKVQ2TG1QOdUxGsfmCjOXriOEzN5xgBrUC39swRyZ0pqNqNFBuKwVTbRy86Vv3AJDbYY4UWt6P4Oe5JRGq+t2so87OmUYXfbK5t4/0Qk5ZVl3SURrkADklEE8KLQYAoblVM0rfyCEhGcV6vXH9Gt45jRCSM2rf+yPnCp9/HlmfPmxi4SQ9CX1fZZTzFS3iai8mYSQVS+8120pzaQddsWB11md7BWdHe26t75gOTSx7ty1+rar6Q/VdZaeu0Yz1W5eDh7eejXZ166HUBHQ7ZScRqvrKgxyE9wAAA0tSURBVKdGTshwGR5ElRD9l75Cju1rTwjxi0pkZ+w2oTeNKBKJAhPT2N4QehZa22/JlNaj0qZwTY0tmCMSiykTKqfy67axCuvfvi6WStlE8M/556/Xt10tatn9o2h+g+b7RsaLpVLu67fzarcQQuh8ognllGF0NIqpDTt684Qj5JTF3CARqHECkFPGGaGGJRAwLKd6MzpF+9Q+j05VvXiZdbctl74VicW0G9brR2kdo6NTzFS3id6PTtGpImqEdrSrT2np14W/PTV87HiZ0pq7Uqf6pfdpqdrNa3j0OL2zGzgko3Ltj++fvqR3CP3aVU45+47gnpel40sW0EMIIdyhtW7N+kbGO7gPm7/76Pzdxxb+9lTdmY+51fQs1L7+J0LIxAUruXVyVrUQQuhmGZSP3k6w9q4eAXHJ9JBlR84HJ2cpbGyZt52r8Z58gZb6RsarXT25xsueON6xq9N0zZ6uqro/o1OG0TVd/Mo7fCwhRKV2HD0pr2TjkwZ0FeSUJdwbEWMvCUBO9RIUqgmcgGE5pdHqbIe69DTc4uA+zM7ZjXaEkbnT2VppmpNctoIQwrrJnib7fiGn3vsLR05pufs3arS61vZb/ZRT+XXberl2ig3VsCfX6FL3VS+8J5Ur3EaE5NVunfPoofm7j1KJxvZroEvRWdQarc7wIfcrp5x8/F39g39UQke5/644/g49KV1IznWga7rr2iluHT0L/ZRTDec+t1YPcfDwzlnV8sDDz87ffTSjsoG7o8GvJqeMomu9fHv+7mMJMxdR4TU8ehx3yTwXEeSUwG+LCO9+CEBO3Q8t1BUuAaNyKjp/drfbppfvPcl9si9h5qKO5+C4XU5EdtEv5JS1Sm/fKTrS0NNk37q3vtDb0aDqZDtXTmUtb7zffaeqX/5ALJEE9OLJvp7kFF1hw8aiNFpd0rxlXDe6yinDhxie7AsaN0lPpAYmpto5u7HFVVzgNK0nhrpWYA/TdVvEnuxjpd1O9sVMm9vLyb5Z257hjkWxBwLY4wKmmuybueW3XJVG/eeunTKKjoWs0eomLa4lhMzffZSbydKQU8K9IyKy+yYAOXXfyHCAIAkYlVMrT7wrU1o5+wXWn/2EdSdr3/jU2S9QprRm65AmV29kq8g1Wt2a1z6UW6u4csrG0UlvSTuVU90tRf9pVY1K7RiSnM1OOm52BVdO0RU2euvKDW+UoNHqYqbNJYTkrt7AzHaOe12+nbW8sad9p/432de53Xbu6g0/iqefJv7WnbtmO9TFsJwyfEjHVKlCZeMZOqbbpeijJ+Upbe25rk5rfIwQwl2oRJe6s7VHJpdTGq0uODlLKlewEbiOmVCFja3xpejb92u0ugd2HOxUOU/+tLsmXWnO1T3dLkVXOQy936Xocx873Pky71/uvM+VU4bRrX3jUy7nOY8eIoTMeeRZbiZLQ04J8maIoPpGAHKqb9xwlNAIGJVTnc9Mbdorkcpsh7okl62g24jTt83M3LKPdTD1Zz+RW1kP8fTJWdWS/lCdvauHe9BorpwKTEyVW1lnrWiartlDn7GncuqnjRJqNtGNEsIyC5jNCaWVnet48mbm1W4Jy5jqMTKMK6cqDrxOCAlMTC1seny6Zk9vNkrQaHWNF274/7i7gV9UQtbyxoKGh1PKq5z9AkViMV1TT73qaXRqxfF3JDK5q3/w5OqNGZVrh3j6uI0IMSynjB4ytWEHIcTFf2T6Q3V5tVtips2NyPlptwj6iFzCzEXFG37zwI6DVPkFJqaKRKLR6fm5qzU5q1pips21sndgL8kZCDlFN0qwc3abtLg2o7JhiKdPzxslaOKK54vEYp/wGDqEVn/2Eys7tdrNK2tFU/aKZvegUZQYd3Tqp40SppflrtbQjRLy67fTn4HeEjraOuwXwvad0mh1ta//SSyReI2Kmtb42HTNHrogjCunWi/fNoAuvqTcPWhUctmKqWu3T1pca+fsZu/izp4wYGekCcgpod0HEU8/CEBO9QMeDhUQgd7IKY1Wt/S5c2EZUzt3YuzUVc5hGVOXPv+WXh8zb9cRF/+REpncyce/qGW3Xs+34vg7vmPiZEorQsgvtvE8eiE0NbdzG087dccuStxBmqaLX0XlzezcS1NlMyptSl3bn7lySqPVpVXU2Dm7icRiJmjoSVlXrech/drafmtqww6fiFiljZ1EKut8Z9/kEjbKZVhO0eEW14AQuuFkRmVDwbpH2NnpxpKBiWl6531gx0EDh1Cb3mHRMqWVwsbWM3QMXYX9o/j7MiyzQGlrz93Gs+XStxmVDS7Dg6RyRecb90aGpS6qZg8eDoSc0mh1Sw61BcQly61VMqW1X1Qi3TmMhklH737axtNOLbdWhWdO4w72LNr3kteoKJnSys7JdfycJaWPP683OsXdxlPt5sXdx6v3ckqj1U1du32Ip49YImH2uXJKo9UZQFf2xPHgpEz6/wQ7J9ewjKkrT7yr147sK+SUgG6BCKW/BCCn+ksQxwuDQC/lFOtITJjoKlxMaBymQGDgCEBOCePuhyhMQgByyiQYYYT3BCCnBq7ThWWhEoCc4v2NDwGYjgDklOlYwhKfCUBOCbXLR1wDRwByis/3PPhuYgKQUyYGCnM8JUDlFNtTceB6oK6WMdnXlQlyeEGAvv/76tWrPL3q4TYImJAA5JQJYcIUjwl88803Bh4I50XfBidB4Fcm8MDDz3ZspvXtt9/y+MqH6yBgIgKQUyYCCTM8J3D37t3OfYz+91z6r9wt4XQgwEcCdHv9f/7znzy/+uE+CJiAAOSUCSDChDAIxMbFjxyfzsdeDT6DwKAQGDl+Ulx8gjAuf0QBAv0kADnVT4A4XDgEduzYIZXJe9qxcFC6K5wUBMyWQMO5zyUy2cMPPyycWwAiAYF+EICc6gc8HCosAjdv3uzcHnPharPtwOAYCJgPgZSFqzte53fz5k1h3QYQDQj0kQDkVB/B4TBBEqivryeEZC5bbz6dFjwBATMkkLlsPSGkvr5ekPcBBAUCfSAAOdUHaDhEsATu3btXV1dHCAlJzi7Z+CR7n64Z9mdwCQR+fQLr375eotkTkpxNtdS9e/cEey9AYCBwnwQgp+4TGKoLncC9e/eeeOKJMZFRhBC50mpYSHhAbNLI8en4gIAlEwiITRoWEi6n75qMjHriiSegpYR+L0R890cAcur+eKG25RC4du3a5s2by8rKCgoKcvFnagI5OTnjxo0LCgpydHQUiUSEEPovuc8/dqyjo2NQUNC4ceNycnJM7Szs5RYUFJSVlW3evPnatWuWcxNApCDQewKQU71nhZogAAIDQuC77757/fXXq6urw8LCqDySSqUGZBUtFYlEYWFh1dXVp0+fvnv37oB4BqMgAAIg0DsCkFO944RaIAACvwqBv/71r0eOHCkvLx82bBhVVBKJhBBC/yWEeHt7L1y48MiRI3/9619/FY9wEhAAARAwTgByyjgj1AABEBgUAtevX9+7d29xcbGPj09xcfHevXuvX78+KJ7gpCAAAiBgmADklGE+KAUBEAABEAABEAABIwQgp4wAQjEIgAAIgAAIgAAIGCYAOWWYD0pBAARAAARAAARAwAgByCkjgFAMAiAAAiAAAiAAAoYJQE4Z5oNSEAABEAABEAABEDBCAHLKCCAUgwAIgAAIgAAIgIBhApBThvmgFARAAARAAARAAASMEICcMgIIxSAAAiAAAiAAAiBgmADklGE+KAUBEAABEAABEAABIwQgp4wAQjEIgAAIgAAIgAAIGCYAOWWYD0pBAARAAARAAARAwAgByCkjgFAMAiAAAiAAAiAAAoYJQE4Z5oNSEAABEAABEAABEDBCAHLKCCAUgwAIgAAIgAAIgIBhApBThvmgFARAAARAAARAAASMEICcMgIIxSAAAiAAAiAAAiBgmADklGE+KAUBEAABEAABEAABIwQgp4wAQjEIgAAIgAAIgAAIGCYAOWWYD0pBAARAAARAAARAwAgByCkjgFAMAiAAAiAAAiAAAoYJQE4Z5oNSEAABEAABEAABEDBCAHLKCCAUgwAIgAAIgAAIgIBhApBThvmgFARAAARAAARAAASMEICcMgIIxSAAAiAAAiAAAiBgmADklGE+KAUBEAABEAABEAABIwQgp4wAQjEIgAAIgAAIgAAIGCYAOWWYD0pBAARAAARAAARAwAgByCkjgFAMAiAAAiAAAiAAAoYJQE4Z5oNSEAABEAABEAABEDBCAHLKCCAUgwAIgAAIgAAIgIBhApBThvmgFARAAARAAARAAASMEICcMgIIxSAAAiAAAiAAAiBgmADklGE+KAUBEAABEAABEAABIwQgp4wAQjEIgAAIgAAIgAAIGCYAOWWYD0pBAARAAARAAARAwAgByCkjgFAMAiAAAiAAAiAAAoYJQE4Z5oNSEAABEAABEAABEDBCAHLKCCAUgwAIgAAIgAAIgIBhApBThvmgFARAAARAAARAAASMEICcMgIIxSAAAiAAAiAAAiBgmMD/A/5jGvrfCCDaAAAAAElFTkSuQmCC)"
      ],
      "metadata": {
        "id": "DQmzPGVggBTe"
      }
    },
    {
      "cell_type": "code",
      "source": [
        "hparams = {\n",
        "\t\"n_cnn_layers\": 3,\n",
        "\t\"n_rnn_layers\": 5,\n",
        "\t\"rnn_dim\": 512,\n",
        "\t\"n_class\": 29,\n",
        "\t\"n_feats\": 80,\n",
        "\t\"stride\": 2,\n",
        "\t\"dropout\": 0.1,\n",
        "\t\"learning_rate\": 5e-4,\n",
        "\t\"batch_size\": 30,\n",
        "\t\"epochs\": 20\n",
        "}"
      ],
      "metadata": {
        "id": "C3OQhpl5capq"
      },
      "execution_count": 18,
      "outputs": []
    },
    {
      "cell_type": "code",
      "source": [
        "hparams"
      ],
      "metadata": {
        "colab": {
          "base_uri": "https://localhost:8080/"
        },
        "id": "J8OcQZW3fDLG",
        "outputId": "901f2b4f-f2fd-482d-91b0-2f5c16331a8a"
      },
      "execution_count": 19,
      "outputs": [
        {
          "output_type": "execute_result",
          "data": {
            "text/plain": [
              "{'n_cnn_layers': 3,\n",
              " 'n_rnn_layers': 5,\n",
              " 'rnn_dim': 512,\n",
              " 'n_class': 29,\n",
              " 'n_feats': 80,\n",
              " 'stride': 2,\n",
              " 'dropout': 0.1,\n",
              " 'learning_rate': 0.0005,\n",
              " 'batch_size': 30,\n",
              " 'epochs': 20}"
            ]
          },
          "metadata": {},
          "execution_count": 19
        }
      ]
    },
    {
      "cell_type": "markdown",
      "source": [
        "# 5 Training and testing"
      ],
      "metadata": {
        "id": "QmvAW3WEauR2"
      }
    },
    {
      "cell_type": "code",
      "source": [
        "learning_rate = hparams['learning_rate']\n",
        "batch_size = hparams['batch_size']\n",
        "epochs = hparams['epochs']"
      ],
      "metadata": {
        "id": "h77nm_ExZZtp"
      },
      "execution_count": 20,
      "outputs": []
    },
    {
      "cell_type": "code",
      "source": [
        "# n_cnn_layers, n_rnn_layers, rnn_dim, n_class, n_feats, stride=2, dropout=0.1):\n",
        "model = SpeechRecognitionModel(*list(hparams.values())[0:6]) # we don't use learning_rate, batch_size and epochs here"
      ],
      "metadata": {
        "id": "L_ZrKFyjYOpL"
      },
      "execution_count": 21,
      "outputs": []
    },
    {
      "cell_type": "code",
      "source": [
        "spectrograms = spectrograms_train\n",
        "labels = labels_train\n",
        "input_lengths = input_lengths_train\n",
        "label_lengths = label_lengths_train"
      ],
      "metadata": {
        "id": "Gv-vB_IIZ-5c"
      },
      "execution_count": 22,
      "outputs": []
    },
    {
      "cell_type": "code",
      "source": [
        "# Move data to the same device as the model\n",
        "device = torch.device(\"cuda\" if torch.cuda.is_available() else \"cpu\")\n",
        "model = model.to(device)\n",
        "spectrograms = spectrograms.to(device)\n",
        "labels = labels.to(device)"
      ],
      "metadata": {
        "id": "UIV9i0TCWifn"
      },
      "execution_count": 23,
      "outputs": []
    },
    {
      "cell_type": "code",
      "source": [
        "# Forward pass\n",
        "outputs = model(spectrograms)"
      ],
      "metadata": {
        "id": "_WsoMXPQaIkN"
      },
      "execution_count": 24,
      "outputs": []
    },
    {
      "cell_type": "code",
      "source": [
        "# Calculate CTC Loss\n",
        "ctc_loss_fn = nn.CTCLoss()\n",
        "log_probs = outputs.permute(1, 0, 2)  # (T, N, C)\n",
        "loss = ctc_loss_fn(log_probs, labels, input_lengths, label_lengths)\n",
        "print(f\"CTC Loss: {loss.item()}\")"
      ],
      "metadata": {
        "id": "zFae8a74aKk-",
        "colab": {
          "base_uri": "https://localhost:8080/"
        },
        "outputId": "0612e4fd-f994-4ae5-e697-f1f090ca2220"
      },
      "execution_count": 25,
      "outputs": [
        {
          "output_type": "stream",
          "name": "stdout",
          "text": [
            "CTC Loss: 7.447013854980469\n"
          ]
        }
      ]
    },
    {
      "cell_type": "markdown",
      "source": [
        "**CTC (Connectionist Temporal Classification) Loss** is a handy loss function for training models where the input and output sequences don't line up perfectly, like in speech recognition. It lets the model predict a sequence of probabilities for each character at each time step, even if people talk at different speeds. CTC uses a special blank token to separate repeated characters, so the model doesn't need to know exactly when each character happens. It works by calculating the negative log probability of the correct sequence over all possible alignments, making it great for tasks like speech and handwriting recognition.\n"
      ],
      "metadata": {
        "id": "gIbPfhbXg6Vi"
      }
    },
    {
      "cell_type": "markdown",
      "source": [
        "**Levenshtein Distance** is a way to measure how different two strings are by counting the minimum number of single-character edits needed to turn one string into the other. These edits can be insertions, deletions, or substitutions. In the context of speech recognition, we use Levenshtein distance to calculate how close the model's predicted text is to the actual spoken text. This helps us compute metrics like the Word Error Rate (WER) and Character Error Rate (CER), which tell us how well the model is doing at recognizing speech correctly.\n"
      ],
      "metadata": {
        "id": "JxB6J4-8hn3i"
      }
    },
    {
      "cell_type": "code",
      "source": [
        "gpu_info = !nvidia-smi\n",
        "gpu_info = '\\n'.join(gpu_info)\n",
        "if gpu_info.find('failed') >= 0:\n",
        "  print('Not connected to a GPU')\n",
        "else:\n",
        "  print(gpu_info)"
      ],
      "metadata": {
        "id": "aS5EE_doebpR",
        "colab": {
          "base_uri": "https://localhost:8080/"
        },
        "outputId": "bd8aa61e-d4e6-41b4-98d8-5162c10e0fd6"
      },
      "execution_count": 26,
      "outputs": [
        {
          "output_type": "stream",
          "name": "stdout",
          "text": [
            "Sat May 18 15:17:41 2024       \n",
            "+---------------------------------------------------------------------------------------+\n",
            "| NVIDIA-SMI 535.104.05             Driver Version: 535.104.05   CUDA Version: 12.2     |\n",
            "|-----------------------------------------+----------------------+----------------------+\n",
            "| GPU  Name                 Persistence-M | Bus-Id        Disp.A | Volatile Uncorr. ECC |\n",
            "| Fan  Temp   Perf          Pwr:Usage/Cap |         Memory-Usage | GPU-Util  Compute M. |\n",
            "|                                         |                      |               MIG M. |\n",
            "|=========================================+======================+======================|\n",
            "|   0  NVIDIA L4                      Off | 00000000:00:03.0 Off |                    0 |\n",
            "| N/A   43C    P0              28W /  72W |   1113MiB / 23034MiB |      0%      Default |\n",
            "|                                         |                      |                  N/A |\n",
            "+-----------------------------------------+----------------------+----------------------+\n",
            "                                                                                         \n",
            "+---------------------------------------------------------------------------------------+\n",
            "| Processes:                                                                            |\n",
            "|  GPU   GI   CI        PID   Type   Process name                            GPU Memory |\n",
            "|        ID   ID                                                             Usage      |\n",
            "|=======================================================================================|\n",
            "+---------------------------------------------------------------------------------------+\n"
          ]
        }
      ]
    },
    {
      "cell_type": "code",
      "source": [
        "from psutil import virtual_memory\n",
        "ram_gb = virtual_memory().total / 1e9\n",
        "print('Your runtime has {:.1f} gigabytes of available RAM\\n'.format(ram_gb))\n",
        "\n",
        "if ram_gb < 20:\n",
        "  print('Not using a high-RAM runtime')\n",
        "else:\n",
        "  print('You are using a high-RAM runtime!')"
      ],
      "metadata": {
        "id": "AOVYrSdVedbZ",
        "colab": {
          "base_uri": "https://localhost:8080/"
        },
        "outputId": "19e80f2e-0f10-44d2-efc8-e54b9b511f05"
      },
      "execution_count": 27,
      "outputs": [
        {
          "output_type": "stream",
          "name": "stdout",
          "text": [
            "Your runtime has 67.4 gigabytes of available RAM\n",
            "\n",
            "You are using a high-RAM runtime!\n"
          ]
        }
      ]
    },
    {
      "cell_type": "code",
      "source": [
        "import torch\n",
        "import torch.nn as nn\n",
        "import torch.optim as optim\n",
        "import torchaudio\n",
        "from torch.utils import data\n",
        "from tqdm import tqdm\n",
        "import os\n",
        "\n",
        "# Define hyperparameters\n",
        "hparams = {\n",
        "    \"n_cnn_layers\": 3,\n",
        "    \"n_rnn_layers\": 5,\n",
        "    \"rnn_dim\": 512,\n",
        "    \"n_class\": 29,\n",
        "    \"n_feats\": 80,\n",
        "    \"stride\": 2,\n",
        "    \"dropout\": 0.1,\n",
        "    \"learning_rate\": 5e-4,\n",
        "    \"batch_size\": 30,\n",
        "    \"epochs\": 10\n",
        "}\n",
        "\n",
        "\n",
        "def train(model, device, train_loader, criterion, optimizer, epoch, save_dir):\n",
        "    model.train()\n",
        "    total_loss = 0\n",
        "    with tqdm(total=len(train_loader), desc=f\"Training Epoch {epoch+1}\") as pbar:\n",
        "        for batch_idx, (spectrograms, labels, input_lengths, label_lengths) in enumerate(train_loader):\n",
        "            spectrograms, labels = spectrograms.to(device), labels.to(device)\n",
        "            optimizer.zero_grad()\n",
        "            outputs = model(spectrograms)\n",
        "            log_probs = outputs.permute(1, 0, 2)  # (T, N, C)\n",
        "            loss = criterion(log_probs, labels, input_lengths, label_lengths)\n",
        "            loss.backward()\n",
        "            optimizer.step()\n",
        "            total_loss += loss.item()\n",
        "            pbar.set_postfix(loss=loss.item())\n",
        "            pbar.update(1)\n",
        "    avg_loss = total_loss / len(train_loader)\n",
        "    print(f\"Training Loss: {avg_loss}\")\n",
        "\n",
        "    # Save the model and optimizer states\n",
        "    if not os.path.exists(save_dir):\n",
        "        os.makedirs(save_dir)\n",
        "    torch.save(model.state_dict(), os.path.join(save_dir, f'model_epoch_{epoch+1}.pt'))\n",
        "    torch.save(optimizer.state_dict(), os.path.join(save_dir, f'optimizer_epoch_{epoch+1}.pt'))\n",
        "\n",
        "def test(model, device, val_loader, criterion, epoch):\n",
        "    model.eval()\n",
        "    total_loss = 0\n",
        "    test_cer, test_wer = [], []\n",
        "    with tqdm(total=len(val_loader), desc=f\"Validation Epoch {epoch+1}\") as pbar:\n",
        "        with torch.no_grad():\n",
        "            for batch_idx, (spectrograms, labels, input_lengths, label_lengths) in enumerate(val_loader):\n",
        "                spectrograms, labels = spectrograms.to(device), labels.to(device)\n",
        "                outputs = model(spectrograms)\n",
        "                log_probs = outputs.permute(1, 0, 2)  # (T, N, C)\n",
        "                loss = criterion(log_probs, labels, input_lengths, label_lengths)\n",
        "                total_loss += loss.item()\n",
        "\n",
        "                # Decode and compute WER/CER\n",
        "                decoded_preds = greedyDecoder(outputs, blank_label=28)\n",
        "                decoded_targets = [int_to_text(labels[i][:label_lengths[i]].tolist()) for i in range(len(labels))]\n",
        "\n",
        "                for j in range(len(decoded_preds)):\n",
        "                    #print(\"target: \", decoded_targets[j])\n",
        "                    #print(\"preds: \", decoded_preds[j])\n",
        "                    test_cer.append(cer(decoded_targets[j], decoded_preds[j]))\n",
        "                    test_wer.append(wer(decoded_targets[j], decoded_preds[j]))\n",
        "\n",
        "                pbar.set_postfix(loss=loss.item())\n",
        "                pbar.update(1)\n",
        "    avg_loss = total_loss / len(val_loader)\n",
        "    avg_cer = sum(test_cer) / len(test_cer)\n",
        "    avg_wer = sum(test_wer) / len(test_wer)\n",
        "    print(f\"Validation Loss: {avg_loss}, CER: {avg_cer}, WER: {avg_wer}\\n\")\n",
        "\n",
        "\n",
        "def load_model_and_optimizer(model, optimizer, checkpoint_path):\n",
        "    e = hparams['epochs']\n",
        "    model.load_state_dict(torch.load(os.path.join(checkpoint_path, f'model_epoch_{e}.pt')))\n",
        "    optimizer.load_state_dict(torch.load(os.path.join(checkpoint_path, f'optimizer_epoch_{e}.pt')))\n",
        "\n",
        "\n",
        "use_cuda = torch.cuda.is_available()\n",
        "torch.manual_seed(7)\n",
        "device = torch.device(\"cuda\" if use_cuda else \"cpu\")\n",
        "\n",
        "# Loading datasets takes roughly 6-7 minutes, only first time\n",
        "train_dataset = torchaudio.datasets.LIBRISPEECH(\".\", url='train-clean-100', download=True)\n",
        "val_dataset = torchaudio.datasets.LIBRISPEECH(\".\", url='dev-clean', download=True)\n",
        "test_dataset = torchaudio.datasets.LIBRISPEECH(\".\", url='test-clean', download=True)\n",
        "\n",
        "kwargs = {'num_workers': 1, 'pin_memory': True} if use_cuda else {}\n",
        "train_loader = data.DataLoader(dataset=train_dataset,\n",
        "        batch_size=hparams['batch_size'],\n",
        "        shuffle=True,\n",
        "        collate_fn=lambda x: dataProcessing(x, train_audio_transform),\n",
        "        **kwargs)\n",
        "\n",
        "val_loader = data.DataLoader(dataset=val_dataset,\n",
        "        batch_size=hparams['batch_size'],\n",
        "        shuffle=True,\n",
        "        collate_fn=lambda x: dataProcessing(x, test_audio_transform),\n",
        "        **kwargs)\n",
        "\n",
        "test_loader = data.DataLoader(dataset=test_dataset,\n",
        "        batch_size=hparams['batch_size'],\n",
        "        shuffle=False,\n",
        "        collate_fn=lambda x: dataProcessing(x, test_audio_transform),\n",
        "        **kwargs)\n",
        "\n",
        "model = SpeechRecognitionModel(\n",
        "  hparams['n_cnn_layers'],\n",
        "  hparams['n_rnn_layers'],\n",
        "  hparams['rnn_dim'],\n",
        "  hparams['n_class'],\n",
        "  hparams['n_feats'],\n",
        "  hparams['stride'],\n",
        "  hparams['dropout']\n",
        "  ).to(device)\n",
        "\n",
        "print(model)\n",
        "print('Num Model Parameters', sum([param.nelement() for param in model.parameters()]))\n",
        "\n",
        "optimizer = optim.AdamW(model.parameters(), hparams['learning_rate'])\n",
        "criterion = nn.CTCLoss(blank=28).to(device)\n",
        "\n",
        "# TODO: refractor this, make it easier to understand\n",
        "# Parameters (replace argparse arguments)\n",
        "mode = 'test'  # Set mode to 'train', 'test', 'recognize' or ''\n",
        "\n",
        "if mode == 'train':\n",
        "  model_path = '' # Empty if 'train'\n",
        "elif mode == '':\n",
        "  model_path = '/content/checkpoints/'\n",
        "else:\n",
        "  model_path = '/content/checkpoints/'  # Path to the model file to load\n",
        "\n",
        "wavfiles = []  # List of wav files to recognize\n",
        "save_dir = 'checkpoints'  # Directory to save model and optimizer states\n",
        "\n",
        "if model_path != '':\n",
        "  print(\"MODEL and OPTIMIZER LOADED!\\n\")\n",
        "  load_model_and_optimizer(model, optimizer, model_path)\n",
        "\n",
        "if mode == 'train':\n",
        "  for epoch in range(hparams['epochs']):\n",
        "    train(model, device, train_loader, criterion, optimizer, epoch, save_dir)\n",
        "    test(model, device, val_loader, criterion, epoch)\n",
        "\n",
        "elif mode == 'test':\n",
        "  e = hparams['epochs']\n",
        "  test(model, device, test_loader, criterion, e)\n",
        "\n",
        "elif mode == 'recognize':\n",
        "  for wavfile in wavfiles:\n",
        "    waveform, sample_rate = torchaudio.load(wavfile, normalize=True)\n",
        "    spectrogram = test_audio_transform(waveform)\n",
        "    input = torch.unsqueeze(spectrogram, dim=0).to(device)\n",
        "    output = model(input)\n",
        "    text = greedyDecoder(output)\n",
        "    print('wavfile:', wavfile)\n",
        "    print('text:', text)\n"
      ],
      "metadata": {
        "colab": {
          "base_uri": "https://localhost:8080/"
        },
        "id": "7VESZVZ4kybd",
        "outputId": "01346a97-ef33-41a7-cdfc-610ad28ea764"
      },
      "execution_count": 28,
      "outputs": [
        {
          "output_type": "stream",
          "name": "stderr",
          "text": [
            "100%|██████████| 5.95G/5.95G [07:54<00:00, 13.5MB/s]\n",
            "100%|██████████| 322M/322M [00:30<00:00, 11.2MB/s]\n",
            "100%|██████████| 331M/331M [00:31<00:00, 11.2MB/s]\n"
          ]
        },
        {
          "output_type": "stream",
          "name": "stdout",
          "text": [
            "SpeechRecognitionModel(\n",
            "  (cnn): Conv2d(1, 32, kernel_size=(3, 3), stride=(2, 2), padding=(1, 1))\n",
            "  (rescnn_layers): Sequential(\n",
            "    (0): ResidualCNN(\n",
            "      (cnn1): Conv2d(32, 32, kernel_size=(3, 3), stride=(1, 1), padding=(1, 1))\n",
            "      (cnn2): Conv2d(32, 32, kernel_size=(3, 3), stride=(1, 1), padding=(1, 1))\n",
            "      (dropout1): Dropout(p=0.1, inplace=False)\n",
            "      (dropout2): Dropout(p=0.1, inplace=False)\n",
            "      (layer_norm1): CNNLayerNorm(\n",
            "        (layer_norm): LayerNorm((40,), eps=1e-05, elementwise_affine=True)\n",
            "      )\n",
            "      (layer_norm2): CNNLayerNorm(\n",
            "        (layer_norm): LayerNorm((40,), eps=1e-05, elementwise_affine=True)\n",
            "      )\n",
            "    )\n",
            "    (1): ResidualCNN(\n",
            "      (cnn1): Conv2d(32, 32, kernel_size=(3, 3), stride=(1, 1), padding=(1, 1))\n",
            "      (cnn2): Conv2d(32, 32, kernel_size=(3, 3), stride=(1, 1), padding=(1, 1))\n",
            "      (dropout1): Dropout(p=0.1, inplace=False)\n",
            "      (dropout2): Dropout(p=0.1, inplace=False)\n",
            "      (layer_norm1): CNNLayerNorm(\n",
            "        (layer_norm): LayerNorm((40,), eps=1e-05, elementwise_affine=True)\n",
            "      )\n",
            "      (layer_norm2): CNNLayerNorm(\n",
            "        (layer_norm): LayerNorm((40,), eps=1e-05, elementwise_affine=True)\n",
            "      )\n",
            "    )\n",
            "    (2): ResidualCNN(\n",
            "      (cnn1): Conv2d(32, 32, kernel_size=(3, 3), stride=(1, 1), padding=(1, 1))\n",
            "      (cnn2): Conv2d(32, 32, kernel_size=(3, 3), stride=(1, 1), padding=(1, 1))\n",
            "      (dropout1): Dropout(p=0.1, inplace=False)\n",
            "      (dropout2): Dropout(p=0.1, inplace=False)\n",
            "      (layer_norm1): CNNLayerNorm(\n",
            "        (layer_norm): LayerNorm((40,), eps=1e-05, elementwise_affine=True)\n",
            "      )\n",
            "      (layer_norm2): CNNLayerNorm(\n",
            "        (layer_norm): LayerNorm((40,), eps=1e-05, elementwise_affine=True)\n",
            "      )\n",
            "    )\n",
            "  )\n",
            "  (fully_connected): Linear(in_features=1280, out_features=512, bias=True)\n",
            "  (birnn_layers): Sequential(\n",
            "    (0): BidirectionalGRU(\n",
            "      (BiGRU): GRU(512, 512, batch_first=True, bidirectional=True)\n",
            "      (layer_norm): LayerNorm((512,), eps=1e-05, elementwise_affine=True)\n",
            "      (dropout): Dropout(p=0.1, inplace=False)\n",
            "    )\n",
            "    (1): BidirectionalGRU(\n",
            "      (BiGRU): GRU(1024, 512, bidirectional=True)\n",
            "      (layer_norm): LayerNorm((1024,), eps=1e-05, elementwise_affine=True)\n",
            "      (dropout): Dropout(p=0.1, inplace=False)\n",
            "    )\n",
            "    (2): BidirectionalGRU(\n",
            "      (BiGRU): GRU(1024, 512, bidirectional=True)\n",
            "      (layer_norm): LayerNorm((1024,), eps=1e-05, elementwise_affine=True)\n",
            "      (dropout): Dropout(p=0.1, inplace=False)\n",
            "    )\n",
            "    (3): BidirectionalGRU(\n",
            "      (BiGRU): GRU(1024, 512, bidirectional=True)\n",
            "      (layer_norm): LayerNorm((1024,), eps=1e-05, elementwise_affine=True)\n",
            "      (dropout): Dropout(p=0.1, inplace=False)\n",
            "    )\n",
            "    (4): BidirectionalGRU(\n",
            "      (BiGRU): GRU(1024, 512, bidirectional=True)\n",
            "      (layer_norm): LayerNorm((1024,), eps=1e-05, elementwise_affine=True)\n",
            "      (dropout): Dropout(p=0.1, inplace=False)\n",
            "    )\n",
            "  )\n",
            "  (classifier): Sequential(\n",
            "    (0): Linear(in_features=1024, out_features=512, bias=True)\n",
            "    (1): GELU(approximate='none')\n",
            "    (2): Dropout(p=0.1, inplace=False)\n",
            "    (3): Linear(in_features=512, out_features=29, bias=True)\n",
            "    (4): LogSoftmax(dim=2)\n",
            "  )\n",
            ")\n",
            "Num Model Parameters 23311869\n",
            "MODEL and OPTIMIZER LOADED!\n",
            "\n"
          ]
        },
        {
          "output_type": "stream",
          "name": "stderr",
          "text": [
            "\rValidation Epoch 11:   0%|          | 0/88 [00:00<?, ?it/s]/usr/lib/python3.10/multiprocessing/popen_fork.py:66: RuntimeWarning: os.fork() was called. os.fork() is incompatible with multithreaded code, and JAX is multithreaded, so this will likely lead to a deadlock.\n",
            "  self.pid = os.fork()\n",
            "Validation Epoch 11: 100%|██████████| 88/88 [01:42<00:00,  1.17s/it, loss=0.505]"
          ]
        },
        {
          "output_type": "stream",
          "name": "stdout",
          "text": [
            "Validation Loss: 0.580578404394063, CER: 0.17260947207517785, WER: 0.500932108323908\n",
            "\n"
          ]
        },
        {
          "output_type": "stream",
          "name": "stderr",
          "text": [
            "\n"
          ]
        }
      ]
    },
    {
      "cell_type": "markdown",
      "source": [
        "Result for seven epochs, then GPU disconnected."
      ],
      "metadata": {
        "id": "9DbwaTjudICw"
      }
    },
    {
      "cell_type": "markdown",
      "source": [
        "![image.png](data:image/png;base64,iVBORw0KGgoAAAANSUhEUgAAAs4AAABZCAYAAAAuEKL+AAAAAXNSR0IArs4c6QAAAARnQU1BAACxjwv8YQUAAAAJcEhZcwAADsMAAA7DAcdvqGQAADAgSURBVHhe7Z29ahzLtvjXvVwOdwIdBl9kUKAxGARWIicbJBwo85afYHCiSKDIeO83sPwGx8aRQJESoyeQtjMFRgInUiKDwOBRILC4ZjgK5nI48P+vtaqqu766qns+pJG1fpv21kxPV9fHqlWrVq2u/o+VlZX/B4IgCIIgCIIgJPlP/X9BEARBEARBEBKI4SwIgiAIgiAINRDDWRAEQRAEQRBqIIazIAiCIAiCINRADGdBEARBEARBqIEYzoIgCIIgCIJQAzGcBUEQBEEQBKEGYjgLgiAIgiAIQg3EcBYEQRAEQRCEGojhLAiCIAiCIAg1kFduC/eMLrzZWYOO/hTw8woGD2ahpT/6/Ouf/4K//f1v+pPPAK7+twWz/6M/Bgzg35jyf+lPPqOlfQ3/hBn4u/4U8H//Bvjvqjvn0u7BwcZb2NOfBEEQBOG+Ih5nQRAEQRAEQaiBGM7Cr83LN7Cz1dUfhHHQ3dqBNy/1B0EQBEG4R0yp4UzL6Tuw848/YFl/04Tl1x9gB6+/H4P7Mvzxj3toyJBBTDLitDPJzQf445n+KNxPnv0BH3beoDRMBzTRMLI6rE4ThCaQzH147Uka9wuUwRt1JOixnA/RzXUxNozojOmkeYwzGSzPYxGi44yD1HGo16ew/ec7ONbf1oWEbvNpC3qfNuDtR/3lpInVy5D5bwYZzpvQPhqurKRg1+b1B4tx1l2qPcw5hS9DqmxLM/rjxQFsbNFZq8yA9b7S53p+hGVZ/bkNr95bNU7t8uRMX0dIjHNIsxhnkpnFr83lI9XW7jmFIy9O/xrA6c4rePdZf/Sg/Ply4Mi51y9z905dW4dYfhzIoNlYglYh3yV+3gYniXQCXFmvutaUr1mfz6TdoL1Cqvq9oV65JoVpk6F0ZKKtDcO1hwXfow2H/nicuje1l9ajk6lJarNV6DeSg0mTk7M0jl5AnPYyda0/um3p3TfVPybeLsIwNPc4f3wLGxsbeGzD6bVSWurzuIxmYg/eUppDCsvx+1ecp6GUzijQoMp1oY87IOx7W1Z+6dg5xW48gH5P/2AkSEHswDqco5kUAZXC5tMrNKDUvQ8uOrBmza67W6hc+qjM+PwB9ObXLC+Kl0dMa619Crs3OIAKDfDaevtk1mlrotQl6ij7Lw66z8G6FmBpo8qj3IXF+R4cWnJAhg7JhumbB/0l2PS8bpX3JrkCI4Oo8yC8dhQobzuY3PmF/sKG6uzxealTsG/C0/WaXjvqe2swa8rF126GK1Pcb3rQQ12egoyEsu9l0iaj4fksGgMq3+n2Ckn3+5rlmggZfZYh2daGmu2RYvm3BYCT/XA8/vwOXlGdNTAOf2XScpaGdUqhF/D41IPOcyPjKCfdBTjX8q/O2d72Y3j3pz7H568a9Q/h9plAqIZSLqTISNlGl2hQORTLEHjYSo+VizkXDFA0a0UBI8VsfuMMvnRefx9ZFqK0qWOU+fJDHOzrzTGO5SWqE0rHTt/rKHaZ6IiW3TofLN8k0m4AKd3WxWEw+1V11izd5dfr7BV+9f5Sf2ODdbLSQYOlVPB7f6HRPrMAK1TfWB+r8zgT/6s4C/snA2g9XsErUfEckbLBPD3vQO/oEl7QQL0ns/LpJGzr4/eH0DNtnYUm0uXE/PjLOU6bZmEucu3y61XoXJwVv6V+8YK8g0elbLCczS/Wk2VyFBSGxjEcfRsAtOe8vjckKOPrDw55gh3tIQ9nAfqXpUx/voQr/WeJ7ve+vnj5ApZmrAkEGk2HaLB1nti/w2u5/+xDX38TovS5MynNpN39nbyapQ7htoYOLHrGbVSnJPs9UqtckyGtzzJk2lqRbg9nbMQjPlkgeUfj/EshNYw95jnGoRl3aHVgBieF+jejjCHNaDKuRc57tkRdwzcrZxkePWjB4Od3/Qnp9VEnGcgwtjzIH89Q/lvQNkskPs61wl1gYjHOnedqeZJmVAcXLVj63XRD7Ai0dF7MtuyZGilZ5S3eRiGO04E1Xoai63GWiJ39RaFAtKeavtff+LSebhb5ont0VsqO2N1aw0FXzyLZ80pLLONaWsI62KClKlVu9q4Wgx3WycYSXH1S58LZLykPy8tCh+fN7jw3adNKQAdW6yoQB6V0S2UyGtSW1V7/R9CeGVgKXtVByyiYThta1+dwZOqevG+0ZD3TxiuRYuVjA/YfrmLd7I6pnYRJcfXDltjv0L9ODCZDUSW/3uoEG6Bxw/tGIQ9gwvvHEwRLD7B+svtEAja6rQkEe8hoWdky+o2+q+6jpHe0V87SN+m0l2GujXrza3GWPcTUzLMPa+ikTL+vU65JkdZnGTJtTSTbgwxva8WGjtjv1MQxdHyYlcUD39tN+aL0cBx2V0zHuYJchZKNclwLV3SoTqrHPZRPa2WDjtohO7nxJcPeVzSFi5UOLEeXJov2hL0+ylk13LXC7TC5hwNRARghJiErFRsat7YC4dlYk0GM4oFMp96DM1QEtRSywcoXD0xFR6ElXkvhfz6C8+uGaTszdjw8L5BthNt1wsoOldZ+oQixjlCRmdmvOZ8KQyjTVl6x1oM63d+lSukSSvFOQpkqj9YOTgwAJw6k2J06LzwitFRPEyJPVvSAYi/NC9OGkkl7kkreuzLGT0EDUVXfKTGDVEROXy5GDEvSEfbEXRso+m9DrXuzrLne64nCRs02nD9WeeOlYW/CzLqCjIYqo0x75Djkg5wBRt+xx60HB1XXcb/TRkvTtDXKy7kJC9+22Unh66SkTsn1+8y97xy59mBCr73LMqw8RvksJi1Tjr96gJL9bi9cDUp7gVuw8Fv8rO1lLw9vBTknZ1Ww4+YA4DmlqWS8qp+oCa89vhM0KVV52hyjs0q4GSZmODudl4TMUviuQIeD2O1AHjBUTWbJ79kKLDge0Rr4Mc5JJYjYyt5ekvWgZaHU+fGgl7RvVOmSF1495Ef19faj8lYVnkmaiBSrCzjAPptDtXYFl4VhpIyoq0/7MMfGNx03tcQoNOH4/a7yJul+vw6HcHpdeoLNSpM6tuG0vRY1YDkuEVPaDvoWysIKLXOHRu3ellrBMTpn8SsNkKUc1bu3WhEBNCSH9jo2hQd10z90vprIN5WZHiyicpH+ZS9bHzWd6TfVE2H2gum/o1SmrbBXHMlRESxtp8j1+8y97x759uBJFK/Oaj0XhDQgZIhi33ANtCkn0257W9oLrfuuG56Ck0Yd4676tts3gud3+LBWkLPjSwKeuJlV3gO4ojxE2kStiOCEqGrCy8chtDeqQm+EaWRyHucKCkEqhIYGsWngGC4psMwMsDxITnj531Ya3lIjL0lqvv+cfARU6PWeNGqiQg9llYaICt9gY4rjvuzVBcQbINlr2T+At6AGDBpIKQQm7ZURbgf3gZhX71HkZ6oGKR1L7EET7vgghPBEtwdnUfm1BymcoPVwgKwcsGP3Ju+QWka/yd0bVKywWbqn+kMjomYY1vEPioZ266qImea6UsatMjhwMmI+68FfTSa0QeBNIpJp43+sR5268ibEKTL9Pn3vO0qN9mCs8DR+wNUz1LpPOjD4dnS36sFfKaC21n8qLL2BRvIs1oljYJpQEzz4gWPLeE56nGuML9WoSfqgsA9Iv6Ad44SN4q/Q1mFvsn2PKEOsnAu3yo0bzowlnLFl01vBLJXpTkjH5AZJis0qlZwKGbE7nftAk4l1nNyM1L1fDKWExunN1SEl1i4BynjXS+0cKtOCpa4ZHLSyMgMDthfH/DmeRzVAC9OOMkShysPGbeuufhRGc8XSPhmZ0Z0EfMiLu7EA51UPkgb3Lo3m7ArSJLAn1NrAcg1Qyh/2Td9DziFw7nMUxYqSZWyogwxytCXoGQtnUkIGgfZ0OwZcIm2Ew9BsfaWX5P1JTVSn5Pp95t4KvIZXoMbxYHdThrh37fYoCZwpevwaOmSNDMnUw7rUb0jOIl7VodFtWU4EjUFa0Y+jD8eWqElVSdLjnJMzjTG+Y2OvE3pEYWJoiJsVtNJorvGMFLddw9Vt4VZpvo9zASkIFdvjGpjqe95jN+r90QOR/jQ4OYWrpwt6f0d1rR/7WO6vSNe6e0GSYBd7pNLyCT0d7ECzSvV7FmZ6stkMgDyIlvtdqsFZnTLU3iM0dm8K3WDFF5YrSJfzslTMtnPn/bTt+g7KmYHLTdt1VShpQtVNteESJdoeakBw8ooDH1OUyeDWW1knfpmt3/lpUB5kH+fb38fZkYWyTyr8/uGd92XfkNALNo6MeWXJ3du9tsTdlzWNo6McKmSxKJeft9h9dRpRw95NvzrPfn8KCcuQSdtp77jeqNYpbrlDHZwvl2m3Ju2UpYY+K/Puy3iurW3C9gjl0K03Pl+p8+P39uu1Xj+Jt2Ul0Tqz68bLm1MfYb6dPAdp+3WeIydnmAOW0ZiM+XlLlMlQjE2paz2ojLKP89QxguH8i+EZ0Qx/R/sxNumMMUJFKNwQpHjEcJ6KF6BMirTRcPtUG87CxGCjinZcGFV33wVIp1VPHMcFG5EZB4swZsRwnkpuJ1RjGgliq3BA5gdkaj4sIAjCrcDxuFNqNAs3DRmRO/fIaCYopGaCZSXjDetUjGZBUIjhbPj4Vu2tTEpXH+pNZw2WpQRBECIU292NM0ZUiGAeBL0vRvMNYB5KFKP5xqBVNNYXkdAg4faRUA3hniGhGiHNQjUEQRAE4b4ihrMgCIIgCIIg1EBCNQRBEARBEAShBmI4C4IgCIIgCEINxHAWBEEQBEEQhBpMqeGstxQa8gl080SqvPtdEARBEARBGBfNHw7kjeVjexKM88l7vfNB8Ca5epg3II31rVFZbmYT+ongtGmDty9VyYL19ifz5iUm0p7OeaTyDU1RWXB3yHDe/BR725zzVir3rVHOuRrlIqrlbPS0CVM3MTl26s1cW/WGPVN3/nm/Tv28RfIkCIIgCPeZCbxy+75yRw1n7+2Iyhgcdv9qTybIECve2qeNyX5pjPG97De+seEG5b3159OTWVh6fO4Zzt69tFF4ZYxM+twF2A2MbQUbnmDyogzw2cgrVxW+rJvP9Lr4JQDPsKVyrcOu/m3TtDVU9hWajqIh67xxMqzHFG45XVLnKvMlCIIgCPeYCYRq0ICrwiRoYFYvE/kAfzzTpwkyCvh7ddghFWR0FOe20PJxICPkDXTJKDK/ccI56Lz+3r8nQml/eL1s5csP57CvN0eYznB4aQdhKOnzTr3gEYah6OuDOkvT/X0JWheHhbF//P6QjbXFYcJcnq3AwkwPDo2hRRvnF0bZMRx9GwC054pyPXrQgsHP7/oT0usD/kKD5aFXjaIRfaS/cXj5Apbse31+B4cXAJ0nNcqP8rM6P4DTv0ze9mD/ZACtxytem2i8ci2/XufXp796f8mffehNdqWxuQdnmK/Wg0f6s4dfZwyW/XkHekf70NffFFC5axrNlM6iU06X7z/L2g45hsvg5oIgCIJwv5lYjHPn+Q6s/tzmNw4dXLRg6Xdj0KBRQF5IfrsTHp/QTHuOxrA+y6/Pxe+30ZCJ04G1jTYc8vUH0JtZgheFkWfeGoXf62986A1eJl90j85KaaB2t9agQ8vTlMbOKRtxvU/j8CDTZEJ5HVW5t+EUlmDTMnLp3uV5PGxPKRp66+wF1ufw8Jfuh2MZ5tpYxq/GsFL5pMX62YdREzIJGeFwsl/bU733tcftoSYBeO8uGfFn+npsywpvMbH8cBag+C1+xokFhy5Yhnkl9Hr163M4Mu2KEzkKuYCZNsTMW79cJKPjqf94nRk5jN2j+6SDk405Z5IVTqIUy69XMZ1yUuSyDCuPW1bb+yij+/xLVQsIgiAIwv1jcg8H4sBvvG5kIJUGDRpEtrfs4xkaubMwV9urSzG4JoxAefMaGXlWvo6/nMOgMJbIULCMyM9HcH49nAEZ4HtH0Rx8t4eG+fxiMWEgKj2eTM4LrCcNtTyRIcoLr5bmaUJR6SGtgr24vufUgo1/NNSOLGOYX+V6AICTLHPvxvnXqxebFMpBkx3b+MVJ1WZhYJaTswKzcsHhITTZishhrlw5MH9rVV7fWNr6u4NoPaiJTutpG87MJIonnrFVkS68eArhfYvVnk2cup3CvmeclysbZLxXGd2CIAiCcD+ZmOHseLLIQLK8h3aoBA/Q+vvb5Tv00VAulvp5CX2MHrfrPt6hmr0t7YXW9eJ4ET+/g1dsIOk6G3K3kSrs1QGaVAQhFDVQIR+lB9ilC282yLO67XpR2YijuHAyAg/g6ulms7LNr8EOh3Pg9SRf7EnW9Ux1ZoxLPLZPZmHNNp7JqC5WLnAi9mwOzeYruPQMxXS5MpBhTiEXFasWYdrK6371KR1f3rPPf9yH0+sWtL1OxN5m26tu4MmKrpejNsqbO6EwKz5cZz9Xxy5rgiAIgnCXufHt6NSSOu3AoQfvRFjFzaJjOskYI+OUDb3d8Xnc/DAAMvL0n4pjePenrpOdU5hFY9Yxni2D56CPRt9YDBpdZssLb7yaVz8aTBjYS1oVS0ux1yr0oLwHgUbiSgcGRR2Tx9wPvanm+McV/otyZE3IOHyjf1l8tuHVBf23iqW2Vy4Q2+g2JMuVgYzm2GTBEEubJ2tqIqMmlWpnDv7M7a3aK78KQt5mz7sfI7Pa467ICIIgCIJw44YzYxkoHM+p/75V2JCxDXrlfR0LbKB0YPW1MXiM0VgRD/z5EsgsrCL+UBcZqGhgNXw4kMNocLJQGOk6rOTMMfYo9pkMufiDkspzGlvWL43mqhAMJyTk5SLW0gD6dWZSuk7XivJqYzEas+vFT3MYTguWumbyodvj25FjaFaXK4NlNFfJUDRtz0vOsfDX5GHGv/UEQcWFv8DSaiLtpbzNYRiGT6VXWjOSt10QBEEQfkEmsB2d+p52HYg/QKWNKf1pcEJbei3obdzUtcX+t4bC8KJr3S3fKOyDwgw4D7T0H+yRS55Fa6s1e/szNnBouV55Hikte09hwtkbOIlbLkV57+C8Y0yG19r35XzTw2sFsT2zdRoJI7USp95iaZt2scuj4Wtnw++RMN+Kcl9iv9x2+hWy4Ow97F5v73fs3ztsRzf94HyiXHE5K+8fkyOnbKm0HeJ9yS2b117aaC+25bPx8+3t4xy01zCyJAiCIAi/MCMYzr8YnhHN8HflHseCIAiCIAjC/eV2QjWmkSDmGGD5twX8LnxgTBAEQRAEQbh/iMfZIlxij4UtCIIgCIIgCPcRMZwFQRAEQRAEoQZiOAtCA6oeeFQM4Op/WzD7P/pjwAD+DS34L/3J51///Bf87e9/0598cmlfwz9hBv6uPwX8378B/rvqziOm/fMKBg9mg1AnQ/0HbAVBEARhupEYZ0EQBEEQBEGogRjOglAJbQcX37taGBLaqUbeRigIgiDcUW7BcKa9d82b0aqMEv2b7ABLho33hr2RqXvvXwTa2/e+GTJkvGkZ/GC/lGbssiRMJTcs8/TQsdJ390ivCLcKyVyp2zRG7zV8SdZo1BnvBR8KCRSdMb00jHFWL2QIX3qiOmrxIpJaUIdyX2ZSQufW+O1n9gsaQuIviEhCg+ZKP5Fu3XuPE1UO/2Uf9gs9Jka2PhL4L9QwjPXFGan20Of0Jz+WtupFIYWsflkp9u7+Tr+1X47DULusA+yVMioxzhGaxDjT4I3j9m5TeeM91ZeKe8T6hmmbdL+J6Yy0HBH10o6T1o3pe9O1xU4/jXSSr1O8lxd59dksbSJTZ45uiLw4KYmX90Cf5NtrkowiC269u/VSpa8aw/fw3klAmHvH9PMo40AtqM2qxvvbIidndTBppNpSUcpLpm/aTLxdhGFo6HE+hqNvA2g9XsGmt+nC4vwAzr+Mq2n34C29cvhWhOX27k0dq3zd8hBK+ab5+NbJr3lF9OCneaH6iJDS2FmE/knsFeOkfNZgFgdNvvfOKcDTTevV4W9QcV3h4KPydnDRgTVr5n71w2pdHFDW6bdjM/aF8YKDrn4bomnr2ee294pkYQfW4RzNjQzPVmAB7NeRe3K0cQBXthw1SbsxeRleAxzMOV/Yt2AJNmt7C4/h3Z+6vuj4dAVLG2+wJjXe690P+um0XQ9mJt9koPGbMVXa2yfg3jtDdwuNir4p9wH05tfq33uijCgLpM/4hVqqXjY2LGPJ01fbJ7OOvmoCvX8ATvZDo9u0ueg5Ji1n9Vh+vY5p9KLyQBM6lbY6yvE80zeFqadxqMbxl3MYzCzAir3k8nIROtfncFTMmGh2aZZn8GiwNEQztfR1dtr2rE3DxpY5by29kzKn78gLMoODRPGbUmBz93bO42ErazpHnY4GmNj5Ucin7dV3ROGm8k48ss43VR4FZJTM9OAw4q1rvkyHZaKZ9sZbONLfOLx8gW1v3QsHhcMLgM4Tajcc4FY6qLjKwWPvr9NCbunv2edYVjTG4OQM5rpklMl+3dPK8utVXnEojF1u6xYs/KbklAYv8iC/en/Jn1N0f8c2/3ZUTop9OUIp2MeJmpKjZmk3JinDCE1MCyNHOS2gPef1bd33czq214fY9NPw/WfVWWUsrrVPYdfkM5NvquPWxWFhFB6/P0TDogOLns5R+swzGFBPr84P4PSvoudyexTOmlydTZDRZIF0UtVr9kN9xXXmjbM5Ha7owounEDix7LHD0e81xsXJkhu7Mue98b722JWTszpgGutY16d/nekvhiTTN4Xpo3mM8+cjOL8uBy2i+wQ7vTUYdbcW4ayYaamZXF0j8vj9K75uu46XUXs4S7CTPTnT52gmh+r6uVYAqGB5to3f8bKk+Y21nJW8t+cRUGm7xmDr6SYvyZo0OivDeQxi2Gk75YrVieeZIoXr5B0Px5uNCnONwhR02q2nL3TazWCjJObpGIo9eJvw+i8/nAW4OCvuRWXkJW02LB5Be8ZeAUG54OXRFrRpfdfIAh6vfiyy12Hqvfv3nf6lIwtk6LUePOK/qd/Waj8eLG0jWXPdB3uN5PjHVWGg1k57CNIyPF74LajWvVyWYeVxC3pf/bNktGivnNUX0/lehrk22gJFWko/UbebfVijVPQGV9sJw3q3hTqqjb06d+/JMpIssFMB5eo3y/j1jEBnFQwlso/jLOsrgo20hA7X8CTTmrQY9rbUNQc4yXCoMS5OjvzY1d2yz+PhjAkon9bKBh21Q3YycpYH896l8W43HmLRgHTfFKaRIR4O9MM1wjCNvS270+3BGXbWWkozB3kbsGsVno8ANLbsZaiPZ9CDWZhr5OmMgZ3E8wiQN+jA8noxFwdFx1We+bqdUNEhL2gxe/Y8tFbaTrkCj9kxvNs7hcH8ojZ+yQNB8XgJRUgK09TbsHVWZZQgakIyodg27XHYfHwO2zvkVbbrnBQz1eUawCc1aLhyqBVv4XUQphHuS/OrZX9gI8KNH6xDdIAieceJ44tiYk8yYayVGyIpwxpd5t6RP5nUoWXR5XcyfJU+2WTPmPcbfV9euXPCVxC83wfsN2y0VC3tZ/KtvJzqmRhyJJiJjkEZcxV6ie+P1z8HNBYPQp1Up86mCTLUcPqwALvayLONRDWm2o4WDgHwV1MjXnuXqgnQlJIduxRpL7A3BlvYXvby8MbVnJxVkbVFlLOruG+wIpTpm8JUM9SuGk64RhCmgRQKWR3Fwy03gNtZygdIxoHrERg/boxzztC0vBGex8zh2RyqggH0xx+g6aCWZ2941jy/ph6coPoiTwR7EUxdtGBpQz0ERvX59qPyhNltqLwZu3D5u5GXpuEkwo3w+R3scpysbiccgw7REGsWS6+WsMMBCg1PXsExMrAIZ+R98zzcEyMpwwYcZDmsaLuhx1Mb1XwcQhvrz1n5s59ROGrDph22RpMM/XeUTL6pPs0KGU34Hz1o1W8vChngh9sob2hYsw67gkujD2vV2RRybRtaaCQeoZwVKxu7ypDWY9c6HMLptaW3sQ+8suU0Fv+sjTlnAjTtZNptb0tPMHS9uCvXKN86xl31XTe8xHjZ3cMaV3NyVol2uOz5k9gSs3qtDixDG2XWMZ4zfVOYaoYynO1wDT9Mg2dwzzuOERgsD00ItWxHTyObe9MMcny43kpliN0ellL1vS3s3dB8vkRVMGGwzd14scnDy+nYugfW0h0v47LBQ8uc6uGM0tBQ4RtFneHkjuM2v6ywp5xkhh5iqvJeCLeLMxBhmwMaYo0msrEJvsF5yPUtfEc5GtsDrgnSMmwgz9QadOwVp6HIrPx5K02qvtWDkr63LJ3vY7js4xdOfsNJayUc70m7DFieaMswrldnUwiVK+kVdx8Ye/UebeoZz4iz5JQf5vSM52Asvgukxi7Gqhc0kunZFMfApAmFrhN+oNIynpMe54ycJSFdwo4ZkyY56PTnwLNM6OcTKhnjqrxwIwxnOGtBaD1eZ4Mp3E3DM1DG5XFm5VM+MMFPxfrLWZbgk0cx8Dh7adRDl9eO/Q2WmW4OLpcxAnjA68Bq8VCEH1ZCnRI7dXd88dY+/sNAPjShGbs3V5d7rVBUOiSFlylNe60X91QPmBnDKe4xIK+YMP3QgEi7TdT3vqo+EYY5hJCs0vJ/agl2bCRlWH02RnNluAT/pmrAttCT26qdj9z+YSCvmPaW2UZaJt97X1H528+1aF155rWXMmxcL6FxypT6SuszYxBm64wwIVq3sYJUcW8uV0RPRw1d1e6QCK8LHubk9h1hPMqNiyakIebpHpbs2OWRcQKpSVVJ0uOckzONMb4rV2r4IAcdGeH4d6yfYt1xmFVVCE2mbwrTR8N9nC2oI9EDVxQfa83+CR7YjLGM509xdrxg9jGlMI4ghpCEjgSalE7EGLYGDh7YUAgJ8igePtiExa/mQQk90PBZOn8KV08Xgr0j7TRQY4DaL7PZvcs8q098zt4HmOsnspdmlPi9zb6P7n2RoM7dctt5NjhtghR7SlJ70LJnkR6l1WC/TW7PqqfFFSr/kPxNSEV7OGV3y12USePUm3Ud1YW9r25ZN0YWDJQH2cc5m/bPSe/j7Pfr1J7BJYU8JPuiJ2d+38mlXQNf3lyqZbhK1tx76+uDPu+mS23s9D+/XBE9bhOWId333PT9fqVQ/S52zm2ToL1z90ZM3TVppyy1ZMHk3atvxs23Uy4n7fDaUBbceuPzwT70Bl8WFH69uveI6UIqV7wtK4nWmV0+L2+OHIf5rq4zIlbnKXJyhjnQY0Najiif9pjp6ZQgX365EvmmMjrjszANDG84CzdGWikKk4MUoBjOt284j0bacJ08t33/ewkbVekJ/a+Db7hNBjYi2+kJljBmxHCeSoYM1RAEQbgb0JKtGK33BTIid+6R0UxQSM0Ey0rGG9apGM2CoBDDWRAEYcIUW1ONM0ZUiGB2K7gvRvMNYGJ6xWi+MWhlk/VFJDRIuH0kVEMQGiChGhGahGoIgiAIwh1GDGdBEARBEARBqIGEagiCIAiCIAhCDcRwFgRBEARBEIQa3ILhrJ965qNqg3r9m+yDNLRd2LhfVVn33oIgCIIgCMJ9omGMs9rYe+FbfKPwZnuVpvaepHNr0Mlsym/y0z5qsMl9dl/EuvceL3d3r2ZdX/rTMA+CmU3mmeQG+N7m+7xXa3Hn6PZTddMO8l0jbcKk72+Q7z5EaOc7tzm+wrk+KosmnfTm+n65nPrw03XKjHgv1Yg9GOmU27wUSX/MvVSjKZV16t+XKc+H+W74EocM1W1dg5ycZeXQbe/gRQ1O3VjX12grR1YQJ+1MvurUSXXf9PqIJ4dMVbkyMqzQdRaTT69e/PpM9p86+R4GKlNszKLvn5zxPfy2Isq+7+tR+9w4yOjSBKPqlFH0WVgvoZya/AX9qomc6U/1yxW2l3M+JaN+vgx2/pzf+H03JcP5sSvdP34dGj8cyIL0+NyrEGrophuwD3ONj2rI8RrOtwPX650znFX9FxMp3aGvfCVTie6I/ZjSCduWOyWY35L8LMKZYxxdWYovn3Y5AVSKCop859LWsCyRukUlZMsgKyYofs/5rtoD1fstkfy9RsnLFfTmZ4M3VlWWi+6lB9p0/RB+Wuqe67BbMSj6/Tm8fhSUQrYHNrzfFsBbyjvLXfVbOv2+Vad+a9OkrQMycsblWoBzXafx84n+xnmrt58x57voW2GdueXM5NurEz7vjBlp2XPzomR41jbGapcrIoM6b6cns7AUHces/uLVP1+b6D9UzrJ/RPI9LF59Flj5oTpLv53S6puN9XQKr44bpu3WmY+Xb/9emfZw8WVBfa4eX8zv6e3DS9bYEMNPG0nWQ6ZcfL7sXy70W+ulXCwbqb7gpe3JtN93G8mwL5eN2uNu0zhU4/jLefhO+5eLOHs/h6Oi4ajCTTgGHltd/X0earj0dXba2DDF7EdDjVect8I4SGDoO5ppzSzBZvGbN5iiIndv5zwedogInfvwepk7X+z8qNjphiEuJKT2+bJMCq89ImEoqmxVoTMVvHyB9d+DQ9OpPr+DwwuAzpOa7U3XV3asR9CeGUC/pz8i338O9F8E7ddaKhaWS5iFOZP/VNp+vjGV/ZOBle9M2gzWKcpS72gf+vobBbbFSgcGJ/vF9Xt/nYZ9xtDrY9oWKKerOcMLf7NOrzD/60x/ocmVi/ZjLerjGI6+4Z3bc4EsKI7h0i1YmmdzWENXcFnogIbXp6A6mSfvhj2QYBsNqZBdOTLoPtJAVzVu64C0nHV/X4LWxWExIB6/P+RJ2qLWK3S+2kChvNV/CYhfJ48etGDw87v+hDhymsp3WCecb7tOUn3TtPVfRY2yDLcer2g5bVIuXwaxjclpgnk/0t/YLL9eZS/0vqlP1mctWPhN95BM/zl+/8oyMPbgDHVh68Ej/XkEfB2hWX44q/9qyOdL7Kkhaozxx44Mvs5pOgakyOmUkfRZenxZfr3ORvWr95f6mxShrkv2zZF05TG8+9OS/Y9nqBNa0I44mZlnK7BgtU9OpzSSYV8uG7XH3aZ5jPPnIzi/tpQJ0n2CivLbEVaV/rxFsyXahJ6OA+jNr9U2Iqnh6LptVJYhqDT/oWZAKu1tOL3WpxhUjDTjMff+hCLxXCsC7NCv9He8hGB+Yw8AqXujQa5mZnbarqFJLzmgWb9Jo7MynjhpMmrZi6XvvX0CsLRhG/zraiAyebPKRHS37DrDYxyeNoQV98VZcS/OJy3T1OwsLDc/5xyjvpQT6rStspxsLLag99UuWTXptJHrPlhmARz/wKGkQSenOu1cHEQUo1LI51+K3gBvNlBZVSi35d8WUJFZdUifUYmuWBMhmpCVYB/oLgGc7MYNhxHLVdKFRTRgynJkYL3QgTUzKcP+stbk+gRcJ87EfBSWYeVxC6B/OYY+0Kytm7EMc20cmwp5V7qPkp19SDWs2qf/0HYUWEYPD5jY9r9Zk/3K5zZUndh9a+8rDseoz1SfUTJny2mOqx927X6HPo4Zpk6SfbPTdtua9S6210wbaxtpVC5fhtHgz+k+Ty7ImBqL8TsuyDFkTe6cyU1dyNGFJo9tNA7LqGNAkrHqlFAWUuML2QLVHmYfP+1M35ygrvQhQxmKSWxOpzTDH7vuE0M8HKhmEqUHwBcaFMkt1zNEs5ZhGiaAZrdwCrvFjMjH80LxbMz3FA4DCpjnRaHZ1YHtjSDQkDKzNeWZ18p+JLrwgjr0Uanwj9/v4oShnCUy84tlx4xQtlccNWmo550KIGWOyoGXY3fI41an3KoTt562y0mWNxmhVyVvfAJYI8XDy0sJ7xoP7GYmnUmb5GJmCV4U9YcGTywujPHTRtgr1oODmMesgJQSKUy19Hvg9AG8n1aom+w5LtMhTx/ML2Dhdb6xPqEwYJBUH2hSLjNQWHJFqJUHle+OXWZN8QY8OhzvLHlCcFL3bUGt5vAS3pDyNBQ4EJl80eEbUzh5V+fUsmXo7SQvKtZ3sk2rSLV1XSJyplGeQJVvmpCzIcdeKxz4H5SOgoMLazAmAxTrZAF29fltlJol2LTbTPdbXrnDs4WnlSDv0cYBwPNUnRF+vtX4YDsNeGJfrAzm+z2D8qlWCEmODko9XqNcORmugnX2/GqZD91HolT0nwJtDNl9e2jYQ6zKT5OOKl3v9E08HEcBycqGPlfRN1nfek6X2gw1BijGolOG0Gf1x5c4lWnn+matctn6rHolmB049iqJDdYJjVPlCmRJVKf4RGW4euxyyPWPO85Qu2ooo1AvvQVhGkihkNXhP7QwSdyQBhQq/f04cL0oN0naO0BGL3dMXW7XQ0kKQg8u+ryrUEeEDBJe/kQFQd4c9hi5Xs8UvU+Wov64jxMCyzNFbWnS/nTFit8vG9HdUgP/tjewV6eNRhIP1kZOFuEMP8e8kGHaylC4stMOoEFKxc+R0nz7URkLpfxoI42PQ2hjuew2Gdje5M9q6dN4Gd9QPNtelTKqWy5MZ4M8EdvBQGFWXejY/rnqGKD2OTZY2tj2xUCnjEeOi6VrT2ZZHscqa0ko/tnkDQ/fs0gPuXC+7En/OMi1dT2qZJja0qxi0aTcDaFwJ28qTMQyWHBALSdYOFgfoSzYnkA2jnV9HbVRP1heMdbhFIdJ5w/giowbfzKCxPLNE3tL36zDIfY9V4el+j2H0nHMOt0bf+cvbWfKlZLhJNjXdnk1T/cfrIxDlJfQq1vdfxg0Gj5QGNencU8cUbawZg+wb5HThGTBljN6KK9oTzzcvFGok2pL1BCu02VURhgDxqNThtNndceXKtJyluqbuXLZ44PJW2g8K+8+3qdiFUWFZYQe4bRO0VTKcHrsUmT6xy/AcNvRWeEafphGWeFlw5MH5iYoBKloWFIS48P1IqkB8mbwl35piVj/qVHeAlVmGuRcBaBmuHx+5xRmseOMw6DhMABSEFbH5aW7WsvgKq6r0jPHs2VU9sZIpEEejcDW0xfl4I6Q8guVRyZtwjYacHD+jvn2lUc0bV4qVspHGadoOJjPrDhpWVoNYqXSCOPpStwVmeTSMC+xWp4jnhjqz2awyZYLlRp7SMrVkSrSqyY6hs2gYx3NYEGDyrjClVjOascNp1HxtrZXfhSatnWclAzbq1hG57CxZHkho1D8YQOvn7s6hwM7r7CZCRwNlqhLvXqL55uw9A0er96jXTtjDN9M3+S4STLyLMPaNsQalqvpyp9jyGG5wDNOs/2Hxr+xGw1KzrAzQfvnEexhmWaHjiHWzz2MKYxwtDHAZxidMqQ+qzm+1MVJO9c3m+pK7psuZOuwx9d57sPClM/xCGd0iqG2DMeiCeq3x11mOMNZC3jr8To3ThibYw0c7O7Xf48KK81yAGVvh/9woDXT5WUM/XeBl0Y9dHntTqWFP7YMMl6UcLpLn95DLA5ayVZR8WCIWnaqXhKKwh26A2uFh0CHlXhxyDyzj3gKVBxlWKdnRbncCQMvUzrtqwfuyPJiPu0SVkKPz53wh8q0P+tY+eLYBoqz54kiDx5GVtaLulTtVRGjqxWc6UOsgL3l4uK8YxTTQRND7UmyvBuGsFylUov93qfKY8Fgvngpzmlre7CIxxJXyUIS7ZFc6noDprOsW5cqw4HqxpqA1KJmW9NARGlHPbZpGSZvXlFXjgzrGM3fy/w67aXjKFeLCbQ2hm0nh0Us384EzouLTeXbRckcWB7mZN/UTpmyrb18NyxXUoYzcBnBfo4h038sg6PSaDCrsY1ltwULKwsAZtI0vwiL+kxTqiaPqm9aqw51GHEMcGisU0bVZ+nxpQlu2pm+yeR1pUGFY5R9szSaq1c01P3CMKW0TkHqyLABf+vaf83a4y7TeDu6Al3BLXrQzvM4KKWqP+D50/4SLJitckhxBHGXNPiTENASRsQYthpCCY2KOyNPz+GDTVj8apaldMPxWTpPW8ksWNu+KOw0eLbMyr/Zvcs8q098zt6+ieuneossHzdtjXVvp06LPBORfDuC69YJEdtnU90/3RnjuOkH+10iJu+xc/G20PiyYsuakT8+YVHZXok6c+oLqZF2iUrL3taIcO7t9BG/PVw5YpxyR84XUFrhtkZV5YrKGGLaJTjvXO/LWZiv9PUaXbaYDKbx72+1Z7S9yvOcL7tv6jZwt1nS7RJt4zTVba2p0pV15MyRBa9/5OTYkzWnzlN9i0nIaS7fNeTXlZV0uUJZqS5XMxnWFGVP1BcSpK0x/cfV0Qa//PoeMTmpxOS7rCd1rzLt2L3L/NM9bT1hymJtIYioNPy2qINbb/XHAL89mumUXHukZQFJ9QH/nKZ22pm+mbzev7dzrVvXBUHeEzvPOOm77Z2WYf/ebnvl2uNXYnjDWRAEoSna6BrPHrKCcNfQBtUvur+tINwHxHAWBOEGKD0wv6IHQhByFB65wDspCMJdQgxnQRAEQRAEQajBkA8HCoIgCIIgCML9QgxnQRAEQRAEQaiBGM6CIAiCIAiCUAMxnAVBEARBEAShBmI4C4IgCIIgCEINxHAWBEEQBEEQhBqI4SwIgiAIgiAINRDDWRAEQRAEQRBqIIazIAiCIAiCINRADGdBEARBEARByALw/wHbNViUC+s53QAAAABJRU5ErkJggg==)"
      ],
      "metadata": {
        "id": "gSjZ5WghdDth"
      }
    },
    {
      "cell_type": "markdown",
      "source": [
        "Validation loss, CER, WER after 10 epochs, using Nvidia A100"
      ],
      "metadata": {
        "id": "GUFKGhiCYZ_C"
      }
    },
    {
      "cell_type": "markdown",
      "source": [
        "![image.png](data:image/png;base64,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)"
      ],
      "metadata": {
        "id": "ML0KgGkHYfKE"
      }
    },
    {
      "cell_type": "code",
      "source": [
        "spectrograms = spectrograms_train\n",
        "labels = labels_train\n",
        "'''\n",
        "spectrograms, labels = spectrograms.to(device), labels.to(device)\n",
        "outputs = model(spectrograms)\n",
        "decoded_preds = greedyDecoder(outputs, blank_label=28)\n",
        "decoded_targets = [int_to_text(labels[i][:label_lengths[i]].tolist()) for i in range(len(labels))]\n",
        "print(\"Target first, greedy decoder second\")\n",
        "print(*decoded_targets)\n",
        "print(*decoded_preds)\n",
        "'''"
      ],
      "metadata": {
        "colab": {
          "base_uri": "https://localhost:8080/",
          "height": 53
        },
        "id": "1dRP6Lhhxxai",
        "outputId": "a781d01b-df8a-4572-efd3-ad0a9c78edd4"
      },
      "execution_count": 29,
      "outputs": [
        {
          "output_type": "execute_result",
          "data": {
            "text/plain": [
              "'\\nspectrograms, labels = spectrograms.to(device), labels.to(device)\\noutputs = model(spectrograms)\\ndecoded_preds = greedyDecoder(outputs, blank_label=28)\\ndecoded_targets = [int_to_text(labels[i][:label_lengths[i]].tolist()) for i in range(len(labels))]\\nprint(\"Target first, greedy decoder second\")\\nprint(*decoded_targets)\\nprint(*decoded_preds)\\n'"
            ],
            "application/vnd.google.colaboratory.intrinsic+json": {
              "type": "string"
            }
          },
          "metadata": {},
          "execution_count": 29
        }
      ]
    },
    {
      "cell_type": "code",
      "source": [
        "#TODO: does everything need to be here? It started working only when I did all of this for some reason\n",
        "!pip uninstall -y kenlm\n",
        "!pip uninstall -y pyctcdecode\n",
        "!apt-get update\n",
        "!apt-get install -y build-essential cmake\n",
        "!git clone https://github.com/kpu/kenlm.git\n",
        "!cd kenlm && mkdir build && cd build && cmake .. && make -j2\n",
        "!pip install https://github.com/kpu/kenlm/archive/master.zip\n",
        "!pip install pyctcdecode\n",
        "\n",
        "import site\n",
        "\n",
        "# List all site directories\n",
        "site_dirs = site.getsitepackages()\n",
        "print(\"Python searches for packages in the following directories:\")\n",
        "for dir in site_dirs:\n",
        "    print(dir)\n",
        "\n",
        "# Check where 'pyctcdecode' is installed\n",
        "try:\n",
        "    import pyctcdecode\n",
        "    print(f\"\\n'pyctcdecode' is installed at: {pyctcdecode.__file__}\")\n",
        "except ImportError:\n",
        "    print(\"\\n'pyctcdecode' is not installed.\")\n",
        "\n",
        "# Check where 'kenlm' is installed\n",
        "try:\n",
        "    import kenlm\n",
        "    print(f\"\\n'kenlm' is installed at: {kenlm.__file__}\")\n",
        "except ImportError:\n",
        "    print(\"\\n'kenlm' is not installed.\")\n"
      ],
      "metadata": {
        "colab": {
          "base_uri": "https://localhost:8080/"
        },
        "id": "thV65c1q5OqG",
        "outputId": "7c04725d-fd18-4f72-c902-cf22e586ce72"
      },
      "execution_count": 30,
      "outputs": [
        {
          "output_type": "stream",
          "name": "stdout",
          "text": [
            "\u001b[33mWARNING: Skipping kenlm as it is not installed.\u001b[0m\u001b[33m\n",
            "\u001b[0m\u001b[33mWARNING: Skipping pyctcdecode as it is not installed.\u001b[0m\u001b[33m\n",
            "Get:1 https://cloud.r-project.org/bin/linux/ubuntu jammy-cran40/ InRelease [3,626 B]\n",
            "Hit:2 https://developer.download.nvidia.com/compute/cuda/repos/ubuntu2204/x86_64  InRelease\n",
            "Hit:3 http://archive.ubuntu.com/ubuntu jammy InRelease\n",
            "Get:4 http://archive.ubuntu.com/ubuntu jammy-updates InRelease [119 kB]\n",
            "Get:5 http://security.ubuntu.com/ubuntu jammy-security InRelease [110 kB]\n",
            "Hit:6 http://archive.ubuntu.com/ubuntu jammy-backports InRelease\n",
            "Hit:7 https://ppa.launchpadcontent.net/c2d4u.team/c2d4u4.0+/ubuntu jammy InRelease\n",
            "Hit:8 https://ppa.launchpadcontent.net/deadsnakes/ppa/ubuntu jammy InRelease\n",
            "Get:9 http://archive.ubuntu.com/ubuntu jammy-updates/main amd64 Packages [2,118 kB]\n",
            "Hit:10 https://ppa.launchpadcontent.net/graphics-drivers/ppa/ubuntu jammy InRelease\n",
            "Hit:11 https://ppa.launchpadcontent.net/ubuntugis/ppa/ubuntu jammy InRelease\n",
            "Fetched 2,351 kB in 4s (570 kB/s)\n",
            "Reading package lists... Done\n",
            "Reading package lists... Done\n",
            "Building dependency tree... Done\n",
            "Reading state information... Done\n",
            "build-essential is already the newest version (12.9ubuntu3).\n",
            "cmake is already the newest version (3.22.1-1ubuntu1.22.04.2).\n",
            "0 upgraded, 0 newly installed, 0 to remove and 45 not upgraded.\n",
            "Cloning into 'kenlm'...\n",
            "remote: Enumerating objects: 14165, done.\u001b[K\n",
            "remote: Counting objects: 100% (478/478), done.\u001b[K\n",
            "remote: Compressing objects: 100% (333/333), done.\u001b[K\n",
            "remote: Total 14165 (delta 164), reused 407 (delta 131), pack-reused 13687\u001b[K\n",
            "Receiving objects: 100% (14165/14165), 5.91 MiB | 15.55 MiB/s, done.\n",
            "Resolving deltas: 100% (8044/8044), done.\n",
            "\u001b[0mCMake Deprecation Warning at CMakeLists.txt:1 (cmake_minimum_required):\n",
            "  Compatibility with CMake < 3.5 will be removed from a future version of\n",
            "  CMake.\n",
            "\n",
            "  Update the VERSION argument <min> value or use a ...<max> suffix to tell\n",
            "  CMake that the project does not need compatibility with older versions.\n",
            "\n",
            "\u001b[0m\n",
            "-- The C compiler identification is GNU 11.4.0\n",
            "-- The CXX compiler identification is GNU 11.4.0\n",
            "-- Detecting C compiler ABI info\n",
            "-- Detecting C compiler ABI info - done\n",
            "-- Check for working C compiler: /usr/bin/cc - skipped\n",
            "-- Detecting C compile features\n",
            "-- Detecting C compile features - done\n",
            "-- Detecting CXX compiler ABI info\n",
            "-- Detecting CXX compiler ABI info - done\n",
            "-- Check for working CXX compiler: /usr/bin/c++ - skipped\n",
            "-- Detecting CXX compile features\n",
            "-- Detecting CXX compile features - done\n",
            "-- Could NOT find Eigen3 (missing: Eigen3_DIR)\n",
            "-- Found Boost: /usr/lib/x86_64-linux-gnu/cmake/Boost-1.74.0/BoostConfig.cmake (found suitable version \"1.74.0\", minimum required is \"1.41.0\") found components: program_options system thread unit_test_framework \n",
            "-- Found Threads: TRUE  \n",
            "-- Found ZLIB: /usr/lib/x86_64-linux-gnu/libz.so (found version \"1.2.11\")  \n",
            "-- Found BZip2: /usr/lib/x86_64-linux-gnu/libbz2.so (found version \"1.0.8\") \n",
            "-- Looking for BZ2_bzCompressInit\n",
            "-- Looking for BZ2_bzCompressInit - found\n",
            "-- Looking for lzma_auto_decoder in /usr/lib/x86_64-linux-gnu/liblzma.so\n",
            "-- Looking for lzma_auto_decoder in /usr/lib/x86_64-linux-gnu/liblzma.so - found\n",
            "-- Looking for lzma_easy_encoder in /usr/lib/x86_64-linux-gnu/liblzma.so\n",
            "-- Looking for lzma_easy_encoder in /usr/lib/x86_64-linux-gnu/liblzma.so - found\n",
            "-- Looking for lzma_lzma_preset in /usr/lib/x86_64-linux-gnu/liblzma.so\n",
            "-- Looking for lzma_lzma_preset in /usr/lib/x86_64-linux-gnu/liblzma.so - found\n",
            "-- Found LibLZMA: /usr/lib/x86_64-linux-gnu/liblzma.so (found version \"5.2.5\") \n",
            "-- Looking for clock_gettime in rt\n",
            "-- Looking for clock_gettime in rt - found\n",
            "-- Configuring done (1.5s)\n",
            "-- Generating done (0.1s)\n",
            "-- Build files have been written to: /content/kenlm/build\n",
            "[  1%] \u001b[32mBuilding CXX object util/CMakeFiles/kenlm_util.dir/double-conversion/bignum-dtoa.cc.o\u001b[0m\n",
            "[  2%] \u001b[32mBuilding CXX object util/CMakeFiles/kenlm_util.dir/double-conversion/bignum.cc.o\u001b[0m\n",
            "[  3%] \u001b[32mBuilding CXX object util/CMakeFiles/kenlm_util.dir/double-conversion/cached-powers.cc.o\u001b[0m\n",
            "[  5%] \u001b[32mBuilding CXX object util/CMakeFiles/kenlm_util.dir/double-conversion/fast-dtoa.cc.o\u001b[0m\n",
            "[  6%] \u001b[32mBuilding CXX object util/CMakeFiles/kenlm_util.dir/double-conversion/fixed-dtoa.cc.o\u001b[0m\n",
            "[  7%] \u001b[32mBuilding CXX object util/CMakeFiles/kenlm_util.dir/double-conversion/strtod.cc.o\u001b[0m\n",
            "[  8%] \u001b[32mBuilding CXX object util/CMakeFiles/kenlm_util.dir/double-conversion/double-to-string.cc.o\u001b[0m\n",
            "[ 10%] \u001b[32mBuilding CXX object util/CMakeFiles/kenlm_util.dir/double-conversion/string-to-double.cc.o\u001b[0m\n",
            "[ 11%] \u001b[32mBuilding CXX object util/CMakeFiles/kenlm_util.dir/stream/chain.cc.o\u001b[0m\n",
            "[ 12%] \u001b[32mBuilding CXX object util/CMakeFiles/kenlm_util.dir/stream/count_records.cc.o\u001b[0m\n",
            "[ 13%] \u001b[32mBuilding CXX object util/CMakeFiles/kenlm_util.dir/stream/io.cc.o\u001b[0m\n",
            "[ 15%] \u001b[32mBuilding CXX object util/CMakeFiles/kenlm_util.dir/stream/line_input.cc.o\u001b[0m\n",
            "[ 16%] \u001b[32mBuilding CXX object util/CMakeFiles/kenlm_util.dir/stream/multi_progress.cc.o\u001b[0m\n",
            "[ 17%] \u001b[32mBuilding CXX object util/CMakeFiles/kenlm_util.dir/stream/rewindable_stream.cc.o\u001b[0m\n",
            "[ 18%] \u001b[32mBuilding CXX object util/CMakeFiles/kenlm_util.dir/bit_packing.cc.o\u001b[0m\n",
            "[ 20%] \u001b[32mBuilding CXX object util/CMakeFiles/kenlm_util.dir/ersatz_progress.cc.o\u001b[0m\n",
            "[ 21%] \u001b[32mBuilding CXX object util/CMakeFiles/kenlm_util.dir/exception.cc.o\u001b[0m\n",
            "[ 22%] \u001b[32mBuilding CXX object util/CMakeFiles/kenlm_util.dir/file.cc.o\u001b[0m\n",
            "[ 23%] \u001b[32mBuilding CXX object util/CMakeFiles/kenlm_util.dir/file_piece.cc.o\u001b[0m\n",
            "[ 25%] \u001b[32mBuilding CXX object util/CMakeFiles/kenlm_util.dir/float_to_string.cc.o\u001b[0m\n",
            "[ 26%] \u001b[32mBuilding CXX object util/CMakeFiles/kenlm_util.dir/integer_to_string.cc.o\u001b[0m\n",
            "[ 27%] \u001b[32mBuilding CXX object util/CMakeFiles/kenlm_util.dir/mmap.cc.o\u001b[0m\n",
            "[ 28%] \u001b[32mBuilding CXX object util/CMakeFiles/kenlm_util.dir/murmur_hash.cc.o\u001b[0m\n",
            "[ 30%] \u001b[32mBuilding CXX object util/CMakeFiles/kenlm_util.dir/parallel_read.cc.o\u001b[0m\n",
            "[ 31%] \u001b[32mBuilding CXX object util/CMakeFiles/kenlm_util.dir/pool.cc.o\u001b[0m\n",
            "[ 32%] \u001b[32mBuilding CXX object util/CMakeFiles/kenlm_util.dir/read_compressed.cc.o\u001b[0m\n",
            "[ 33%] \u001b[32mBuilding CXX object util/CMakeFiles/kenlm_util.dir/scoped.cc.o\u001b[0m\n",
            "[ 35%] \u001b[32mBuilding CXX object util/CMakeFiles/kenlm_util.dir/spaces.cc.o\u001b[0m\n",
            "[ 36%] \u001b[32mBuilding CXX object util/CMakeFiles/kenlm_util.dir/string_piece.cc.o\u001b[0m\n",
            "[ 37%] \u001b[32mBuilding CXX object util/CMakeFiles/kenlm_util.dir/usage.cc.o\u001b[0m\n",
            "[ 38%] \u001b[32m\u001b[1mLinking CXX static library ../lib/libkenlm_util.a\u001b[0m\n",
            "[ 38%] Built target kenlm_util\n",
            "[ 40%] \u001b[32mBuilding CXX object util/CMakeFiles/probing_hash_table_benchmark.dir/probing_hash_table_benchmark_main.cc.o\u001b[0m\n",
            "[ 41%] \u001b[32mBuilding CXX object lm/CMakeFiles/kenlm.dir/bhiksha.cc.o\u001b[0m\n",
            "[ 42%] \u001b[32mBuilding CXX object lm/CMakeFiles/kenlm.dir/binary_format.cc.o\u001b[0m\n",
            "[ 43%] \u001b[32mBuilding CXX object lm/CMakeFiles/kenlm.dir/config.cc.o\u001b[0m\n",
            "[ 45%] \u001b[32mBuilding CXX object lm/CMakeFiles/kenlm.dir/lm_exception.cc.o\u001b[0m\n",
            "[ 46%] \u001b[32mBuilding CXX object lm/CMakeFiles/kenlm.dir/model.cc.o\u001b[0m\n",
            "[ 47%] \u001b[32mBuilding CXX object lm/CMakeFiles/kenlm.dir/quantize.cc.o\u001b[0m\n",
            "[ 48%] \u001b[32mBuilding CXX object lm/CMakeFiles/kenlm.dir/read_arpa.cc.o\u001b[0m\n",
            "[ 50%] \u001b[32m\u001b[1mLinking CXX executable ../bin/probing_hash_table_benchmark\u001b[0m\n",
            "[ 50%] Built target probing_hash_table_benchmark\n",
            "[ 51%] \u001b[32mBuilding CXX object lm/filter/CMakeFiles/kenlm_filter.dir/arpa_io.cc.o\u001b[0m\n",
            "[ 52%] \u001b[32mBuilding CXX object lm/filter/CMakeFiles/kenlm_filter.dir/phrase.cc.o\u001b[0m\n",
            "[ 53%] \u001b[32mBuilding CXX object lm/CMakeFiles/kenlm.dir/search_hashed.cc.o\u001b[0m\n",
            "[ 55%] \u001b[32mBuilding CXX object lm/CMakeFiles/kenlm.dir/search_trie.cc.o\u001b[0m\n",
            "[ 56%] \u001b[32mBuilding CXX object lm/filter/CMakeFiles/kenlm_filter.dir/vocab.cc.o\u001b[0m\n",
            "[ 57%] \u001b[32m\u001b[1mLinking CXX static library ../../lib/libkenlm_filter.a\u001b[0m\n",
            "[ 57%] Built target kenlm_filter\n",
            "[ 58%] \u001b[32mBuilding CXX object lm/CMakeFiles/kenlm.dir/sizes.cc.o\u001b[0m\n",
            "[ 60%] \u001b[32mBuilding CXX object lm/CMakeFiles/kenlm.dir/trie.cc.o\u001b[0m\n",
            "[ 61%] \u001b[32mBuilding CXX object lm/CMakeFiles/kenlm.dir/trie_sort.cc.o\u001b[0m\n",
            "[ 62%] \u001b[32mBuilding CXX object lm/CMakeFiles/kenlm.dir/value_build.cc.o\u001b[0m\n",
            "[ 63%] \u001b[32mBuilding CXX object lm/CMakeFiles/kenlm.dir/virtual_interface.cc.o\u001b[0m\n",
            "[ 65%] \u001b[32mBuilding CXX object lm/CMakeFiles/kenlm.dir/vocab.cc.o\u001b[0m\n",
            "[ 66%] \u001b[32mBuilding CXX object lm/CMakeFiles/kenlm.dir/common/model_buffer.cc.o\u001b[0m\n",
            "[ 67%] \u001b[32mBuilding CXX object lm/CMakeFiles/kenlm.dir/common/print.cc.o\u001b[0m\n",
            "[ 68%] \u001b[32mBuilding CXX object lm/CMakeFiles/kenlm.dir/common/renumber.cc.o\u001b[0m\n",
            "[ 70%] \u001b[32mBuilding CXX object lm/CMakeFiles/kenlm.dir/common/size_option.cc.o\u001b[0m\n",
            "[ 71%] \u001b[32m\u001b[1mLinking CXX static library ../lib/libkenlm.a\u001b[0m\n",
            "[ 71%] Built target kenlm\n",
            "[ 72%] \u001b[32mBuilding CXX object lm/CMakeFiles/query.dir/query_main.cc.o\u001b[0m\n",
            "[ 73%] \u001b[32mBuilding CXX object lm/CMakeFiles/fragment.dir/fragment_main.cc.o\u001b[0m\n",
            "[ 75%] \u001b[32m\u001b[1mLinking CXX executable ../bin/fragment\u001b[0m\n",
            "[ 75%] Built target fragment\n",
            "[ 76%] \u001b[32mBuilding CXX object lm/CMakeFiles/build_binary.dir/build_binary_main.cc.o\u001b[0m\n",
            "[ 77%] \u001b[32m\u001b[1mLinking CXX executable ../bin/query\u001b[0m\n",
            "[ 77%] Built target query\n",
            "[ 78%] \u001b[32mBuilding CXX object lm/CMakeFiles/kenlm_benchmark.dir/kenlm_benchmark_main.cc.o\u001b[0m\n",
            "[ 80%] \u001b[32m\u001b[1mLinking CXX executable ../bin/build_binary\u001b[0m\n",
            "[ 80%] Built target build_binary\n",
            "[ 81%] \u001b[32mBuilding CXX object lm/builder/CMakeFiles/kenlm_builder.dir/adjust_counts.cc.o\u001b[0m\n",
            "[ 82%] \u001b[32mBuilding CXX object lm/builder/CMakeFiles/kenlm_builder.dir/corpus_count.cc.o\u001b[0m\n",
            "[ 83%] \u001b[32mBuilding CXX object lm/builder/CMakeFiles/kenlm_builder.dir/initial_probabilities.cc.o\u001b[0m\n",
            "[ 85%] \u001b[32mBuilding CXX object lm/builder/CMakeFiles/kenlm_builder.dir/interpolate.cc.o\u001b[0m\n",
            "[ 86%] \u001b[32m\u001b[1mLinking CXX executable ../bin/kenlm_benchmark\u001b[0m\n",
            "[ 86%] Built target kenlm_benchmark\n",
            "[ 87%] \u001b[32mBuilding CXX object lm/filter/CMakeFiles/filter.dir/filter_main.cc.o\u001b[0m\n",
            "[ 88%] \u001b[32mBuilding CXX object lm/builder/CMakeFiles/kenlm_builder.dir/output.cc.o\u001b[0m\n",
            "[ 90%] \u001b[32mBuilding CXX object lm/builder/CMakeFiles/kenlm_builder.dir/pipeline.cc.o\u001b[0m\n",
            "[ 91%] \u001b[32m\u001b[1mLinking CXX static library ../../lib/libkenlm_builder.a\u001b[0m\n",
            "[ 91%] Built target kenlm_builder\n",
            "[ 92%] \u001b[32mBuilding CXX object lm/filter/CMakeFiles/phrase_table_vocab.dir/phrase_table_vocab_main.cc.o\u001b[0m\n",
            "[ 93%] \u001b[32m\u001b[1mLinking CXX executable ../../bin/filter\u001b[0m\n",
            "[ 93%] Built target filter\n",
            "[ 95%] \u001b[32mBuilding CXX object lm/builder/CMakeFiles/lmplz.dir/lmplz_main.cc.o\u001b[0m\n",
            "[ 96%] \u001b[32m\u001b[1mLinking CXX executable ../../bin/phrase_table_vocab\u001b[0m\n",
            "[ 96%] Built target phrase_table_vocab\n",
            "[ 97%] \u001b[32mBuilding CXX object lm/builder/CMakeFiles/count_ngrams.dir/count_ngrams_main.cc.o\u001b[0m\n",
            "[ 98%] \u001b[32m\u001b[1mLinking CXX executable ../../bin/lmplz\u001b[0m\n",
            "[ 98%] Built target lmplz\n",
            "[100%] \u001b[32m\u001b[1mLinking CXX executable ../../bin/count_ngrams\u001b[0m\n",
            "[100%] Built target count_ngrams\n",
            "Collecting https://github.com/kpu/kenlm/archive/master.zip\n",
            "  Downloading https://github.com/kpu/kenlm/archive/master.zip\n",
            "\u001b[2K     \u001b[32m-\u001b[0m \u001b[32m553.6 kB\u001b[0m \u001b[31m10.6 MB/s\u001b[0m \u001b[33m0:00:00\u001b[0m\n",
            "\u001b[?25h  Installing build dependencies ... \u001b[?25l\u001b[?25hdone\n",
            "  Getting requirements to build wheel ... \u001b[?25l\u001b[?25hdone\n",
            "  Preparing metadata (pyproject.toml) ... \u001b[?25l\u001b[?25hdone\n",
            "Building wheels for collected packages: kenlm\n",
            "  Building wheel for kenlm (pyproject.toml) ... \u001b[?25l\u001b[?25hdone\n",
            "  Created wheel for kenlm: filename=kenlm-0.2.0-cp310-cp310-linux_x86_64.whl size=3184344 sha256=249c9b9b51db64414b7f565ccf252e20d7c8ff1c522e347ef660e53b738986e0\n",
            "  Stored in directory: /tmp/pip-ephem-wheel-cache-32437s_y/wheels/a5/73/ee/670fbd0cee8f6f0b21d10987cb042291e662e26e1a07026462\n",
            "Successfully built kenlm\n",
            "Installing collected packages: kenlm\n",
            "Successfully installed kenlm-0.2.0\n",
            "Collecting pyctcdecode\n",
            "  Downloading pyctcdecode-0.5.0-py2.py3-none-any.whl (39 kB)\n",
            "Requirement already satisfied: numpy<2.0.0,>=1.15.0 in /usr/local/lib/python3.10/dist-packages (from pyctcdecode) (1.25.2)\n",
            "Collecting pygtrie<3.0,>=2.1 (from pyctcdecode)\n",
            "  Downloading pygtrie-2.5.0-py3-none-any.whl (25 kB)\n",
            "Collecting hypothesis<7,>=6.14 (from pyctcdecode)\n",
            "  Downloading hypothesis-6.102.4-py3-none-any.whl (462 kB)\n",
            "\u001b[2K     \u001b[90m━━━━━━━━━━━━━━━━━━━━━━━━━━━━━━━━━━━━━━━━\u001b[0m \u001b[32m462.5/462.5 kB\u001b[0m \u001b[31m18.1 MB/s\u001b[0m eta \u001b[36m0:00:00\u001b[0m\n",
            "\u001b[?25hRequirement already satisfied: attrs>=22.2.0 in /usr/local/lib/python3.10/dist-packages (from hypothesis<7,>=6.14->pyctcdecode) (23.2.0)\n",
            "Requirement already satisfied: sortedcontainers<3.0.0,>=2.1.0 in /usr/local/lib/python3.10/dist-packages (from hypothesis<7,>=6.14->pyctcdecode) (2.4.0)\n",
            "Requirement already satisfied: exceptiongroup>=1.0.0 in /usr/local/lib/python3.10/dist-packages (from hypothesis<7,>=6.14->pyctcdecode) (1.2.1)\n",
            "Installing collected packages: pygtrie, hypothesis, pyctcdecode\n",
            "Successfully installed hypothesis-6.102.4 pyctcdecode-0.5.0 pygtrie-2.5.0\n",
            "Python searches for packages in the following directories:\n",
            "/usr/local/lib/python3.10/dist-packages\n",
            "/usr/lib/python3/dist-packages\n",
            "/usr/lib/python3.10/dist-packages\n",
            "\n",
            "'pyctcdecode' is installed at: /usr/local/lib/python3.10/dist-packages/pyctcdecode/__init__.py\n",
            "\n",
            "'kenlm' is installed at: /usr/local/lib/python3.10/dist-packages/kenlm.cpython-310-x86_64-linux-gnu.so\n"
          ]
        }
      ]
    },
    {
      "cell_type": "markdown",
      "source": [
        "# 5.5 Language model"
      ],
      "metadata": {
        "id": "6ZTEa711XzIj"
      }
    },
    {
      "cell_type": "code",
      "source": [
        "from pyctcdecode import build_ctcdecoder\n",
        "import kenlm"
      ],
      "metadata": {
        "id": "4laqZ7rTCbKB"
      },
      "execution_count": 31,
      "outputs": []
    },
    {
      "cell_type": "code",
      "source": [
        "labels_LMD = list(char_to_int.keys())\n",
        "#labels_LMD.append('28')  # Add blank '28'-token for CTC loss\n",
        "print(*labels_LMD)"
      ],
      "metadata": {
        "colab": {
          "base_uri": "https://localhost:8080/"
        },
        "id": "Tv-sjnED5wno",
        "outputId": "d9d4a07b-2f48-4cc9-cde4-f6366a651156"
      },
      "execution_count": 32,
      "outputs": [
        {
          "output_type": "stream",
          "name": "stdout",
          "text": [
            "'   a b c d e f g h i j k l m n o p q r s t u v w x y z\n"
          ]
        }
      ]
    },
    {
      "cell_type": "markdown",
      "source": [
        "An **n-gram language model** is a tool that helps predict the next word in a sequence based on the last 'n-1' words. It's like having a predictive text that looks at a few words back to guess the next one. For example, in a bigram model (n=2), it looks at the previous word; in a trigram model (n=3), it looks at the last two words. We use n-gram models in speech recognition to make the predicted text more accurate and natural-sounding by ensuring that the sequences of words it produces make sense in the context of the language. In our case, we are using a 3-gram model trained on 2 million words from Wikipedia.\n"
      ],
      "metadata": {
        "id": "ZWjLsYsyiAoQ"
      }
    },
    {
      "cell_type": "code",
      "source": [
        "import torch\n",
        "from pyctcdecode import build_ctcdecoder\n",
        "\n",
        "def languageModelDecoder(outputs, labels, model_path, alpha=0.5, beta=1.0):\n",
        "    \"\"\"\n",
        "    Decode the output using a pre-trained N-gram language model.\n",
        "\n",
        "    Parameters:\n",
        "    outputs (torch.Tensor): The model output.\n",
        "    labels (list): List of characters.\n",
        "    model_path (str): Path to the pre-trained language model.\n",
        "    alpha (float): Weight for the language model.\n",
        "    beta (float): Weight for the word insertion.\n",
        "\n",
        "    Returns:\n",
        "    list: Decoded texts.\n",
        "    \"\"\"\n",
        "    # Build the CTC decoder\n",
        "    decoder = build_ctcdecoder(\n",
        "        labels=labels,\n",
        "        kenlm_model_path=model_path,\n",
        "        alpha=alpha,\n",
        "        beta=beta\n",
        "    )\n",
        "\n",
        "    # Decode the output batch\n",
        "    output_np = outputs.cpu().detach().numpy()\n",
        "    decoded_texts = decoder.decode_batch(None,output_np)\n",
        "\n",
        "    return decoded_texts\n",
        "\n",
        "# Example usage\n",
        "# Assuming 'spectrograms_train', 'labels_train', 'model', and 'device' are defined elsewhere in your code\n",
        "\n",
        "spectrograms = spectrograms_train\n",
        "labels = labels_train\n",
        "spectrograms, labels = spectrograms.to(device), labels.to(device)\n",
        "outputs = model(spectrograms)\n",
        "\n",
        "# Path to the uploaded language model file\n",
        "wiki_path = '/content/wiki-interpolate.3gram.arpa'\n",
        "\n",
        "# Decode using the language model decoder\n",
        "decoded_preds_LMD = languageModelDecoder(outputs, labels_LMD, wiki_path)\n",
        "decode_preds_GD = greedyDecoder(outputs, blank_label=28)\n",
        "decoded_targets = [int_to_text(labels[i][:label_lengths[i]].tolist()) for i in range(len(labels))]\n",
        "print(\"1) Target, 2) Language model decoder, 3) Greedy decoder (no language model)\")\n",
        "print(*decoded_targets)\n",
        "print(*decoded_preds_LMD)\n",
        "print(*decode_preds_GD)"
      ],
      "metadata": {
        "colab": {
          "base_uri": "https://localhost:8080/"
        },
        "id": "0RKaaZvL2jSW",
        "outputId": "1685c795-3d6c-4428-dbe1-4759c68e5d67"
      },
      "execution_count": 33,
      "outputs": [
        {
          "output_type": "stream",
          "name": "stderr",
          "text": [
            "WARNING:pyctcdecode.alphabet:Unigrams and labels don't seem to agree.\n"
          ]
        },
        {
          "output_type": "stream",
          "name": "stdout",
          "text": [
            "1) Target, 2) Language model decoder, 3) Greedy decoder (no language model)\n",
            "he hoped there would be stew for dinner turnips and carrots and bruised potatoes and fat mutton pieces to be ladled out in thick peppered flour fattened sauce stuff it into you his belly counselled him after early nightfall the yellow lamps would light up here and there the squalid quarter of the brothels hello bertie any good in your mind number ten fresh nelly is waiting on you good night husband\n",
            "he hoped there would be stoo for dinner terms and characts and brosed potatoes and that mutant pieces to be ladledout in the thick pepered flower fatensos stuff ed into you his belly count him after early nightfall the inlets would light ap here and there the squalled quarter of the brofols overt and he god in a might non burden fresh newly as waiting on you could at husband\n",
            "he hoped there would tbe sto hore diner tersond charatsand brosed peta os and that muten't peces to be ladled out an he thick peppered flower faten sos stuffed into you his belly countuled him after early night fall the yenlowse would light hap here an there the squalled quarter of the brofls hoo berty and he glooding ar ight dnom bu den fresh nelly is waiting on you could not husband\n"
          ]
        }
      ]
    },
    {
      "cell_type": "markdown",
      "source": [
        "Run your model with and without language model and compare the results, both subjectively, and by calculating the CER and WER over the test set. What observations can you make?\n",
        "  - Without the language model - i.e., just using the greedy decomposer - our model appears to perform decently, although it makes up words that clearly don't exist (see example above). With the language model however, the spelling improves noticeably.\n",
        "  - We can compare average loss, CER and WER for both decomposers. We notice that while the loss and CER are almost identical, the WER improves dramatically. This makes sense, since the problem earlier mainly had to do with spelling, so using a language model mainly improves the WER. Moreover, the language model takes more time to run because of the greater complexity associated with searching on an n-gram model."
      ],
      "metadata": {
        "id": "aCp2WpSiZL7c"
      }
    },
    {
      "cell_type": "code",
      "source": [
        "def test(model, device, val_loader, criterion, epoch):\n",
        "    model.eval()\n",
        "    total_loss = 0\n",
        "    test_cer, test_wer = [], []\n",
        "    with tqdm(total=len(val_loader), desc=f\"Validation Epoch {epoch+1}\") as pbar:\n",
        "        with torch.no_grad():\n",
        "            for batch_idx, (spectrograms, labels, input_lengths, label_lengths) in enumerate(val_loader):\n",
        "                spectrograms, labels = spectrograms.to(device), labels.to(device)\n",
        "                outputs = model(spectrograms)\n",
        "                log_probs = outputs.permute(1, 0, 2)  # (T, N, C)\n",
        "                loss = criterion(log_probs, labels, input_lengths, label_lengths)\n",
        "                total_loss += loss.item()\n",
        "\n",
        "                # Decode and compute WER/CER w. Lan\n",
        "                #decoded_preds = greedyDecoder(outputs, blank_label=28)\n",
        "                decoded_preds = languageModelDecoder(outputs, labels_LMD, wiki_path)\n",
        "                decoded_targets = [int_to_text(labels[i][:label_lengths[i]].tolist()) for i in range(len(labels))]\n",
        "\n",
        "                for j in range(len(decoded_preds)):\n",
        "                    test_cer.append(cer(decoded_targets[j], decoded_preds[j]))\n",
        "                    test_wer.append(wer(decoded_targets[j], decoded_preds[j]))\n",
        "\n",
        "                pbar.set_postfix(loss=loss.item())\n",
        "                pbar.update(1)\n",
        "    avg_loss = total_loss / len(val_loader)\n",
        "    avg_cer = sum(test_cer) / len(test_cer)\n",
        "    avg_wer = sum(test_wer) / len(test_wer)\n",
        "    print(f\"Validation Loss: {avg_loss}, CER: {avg_cer}, WER: {avg_wer}\\n\")"
      ],
      "metadata": {
        "id": "9LR1vPD-NxoM"
      },
      "execution_count": 34,
      "outputs": []
    },
    {
      "cell_type": "code",
      "source": [
        "test_loader = data.DataLoader(dataset=test_dataset,\n",
        "        batch_size=hparams['batch_size'],\n",
        "        shuffle=False,\n",
        "        collate_fn=lambda x: dataProcessing(x, test_audio_transform),\n",
        "        **kwargs)\n",
        "\n",
        "test(model, device, test_loader, criterion, hparams['epochs'])"
      ],
      "metadata": {
        "colab": {
          "base_uri": "https://localhost:8080/"
        },
        "id": "YYBUKT4yOoCs",
        "outputId": "daafa1b0-d77a-4c57-b81c-394807fb8721"
      },
      "execution_count": 35,
      "outputs": [
        {
          "output_type": "stream",
          "name": "stderr",
          "text": [
            "Validation Epoch 11:   0%|          | 0/88 [00:00<?, ?it/s]WARNING:pyctcdecode.alphabet:Unigrams and labels don't seem to agree.\n",
            "Validation Epoch 11:   1%|          | 1/88 [00:05<07:22,  5.08s/it, loss=0.37]WARNING:pyctcdecode.alphabet:Unigrams and labels don't seem to agree.\n",
            "Validation Epoch 11:   2%|▏         | 2/88 [00:09<06:47,  4.74s/it, loss=0.384]WARNING:pyctcdecode.alphabet:Unigrams and labels don't seem to agree.\n",
            "Validation Epoch 11:   3%|▎         | 3/88 [00:18<09:26,  6.67s/it, loss=0.637]WARNING:pyctcdecode.alphabet:Unigrams and labels don't seem to agree.\n",
            "Validation Epoch 11:   5%|▍         | 4/88 [00:26<09:46,  6.98s/it, loss=0.587]WARNING:pyctcdecode.alphabet:Unigrams and labels don't seem to agree.\n",
            "Validation Epoch 11:   6%|▌         | 5/88 [00:33<10:09,  7.35s/it, loss=0.715]WARNING:pyctcdecode.alphabet:Unigrams and labels don't seem to agree.\n",
            "Validation Epoch 11:   7%|▋         | 6/88 [00:39<09:22,  6.86s/it, loss=0.489]WARNING:pyctcdecode.alphabet:Unigrams and labels don't seem to agree.\n",
            "Validation Epoch 11:   8%|▊         | 7/88 [00:46<09:04,  6.73s/it, loss=0.345]WARNING:pyctcdecode.alphabet:Unigrams and labels don't seem to agree.\n",
            "Validation Epoch 11:   9%|▉         | 8/88 [00:53<09:05,  6.81s/it, loss=0.538]WARNING:pyctcdecode.alphabet:Unigrams and labels don't seem to agree.\n",
            "Validation Epoch 11:  10%|█         | 9/88 [00:58<08:27,  6.43s/it, loss=0.527]WARNING:pyctcdecode.alphabet:Unigrams and labels don't seem to agree.\n",
            "Validation Epoch 11:  11%|█▏        | 10/88 [01:06<08:37,  6.63s/it, loss=0.378]WARNING:pyctcdecode.alphabet:Unigrams and labels don't seem to agree.\n",
            "Validation Epoch 11:  12%|█▎        | 11/88 [01:11<07:59,  6.23s/it, loss=0.377]WARNING:pyctcdecode.alphabet:Unigrams and labels don't seem to agree.\n",
            "Validation Epoch 11:  14%|█▎        | 12/88 [01:14<06:52,  5.42s/it, loss=0.424]WARNING:pyctcdecode.alphabet:Unigrams and labels don't seem to agree.\n",
            "Validation Epoch 11:  15%|█▍        | 13/88 [01:19<06:24,  5.13s/it, loss=0.542]WARNING:pyctcdecode.alphabet:Unigrams and labels don't seem to agree.\n",
            "Validation Epoch 11:  16%|█▌        | 14/88 [01:22<05:32,  4.49s/it, loss=0.415]WARNING:pyctcdecode.alphabet:Unigrams and labels don't seem to agree.\n",
            "Validation Epoch 11:  17%|█▋        | 15/88 [01:26<05:11,  4.26s/it, loss=0.498]WARNING:pyctcdecode.alphabet:Unigrams and labels don't seem to agree.\n",
            "Validation Epoch 11:  18%|█▊        | 16/88 [01:35<07:07,  5.94s/it, loss=0.749]WARNING:pyctcdecode.alphabet:Unigrams and labels don't seem to agree.\n",
            "Validation Epoch 11:  19%|█▉        | 17/88 [01:43<07:34,  6.40s/it, loss=0.594]WARNING:pyctcdecode.alphabet:Unigrams and labels don't seem to agree.\n",
            "Validation Epoch 11:  20%|██        | 18/88 [01:52<08:29,  7.28s/it, loss=0.637]WARNING:pyctcdecode.alphabet:Unigrams and labels don't seem to agree.\n",
            "Validation Epoch 11:  22%|██▏       | 19/88 [01:59<08:15,  7.18s/it, loss=0.575]WARNING:pyctcdecode.alphabet:Unigrams and labels don't seem to agree.\n",
            "Validation Epoch 11:  23%|██▎       | 20/88 [02:08<08:44,  7.71s/it, loss=0.571]WARNING:pyctcdecode.alphabet:Unigrams and labels don't seem to agree.\n",
            "Validation Epoch 11:  24%|██▍       | 21/88 [02:17<09:07,  8.17s/it, loss=0.528]WARNING:pyctcdecode.alphabet:Unigrams and labels don't seem to agree.\n",
            "Validation Epoch 11:  25%|██▌       | 22/88 [02:24<08:36,  7.83s/it, loss=0.596]WARNING:pyctcdecode.alphabet:Unigrams and labels don't seem to agree.\n",
            "Validation Epoch 11:  26%|██▌       | 23/88 [02:30<07:41,  7.10s/it, loss=0.726]WARNING:pyctcdecode.alphabet:Unigrams and labels don't seem to agree.\n",
            "Validation Epoch 11:  27%|██▋       | 24/88 [02:34<06:39,  6.24s/it, loss=0.556]WARNING:pyctcdecode.alphabet:Unigrams and labels don't seem to agree.\n",
            "Validation Epoch 11:  28%|██▊       | 25/88 [02:41<06:45,  6.44s/it, loss=0.764]WARNING:pyctcdecode.alphabet:Unigrams and labels don't seem to agree.\n",
            "Validation Epoch 11:  30%|██▉       | 26/88 [02:46<06:10,  5.98s/it, loss=0.545]WARNING:pyctcdecode.alphabet:Unigrams and labels don't seem to agree.\n",
            "Validation Epoch 11:  31%|███       | 27/88 [02:54<06:38,  6.53s/it, loss=0.625]WARNING:pyctcdecode.alphabet:Unigrams and labels don't seem to agree.\n",
            "Validation Epoch 11:  32%|███▏      | 28/88 [02:58<05:47,  5.79s/it, loss=0.758]WARNING:pyctcdecode.alphabet:Unigrams and labels don't seem to agree.\n",
            "Validation Epoch 11:  33%|███▎      | 29/88 [03:02<05:15,  5.35s/it, loss=0.646]WARNING:pyctcdecode.alphabet:Unigrams and labels don't seem to agree.\n",
            "Validation Epoch 11:  34%|███▍      | 30/88 [03:13<06:51,  7.09s/it, loss=0.722]WARNING:pyctcdecode.alphabet:Unigrams and labels don't seem to agree.\n",
            "Validation Epoch 11:  35%|███▌      | 31/88 [03:22<07:10,  7.54s/it, loss=0.693]WARNING:pyctcdecode.alphabet:Unigrams and labels don't seem to agree.\n",
            "Validation Epoch 11:  36%|███▋      | 32/88 [03:33<07:57,  8.52s/it, loss=0.857]WARNING:pyctcdecode.alphabet:Unigrams and labels don't seem to agree.\n",
            "Validation Epoch 11:  38%|███▊      | 33/88 [03:42<07:58,  8.70s/it, loss=0.709]WARNING:pyctcdecode.alphabet:Unigrams and labels don't seem to agree.\n",
            "Validation Epoch 11:  39%|███▊      | 34/88 [03:54<08:50,  9.83s/it, loss=0.695]WARNING:pyctcdecode.alphabet:Unigrams and labels don't seem to agree.\n",
            "Validation Epoch 11:  40%|███▉      | 35/88 [04:02<08:11,  9.28s/it, loss=0.614]WARNING:pyctcdecode.alphabet:Unigrams and labels don't seem to agree.\n",
            "Validation Epoch 11:  41%|████      | 36/88 [04:11<07:51,  9.06s/it, loss=0.547]WARNING:pyctcdecode.alphabet:Unigrams and labels don't seem to agree.\n",
            "Validation Epoch 11:  42%|████▏     | 37/88 [04:21<07:54,  9.30s/it, loss=0.643]WARNING:pyctcdecode.alphabet:Unigrams and labels don't seem to agree.\n",
            "Validation Epoch 11:  43%|████▎     | 38/88 [04:30<07:40,  9.21s/it, loss=0.785]WARNING:pyctcdecode.alphabet:Unigrams and labels don't seem to agree.\n",
            "Validation Epoch 11:  44%|████▍     | 39/88 [04:33<06:11,  7.57s/it, loss=0.495]WARNING:pyctcdecode.alphabet:Unigrams and labels don't seem to agree.\n",
            "Validation Epoch 11:  45%|████▌     | 40/88 [04:36<04:59,  6.23s/it, loss=0.479]WARNING:pyctcdecode.alphabet:Unigrams and labels don't seem to agree.\n",
            "Validation Epoch 11:  47%|████▋     | 41/88 [04:40<04:09,  5.32s/it, loss=0.528]WARNING:pyctcdecode.alphabet:Unigrams and labels don't seem to agree.\n",
            "Validation Epoch 11:  48%|████▊     | 42/88 [04:49<05:00,  6.53s/it, loss=0.649]WARNING:pyctcdecode.alphabet:Unigrams and labels don't seem to agree.\n",
            "Validation Epoch 11:  49%|████▉     | 43/88 [05:04<06:51,  9.14s/it, loss=0.715]WARNING:pyctcdecode.alphabet:Unigrams and labels don't seem to agree.\n",
            "Validation Epoch 11:  50%|█████     | 44/88 [05:10<05:56,  8.11s/it, loss=0.706]WARNING:pyctcdecode.alphabet:Unigrams and labels don't seem to agree.\n",
            "Validation Epoch 11:  51%|█████     | 45/88 [05:16<05:24,  7.54s/it, loss=0.517]WARNING:pyctcdecode.alphabet:Unigrams and labels don't seem to agree.\n",
            "Validation Epoch 11:  52%|█████▏    | 46/88 [05:24<05:25,  7.75s/it, loss=0.601]WARNING:pyctcdecode.alphabet:Unigrams and labels don't seem to agree.\n",
            "Validation Epoch 11:  53%|█████▎    | 47/88 [05:31<05:08,  7.52s/it, loss=0.632]WARNING:pyctcdecode.alphabet:Unigrams and labels don't seem to agree.\n",
            "Validation Epoch 11:  55%|█████▍    | 48/88 [05:38<04:46,  7.15s/it, loss=0.388]WARNING:pyctcdecode.alphabet:Unigrams and labels don't seem to agree.\n",
            "Validation Epoch 11:  56%|█████▌    | 49/88 [05:45<04:44,  7.29s/it, loss=0.485]WARNING:pyctcdecode.alphabet:Unigrams and labels don't seem to agree.\n",
            "Validation Epoch 11:  57%|█████▋    | 50/88 [05:49<03:57,  6.26s/it, loss=0.663]WARNING:pyctcdecode.alphabet:Unigrams and labels don't seem to agree.\n",
            "Validation Epoch 11:  58%|█████▊    | 51/88 [05:52<03:19,  5.38s/it, loss=0.64]WARNING:pyctcdecode.alphabet:Unigrams and labels don't seem to agree.\n",
            "Validation Epoch 11:  59%|█████▉    | 52/88 [06:01<03:43,  6.22s/it, loss=0.698]WARNING:pyctcdecode.alphabet:Unigrams and labels don't seem to agree.\n",
            "Validation Epoch 11:  60%|██████    | 53/88 [06:10<04:10,  7.15s/it, loss=0.619]WARNING:pyctcdecode.alphabet:Unigrams and labels don't seem to agree.\n",
            "Validation Epoch 11:  61%|██████▏   | 54/88 [06:23<05:06,  9.00s/it, loss=0.459]WARNING:pyctcdecode.alphabet:Unigrams and labels don't seem to agree.\n",
            "Validation Epoch 11:  62%|██████▎   | 55/88 [06:30<04:35,  8.34s/it, loss=0.621]WARNING:pyctcdecode.alphabet:Unigrams and labels don't seem to agree.\n",
            "Validation Epoch 11:  64%|██████▎   | 56/88 [06:35<03:55,  7.37s/it, loss=0.508]WARNING:pyctcdecode.alphabet:Unigrams and labels don't seem to agree.\n",
            "Validation Epoch 11:  65%|██████▍   | 57/88 [06:39<03:14,  6.26s/it, loss=0.625]WARNING:pyctcdecode.alphabet:Unigrams and labels don't seem to agree.\n",
            "Validation Epoch 11:  66%|██████▌   | 58/88 [06:43<02:44,  5.47s/it, loss=0.632]WARNING:pyctcdecode.alphabet:Unigrams and labels don't seem to agree.\n",
            "Validation Epoch 11:  67%|██████▋   | 59/88 [06:46<02:22,  4.92s/it, loss=0.448]WARNING:pyctcdecode.alphabet:Unigrams and labels don't seem to agree.\n",
            "Validation Epoch 11:  68%|██████▊   | 60/88 [06:53<02:32,  5.46s/it, loss=0.486]WARNING:pyctcdecode.alphabet:Unigrams and labels don't seem to agree.\n",
            "Validation Epoch 11:  69%|██████▉   | 61/88 [06:57<02:20,  5.20s/it, loss=0.426]WARNING:pyctcdecode.alphabet:Unigrams and labels don't seem to agree.\n",
            "Validation Epoch 11:  70%|███████   | 62/88 [07:01<02:01,  4.69s/it, loss=0.39]WARNING:pyctcdecode.alphabet:Unigrams and labels don't seem to agree.\n",
            "Validation Epoch 11:  72%|███████▏  | 63/88 [07:06<01:58,  4.75s/it, loss=0.68]WARNING:pyctcdecode.alphabet:Unigrams and labels don't seem to agree.\n",
            "Validation Epoch 11:  73%|███████▎  | 64/88 [07:10<01:53,  4.71s/it, loss=0.652]WARNING:pyctcdecode.alphabet:Unigrams and labels don't seem to agree.\n",
            "Validation Epoch 11:  74%|███████▍  | 65/88 [07:15<01:49,  4.75s/it, loss=0.5]WARNING:pyctcdecode.alphabet:Unigrams and labels don't seem to agree.\n",
            "Validation Epoch 11:  75%|███████▌  | 66/88 [07:24<02:08,  5.83s/it, loss=0.702]WARNING:pyctcdecode.alphabet:Unigrams and labels don't seem to agree.\n",
            "Validation Epoch 11:  76%|███████▌  | 67/88 [07:36<02:45,  7.87s/it, loss=0.763]WARNING:pyctcdecode.alphabet:Unigrams and labels don't seem to agree.\n",
            "Validation Epoch 11:  77%|███████▋  | 68/88 [07:44<02:34,  7.72s/it, loss=0.525]WARNING:pyctcdecode.alphabet:Unigrams and labels don't seem to agree.\n",
            "Validation Epoch 11:  78%|███████▊  | 69/88 [07:50<02:18,  7.29s/it, loss=0.397]WARNING:pyctcdecode.alphabet:Unigrams and labels don't seem to agree.\n",
            "Validation Epoch 11:  80%|███████▉  | 70/88 [07:55<01:58,  6.60s/it, loss=0.418]WARNING:pyctcdecode.alphabet:Unigrams and labels don't seem to agree.\n",
            "Validation Epoch 11:  81%|████████  | 71/88 [08:00<01:44,  6.14s/it, loss=0.371]WARNING:pyctcdecode.alphabet:Unigrams and labels don't seem to agree.\n",
            "Validation Epoch 11:  82%|████████▏ | 72/88 [08:04<01:27,  5.46s/it, loss=0.504]WARNING:pyctcdecode.alphabet:Unigrams and labels don't seem to agree.\n",
            "Validation Epoch 11:  83%|████████▎ | 73/88 [08:10<01:24,  5.62s/it, loss=0.611]WARNING:pyctcdecode.alphabet:Unigrams and labels don't seem to agree.\n",
            "Validation Epoch 11:  84%|████████▍ | 74/88 [08:17<01:24,  6.02s/it, loss=0.825]WARNING:pyctcdecode.alphabet:Unigrams and labels don't seem to agree.\n",
            "Validation Epoch 11:  85%|████████▌ | 75/88 [08:25<01:26,  6.62s/it, loss=0.764]WARNING:pyctcdecode.alphabet:Unigrams and labels don't seem to agree.\n",
            "Validation Epoch 11:  86%|████████▋ | 76/88 [08:31<01:19,  6.61s/it, loss=0.542]WARNING:pyctcdecode.alphabet:Unigrams and labels don't seem to agree.\n",
            "Validation Epoch 11:  88%|████████▊ | 77/88 [08:42<01:25,  7.76s/it, loss=0.58]WARNING:pyctcdecode.alphabet:Unigrams and labels don't seem to agree.\n",
            "Validation Epoch 11:  89%|████████▊ | 78/88 [08:48<01:12,  7.26s/it, loss=0.475]WARNING:pyctcdecode.alphabet:Unigrams and labels don't seem to agree.\n",
            "Validation Epoch 11:  90%|████████▉ | 79/88 [08:55<01:03,  7.06s/it, loss=0.441]WARNING:pyctcdecode.alphabet:Unigrams and labels don't seem to agree.\n",
            "Validation Epoch 11:  91%|█████████ | 80/88 [09:00<00:52,  6.60s/it, loss=0.514]WARNING:pyctcdecode.alphabet:Unigrams and labels don't seem to agree.\n",
            "Validation Epoch 11:  92%|█████████▏| 81/88 [09:06<00:44,  6.39s/it, loss=0.651]WARNING:pyctcdecode.alphabet:Unigrams and labels don't seem to agree.\n",
            "Validation Epoch 11:  93%|█████████▎| 82/88 [09:13<00:40,  6.70s/it, loss=0.608]WARNING:pyctcdecode.alphabet:Unigrams and labels don't seem to agree.\n",
            "Validation Epoch 11:  94%|█████████▍| 83/88 [09:25<00:41,  8.27s/it, loss=0.578]WARNING:pyctcdecode.alphabet:Unigrams and labels don't seem to agree.\n",
            "Validation Epoch 11:  95%|█████████▌| 84/88 [09:34<00:33,  8.38s/it, loss=0.821]WARNING:pyctcdecode.alphabet:Unigrams and labels don't seem to agree.\n",
            "Validation Epoch 11:  97%|█████████▋| 85/88 [09:43<00:25,  8.59s/it, loss=0.891]WARNING:pyctcdecode.alphabet:Unigrams and labels don't seem to agree.\n",
            "Validation Epoch 11:  98%|█████████▊| 86/88 [09:52<00:17,  8.70s/it, loss=0.441]WARNING:pyctcdecode.alphabet:Unigrams and labels don't seem to agree.\n",
            "Validation Epoch 11:  99%|█████████▉| 87/88 [09:59<00:08,  8.09s/it, loss=0.561]WARNING:pyctcdecode.alphabet:Unigrams and labels don't seem to agree.\n",
            "Validation Epoch 11: 100%|██████████| 88/88 [10:02<00:00,  6.84s/it, loss=0.505]"
          ]
        },
        {
          "output_type": "stream",
          "name": "stdout",
          "text": [
            "Validation Loss: 0.580578404394063, CER: 0.14504668885429675, WER: 0.34851080353714725\n",
            "\n"
          ]
        },
        {
          "output_type": "stream",
          "name": "stderr",
          "text": [
            "\n"
          ]
        }
      ]
    },
    {
      "cell_type": "markdown",
      "source": [
        "![image.png](data:image/png;base64,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)"
      ],
      "metadata": {
        "id": "Ft15Z2m4YK7l"
      }
    },
    {
      "cell_type": "code",
      "source": [
        "def grid_search_alpha_beta(model, device, val_loader, criterion, labels_LMD, model_path, alpha_values, beta_values, int_to_text, epoch=0):\n",
        "    \"\"\"\n",
        "    Perform grid search to find the best alpha and beta values.\n",
        "\n",
        "    Parameters:\n",
        "    model (nn.Module): The speech recognition model.\n",
        "    device (torch.device): The device to run the model on.\n",
        "    val_loader (DataLoader): DataLoader for the validation set.\n",
        "    criterion (nn.Module): The loss criterion.\n",
        "    labels_LMD (list): List of characters.\n",
        "    model_path (str): Path to the pre-trained language model.\n",
        "    alpha_values (list): List of alpha values to try.\n",
        "    beta_values (list): List of beta values to try.\n",
        "    int_to_text (function): Function to convert integer labels to text.\n",
        "    epoch (int): The current epoch number.\n",
        "\n",
        "    Returns:\n",
        "    tuple: Best alpha, best beta, and corresponding WER.\n",
        "    \"\"\"\n",
        "    best_wer = float('inf')\n",
        "    best_alpha = None\n",
        "    best_beta = None\n",
        "\n",
        "    for alpha in alpha_values:\n",
        "        for beta in beta_values:\n",
        "            total_loss = 0\n",
        "            test_cer, test_wer = [], []\n",
        "            model.eval()\n",
        "            with tqdm(total=len(val_loader), desc=f\"Validation Epoch {epoch+1} - Alpha: {alpha:.2f}, Beta: {beta:.2f}\") as pbar:\n",
        "                with torch.no_grad():\n",
        "                    for batch_idx, (spectrograms, labels, input_lengths, label_lengths) in enumerate(val_loader):\n",
        "                        spectrograms, labels = spectrograms.to(device), labels.to(device)\n",
        "                        outputs = model(spectrograms)\n",
        "                        log_probs = outputs.permute(1, 0, 2)  # (T, N, C)\n",
        "                        loss = criterion(log_probs, labels, input_lengths, label_lengths)\n",
        "                        total_loss += loss.item()\n",
        "\n",
        "                        decoded_preds = languageModelDecoder(outputs, labels_LMD, model_path, alpha=alpha, beta=beta)\n",
        "                        decoded_targets = [int_to_text(labels[i][:label_lengths[i]].tolist()) for i in range(len(labels))]\n",
        "\n",
        "                        for j in range(len(decoded_preds)):\n",
        "                            test_cer.append(cer(decoded_targets[j], decoded_preds[j]))\n",
        "                            test_wer.append(wer(decoded_targets[j], decoded_preds[j]))\n",
        "\n",
        "                        pbar.set_postfix(loss=loss.item())\n",
        "                        pbar.update(1)\n",
        "            avg_wer = sum(test_wer) / len(test_wer)\n",
        "            if avg_wer < best_wer:\n",
        "                best_wer = avg_wer\n",
        "                best_alpha = alpha\n",
        "                best_beta = beta\n",
        "\n",
        "    print(f\"Best alpha: {best_alpha}, Best beta: {best_beta}, Best WER: {best_wer}\")\n",
        "    return best_alpha, best_beta, best_wer\n",
        "\n",
        "alpha_values = np.linspace(0, 1, 5)\n",
        "beta_values = np.linspace(0, 1, 5)\n",
        "print(alpha_values)\n",
        "\n",
        "wiki_path = '/content/wiki-interpolate.3gram.arpa'"
      ],
      "metadata": {
        "colab": {
          "base_uri": "https://localhost:8080/"
        },
        "id": "yetx4LeIdWjG",
        "outputId": "1fa8f9e7-8e48-483b-e2cb-6c95c2c31779"
      },
      "execution_count": 36,
      "outputs": [
        {
          "output_type": "stream",
          "name": "stdout",
          "text": [
            "[0.   0.25 0.5  0.75 1.  ]\n"
          ]
        }
      ]
    },
    {
      "cell_type": "code",
      "source": [
        "# Perform the grid search on the validation set, it works, but it takes A LOT OF TIME\n",
        "# best_alpha, best_beta, best_wer = grid_search_alpha_beta(model, device, val_loader, criterion, labels_LMD, wiki_path, alpha_values, beta_values, int_to_text, epoch=0)"
      ],
      "metadata": {
        "id": "bX1lg9RQeNdo"
      },
      "execution_count": 37,
      "outputs": []
    },
    {
      "cell_type": "code",
      "source": [
        "#a good option seems to be:\n",
        "#alpha = 0.5, beta=1.0, WER=0.348..."
      ],
      "metadata": {
        "id": "HmsgbeLlXaGp"
      },
      "execution_count": 38,
      "outputs": []
    },
    {
      "cell_type": "markdown",
      "source": [
        "# 5.6 Summing up"
      ],
      "metadata": {
        "id": "LhzzytrYXrqt"
      }
    },
    {
      "cell_type": "markdown",
      "source": [
        "How do you think the accuracy of the model could be improved further?\n",
        "\n",
        "Setting aside the model for now, we could improve the training procedure in various ways.\n",
        "  - Use a learning rate schedular (cyclical, annealing, cosine, etc)\n",
        "  - More advanced optimizer, e.g. AdamW (has weight decay).\n",
        "  - Use gradient clipping to avoid exploding gradients when using RNNs or LSTMs.\n",
        "  - Include data augmentation for sake of regularization.\n",
        "  - Include dropout for sake of regularization.\n",
        "\n",
        "Can you propose any changes to he model?\n",
        "  - The simplest model upgrade would be adding more model depth and width; that is, more CNN and RNN layers. This would help the network capture more complex features (using CNN layers) and better capture temporal dependencies (using RNN layers).\n",
        "  - More advanced variants of RNN, such as LSTM (Long Short-Term Memory), could capture longer dependencies, which is helpful in sequence modelling.\n",
        "  - Batch normnalization could help in reducing vanishing gradients.\n",
        "  - More residual (skip) connections, especially for deep networks.\n"
      ],
      "metadata": {
        "id": "jJ2-bECFXvgz"
      }
    }
  ]
}