{
 "cells": [
  {
   "cell_type": "markdown",
   "metadata": {
    "id": "T0Sgm9nhMXrJ",
    "jp-MarkdownHeadingCollapsed": true
   },
   "source": [
    "# Colab set-up"
   ]
  },
  {
   "cell_type": "code",
   "execution_count": 1,
   "metadata": {
    "colab": {
     "base_uri": "https://localhost:8080/"
    },
    "id": "Rm2CUO8VMWke",
    "outputId": "91d0b194-ef02-42b7-f83f-7096836d9e77"
   },
   "outputs": [
    {
     "ename": "ModuleNotFoundError",
     "evalue": "No module named 'google'",
     "output_type": "error",
     "traceback": [
      "\u001b[0;31m---------------------------------------------------------------------------\u001b[0m",
      "\u001b[0;31mModuleNotFoundError\u001b[0m                       Traceback (most recent call last)",
      "Cell \u001b[0;32mIn[1], line 1\u001b[0m\n\u001b[0;32m----> 1\u001b[0m \u001b[38;5;28;01mfrom\u001b[39;00m \u001b[38;5;21;01mgoogle\u001b[39;00m\u001b[38;5;21;01m.\u001b[39;00m\u001b[38;5;21;01mcolab\u001b[39;00m \u001b[38;5;28;01mimport\u001b[39;00m drive\n\u001b[1;32m      2\u001b[0m drive\u001b[38;5;241m.\u001b[39mmount(\u001b[38;5;124m'\u001b[39m\u001b[38;5;124m/content/gdrive\u001b[39m\u001b[38;5;124m'\u001b[39m)\n",
      "\u001b[0;31mModuleNotFoundError\u001b[0m: No module named 'google'"
     ]
    }
   ],
   "source": [
    "from google.colab import drive\n",
    "drive.mount('/content/gdrive')"
   ]
  },
  {
   "cell_type": "code",
   "execution_count": null,
   "metadata": {
    "id": "82dnkMhJMidx"
   },
   "outputs": [],
   "source": [
    "import os\n",
    "# If the path differs, don't forget to change it\n",
    "os.chdir(\"/content/gdrive/MyDrive/DT2219-lab3\")"
   ]
  },
  {
   "cell_type": "code",
   "execution_count": null,
   "metadata": {
    "colab": {
     "base_uri": "https://localhost:8080/"
    },
    "id": "KJRoJHp7M0ZB",
    "outputId": "069d1775-48c5-4881-a9a8-12520709dbb1"
   },
   "outputs": [],
   "source": [
    "!ls"
   ]
  },
  {
   "cell_type": "code",
   "execution_count": null,
   "metadata": {
    "id": "4YjzJ1OaC8mm"
   },
   "outputs": [],
   "source": [
    "import sys\n",
    "sys.path.append('/content/gdrive/MyDrive/DT2219-lab3')"
   ]
  },
  {
   "cell_type": "code",
   "execution_count": null,
   "metadata": {
    "colab": {
     "base_uri": "https://localhost:8080/",
     "height": 36
    },
    "id": "VZ-sCxxe9dok",
    "outputId": "4a2f93e4-6809-4699-db5a-22f89f0f94ef"
   },
   "outputs": [],
   "source": [
    "'''\n",
    "from google.colab import drive\n",
    "drive.mount('/content/drive')\n",
    "'''"
   ]
  },
  {
   "cell_type": "code",
   "execution_count": null,
   "metadata": {},
   "outputs": [],
   "source": [
    "!pip3 install -r requirements.txt"
   ]
  },
  {
   "cell_type": "markdown",
   "metadata": {},
   "source": [
    "# Imports, etc."
   ]
  },
  {
   "cell_type": "code",
   "execution_count": 1,
   "metadata": {
    "id": "cwuVBsSPMU2I"
   },
   "outputs": [],
   "source": [
    "import matplotlib.pyplot as plt\n",
    "import os\n",
    "import torch\n",
    "from os.path import exists\n",
    "\n",
    "from lab3_tools import *\n",
    "from lab3_proto import words2phones\n",
    "from lab1_proto import *\n",
    "from lab2_tools import *\n",
    "from lab2_proto import *"
   ]
  },
  {
   "cell_type": "markdown",
   "metadata": {
    "id": "ZoXyw4n6MTnE"
   },
   "source": [
    "# 3) Data"
   ]
  },
  {
   "cell_type": "code",
   "execution_count": 2,
   "metadata": {
    "id": "A2eE6MgpMTnF",
    "vscode": {
     "languageId": "plaintext"
    }
   },
   "outputs": [],
   "source": [
    "# Get whole dataset from AFS"
   ]
  },
  {
   "cell_type": "code",
   "execution_count": 3,
   "metadata": {
    "colab": {
     "base_uri": "https://localhost:8080/"
    },
    "id": "1yYiSeBDMTnF",
    "outputId": "3c94d045-9509-4825-8fe2-fc22d51b3a79",
    "vscode": {
     "languageId": "plaintext"
    }
   },
   "outputs": [
    {
     "data": {
      "text/plain": [
       "('man', 'ae', 'z9z6531', 'a')"
      ]
     },
     "execution_count": 3,
     "metadata": {},
     "output_type": "execute_result"
    }
   ],
   "source": [
    "path2info('tidigits/disc_4.1.1/tidigits/train/man/ae/z9z6531a.wav')"
   ]
  },
  {
   "cell_type": "code",
   "execution_count": 4,
   "metadata": {
    "colab": {
     "base_uri": "https://localhost:8080/"
    },
    "id": "zn4buW2pMTnH",
    "outputId": "8a6cec76-089f-489c-8bb7-01b821430ac4"
   },
   "outputs": [
    {
     "data": {
      "text/plain": [
       "(array([11, 13, 11, ...,  9,  9,  9], dtype=int16), 20000)"
      ]
     },
     "execution_count": 4,
     "metadata": {},
     "output_type": "execute_result"
    }
   ],
   "source": [
    "loadAudio('tidigits/disc_4.1.1/tidigits/train/man/ae/z9z6531a.wav')"
   ]
  },
  {
   "cell_type": "markdown",
   "metadata": {
    "id": "6IN2Gnh4MTnH"
   },
   "source": [
    "# 4) Preparing the Data for DNN Training"
   ]
  },
  {
   "cell_type": "code",
   "execution_count": 5,
   "metadata": {
    "colab": {
     "base_uri": "https://localhost:8080/"
    },
    "id": "eQuqyL9sMTnH",
    "outputId": "fde617e8-5970-4580-b570-a400866ea644"
   },
   "outputs": [
    {
     "data": {
      "text/plain": [
       "['ah_0',\n",
       " 'ah_1',\n",
       " 'ah_2',\n",
       " 'ao_0',\n",
       " 'ao_1',\n",
       " 'ao_2',\n",
       " 'ay_0',\n",
       " 'ay_1',\n",
       " 'ay_2',\n",
       " 'eh_0',\n",
       " 'eh_1',\n",
       " 'eh_2',\n",
       " 'ey_0',\n",
       " 'ey_1',\n",
       " 'ey_2',\n",
       " 'f_0',\n",
       " 'f_1',\n",
       " 'f_2',\n",
       " 'ih_0',\n",
       " 'ih_1',\n",
       " 'ih_2',\n",
       " 'iy_0',\n",
       " 'iy_1',\n",
       " 'iy_2',\n",
       " 'k_0',\n",
       " 'k_1',\n",
       " 'k_2',\n",
       " 'n_0',\n",
       " 'n_1',\n",
       " 'n_2',\n",
       " 'ow_0',\n",
       " 'ow_1',\n",
       " 'ow_2',\n",
       " 'r_0',\n",
       " 'r_1',\n",
       " 'r_2',\n",
       " 's_0',\n",
       " 's_1',\n",
       " 's_2',\n",
       " 'sil_0',\n",
       " 'sil_1',\n",
       " 'sil_2',\n",
       " 'sp_0',\n",
       " 't_0',\n",
       " 't_1',\n",
       " 't_2',\n",
       " 'th_0',\n",
       " 'th_1',\n",
       " 'th_2',\n",
       " 'uw_0',\n",
       " 'uw_1',\n",
       " 'uw_2',\n",
       " 'v_0',\n",
       " 'v_1',\n",
       " 'v_2',\n",
       " 'w_0',\n",
       " 'w_1',\n",
       " 'w_2',\n",
       " 'z_0',\n",
       " 'z_1',\n",
       " 'z_2']"
      ]
     },
     "execution_count": 5,
     "metadata": {},
     "output_type": "execute_result"
    }
   ],
   "source": [
    "lab2_models = 'lab2_models_all.npz'\n",
    "phoneHMMs = np.load(lab2_models, allow_pickle=True)['phoneHMMs'].item()\n",
    "phones = sorted(phoneHMMs.keys())\n",
    "nstates = {phone: phoneHMMs[phone]['means'].shape[0] for phone in phones}\n",
    "stateList = [ph + '_' + str(id) for ph in phones for id in range(nstates[ph])]\n",
    "stateList"
   ]
  },
  {
   "cell_type": "code",
   "execution_count": 6,
   "metadata": {
    "colab": {
     "base_uri": "https://localhost:8080/"
    },
    "id": "BkLjvYK5MTnI",
    "outputId": "c22af3b6-20e5-4e08-ac29-3bd8bdd87768"
   },
   "outputs": [
    {
     "data": {
      "text/plain": [
       "8"
      ]
     },
     "execution_count": 6,
     "metadata": {},
     "output_type": "execute_result"
    }
   ],
   "source": [
    "stateList.index('ay_2')"
   ]
  },
  {
   "cell_type": "code",
   "execution_count": 7,
   "metadata": {
    "colab": {
     "base_uri": "https://localhost:8080/"
    },
    "id": "ofYO_YnLMTnI",
    "outputId": "7bd15dd9-0156-402f-c60c-5f5e5729f0b6"
   },
   "outputs": [
    {
     "name": "stdout",
     "output_type": "stream",
     "text": [
      "targetClass.txt exists, skipping its creation.\n"
     ]
    }
   ],
   "source": [
    "target_class_file_name = \"targetClass.txt\"\n",
    "if exists(target_class_file_name):\n",
    "    print(f\"{target_class_file_name} exists, skipping its creation.\")\n",
    "else:\n",
    "    with open(target_class_file_name, \"w\") as txt_file:\n",
    "        for entry in stateList:\n",
    "            txt_file.write(f\"{entry}\\n\")"
   ]
  },
  {
   "cell_type": "code",
   "execution_count": 8,
   "metadata": {
    "colab": {
     "base_uri": "https://localhost:8080/"
    },
    "id": "PLgqw1N0MTnI",
    "outputId": "2bd0e4cb-7568-4020-a7a0-16f7a7e96b63"
   },
   "outputs": [
    {
     "name": "stdout",
     "output_type": "stream",
     "text": [
      "ah_0\n",
      "ah_1\n",
      "ah_2\n",
      "ao_0\n",
      "ao_1\n",
      "ao_2\n",
      "ay_0\n",
      "ay_1\n",
      "ay_2\n",
      "eh_0\n",
      "eh_1\n",
      "eh_2\n",
      "ey_0\n",
      "ey_1\n",
      "ey_2\n",
      "f_0\n",
      "f_1\n",
      "f_2\n",
      "ih_0\n",
      "ih_1\n",
      "ih_2\n",
      "iy_0\n",
      "iy_1\n",
      "iy_2\n",
      "k_0\n",
      "k_1\n",
      "k_2\n",
      "n_0\n",
      "n_1\n",
      "n_2\n",
      "ow_0\n",
      "ow_1\n",
      "ow_2\n",
      "r_0\n",
      "r_1\n",
      "r_2\n",
      "s_0\n",
      "s_1\n",
      "s_2\n",
      "sil_0\n",
      "sil_1\n",
      "sil_2\n",
      "sp_0\n",
      "t_0\n",
      "t_1\n",
      "t_2\n",
      "th_0\n",
      "th_1\n",
      "th_2\n",
      "uw_0\n",
      "uw_1\n",
      "uw_2\n",
      "v_0\n",
      "v_1\n",
      "v_2\n",
      "w_0\n",
      "w_1\n",
      "w_2\n",
      "z_0\n",
      "z_1\n",
      "z_2\n"
     ]
    }
   ],
   "source": [
    "# Checking a file content\n",
    "!cat targetClass.txt"
   ]
  },
  {
   "cell_type": "markdown",
   "metadata": {
    "id": "3kdpS9d2MTnJ"
   },
   "source": [
    "## Forced alignment of single sample"
   ]
  },
  {
   "cell_type": "code",
   "execution_count": 9,
   "metadata": {
    "id": "lFvMWKztMTnJ"
   },
   "outputs": [],
   "source": [
    "filename = 'tidigits/disc_4.1.1/tidigits/train/man/nw/z43a.wav'\n",
    "samples, samplingrate = loadAudio(filename)\n",
    "lmfcc = mfcc(samples)"
   ]
  },
  {
   "cell_type": "code",
   "execution_count": 10,
   "metadata": {
    "id": "oZ19_nkzMTnK"
   },
   "outputs": [],
   "source": [
    "steps = np.load(\"lab3_example.npz\", allow_pickle=True)['example'].item()"
   ]
  },
  {
   "cell_type": "code",
   "execution_count": 11,
   "metadata": {
    "colab": {
     "base_uri": "https://localhost:8080/"
    },
    "id": "-277wcyPMTnK",
    "outputId": "917b4be9-ff62-4ccb-dd6d-a31aeb90ed79"
   },
   "outputs": [
    {
     "data": {
      "text/plain": [
       "7.61258764359063e-12"
      ]
     },
     "execution_count": 11,
     "metadata": {},
     "output_type": "execute_result"
    }
   ],
   "source": [
    "np.sum(lmfcc - steps['lmfcc'])"
   ]
  },
  {
   "cell_type": "code",
   "execution_count": 12,
   "metadata": {
    "colab": {
     "base_uri": "https://localhost:8080/"
    },
    "id": "ywfNDFwfMTnL",
    "outputId": "a77183ac-c231-4cd1-e6b5-4f5c2de33fa4"
   },
   "outputs": [
    {
     "data": {
      "text/plain": [
       "['z', '4', '3']"
      ]
     },
     "execution_count": 12,
     "metadata": {},
     "output_type": "execute_result"
    }
   ],
   "source": [
    "wordTrans = list(path2info(filename)[2])\n",
    "wordTrans"
   ]
  },
  {
   "cell_type": "code",
   "execution_count": 13,
   "metadata": {
    "colab": {
     "base_uri": "https://localhost:8080/"
    },
    "id": "ABV2bOuzMTnL",
    "outputId": "77a4d507-0e85-458c-bc8e-bab19f29f538"
   },
   "outputs": [
    {
     "data": {
      "text/plain": [
       "['sil',\n",
       " 'z',\n",
       " 'iy',\n",
       " 'r',\n",
       " 'ow',\n",
       " 'sp',\n",
       " 'f',\n",
       " 'ao',\n",
       " 'r',\n",
       " 'sp',\n",
       " 'th',\n",
       " 'r',\n",
       " 'iy',\n",
       " 'sp',\n",
       " 'sil']"
      ]
     },
     "execution_count": 13,
     "metadata": {},
     "output_type": "execute_result"
    }
   ],
   "source": [
    "# Get the phoneme transcription of a sequence of words\n",
    "from prondict import prondict\n",
    "phoneTrans = words2phones(wordTrans, prondict)\n",
    "phoneTrans"
   ]
  },
  {
   "cell_type": "code",
   "execution_count": 14,
   "metadata": {
    "id": "M6oE_ja7MTnM"
   },
   "outputs": [],
   "source": [
    "utteranceHMM = concatHMMs(phoneHMMs, phoneTrans)"
   ]
  },
  {
   "cell_type": "code",
   "execution_count": 15,
   "metadata": {
    "colab": {
     "base_uri": "https://localhost:8080/"
    },
    "id": "i3WX2VLWMTnM",
    "outputId": "8fbc5e97-3f6d-4d83-e860-234112d5c6e3"
   },
   "outputs": [
    {
     "data": {
      "text/plain": [
       "['sil_0',\n",
       " 'sil_1',\n",
       " 'sil_2',\n",
       " 'z_0',\n",
       " 'z_1',\n",
       " 'z_2',\n",
       " 'iy_0',\n",
       " 'iy_1',\n",
       " 'iy_2',\n",
       " 'r_0',\n",
       " 'r_1',\n",
       " 'r_2',\n",
       " 'ow_0',\n",
       " 'ow_1',\n",
       " 'ow_2',\n",
       " 'sp_0',\n",
       " 'f_0',\n",
       " 'f_1',\n",
       " 'f_2',\n",
       " 'ao_0',\n",
       " 'ao_1',\n",
       " 'ao_2',\n",
       " 'r_0',\n",
       " 'r_1',\n",
       " 'r_2',\n",
       " 'sp_0',\n",
       " 'th_0',\n",
       " 'th_1',\n",
       " 'th_2',\n",
       " 'r_0',\n",
       " 'r_1',\n",
       " 'r_2',\n",
       " 'iy_0',\n",
       " 'iy_1',\n",
       " 'iy_2',\n",
       " 'sp_0',\n",
       " 'sil_0',\n",
       " 'sil_1',\n",
       " 'sil_2']"
      ]
     },
     "execution_count": 15,
     "metadata": {},
     "output_type": "execute_result"
    }
   ],
   "source": [
    "# Splitting phonemes (in our case) into three components, execept short pause (sp) which has just one\n",
    "stateTrans = [phone + '_' + str(stateid) for phone in phoneTrans for stateid in range(nstates[phone])]\n",
    "stateTrans"
   ]
  },
  {
   "cell_type": "code",
   "execution_count": 16,
   "metadata": {
    "id": "G74-rOifMTnM"
   },
   "outputs": [],
   "source": [
    "obsloglik = log_multivariate_normal_density_diag(\n",
    "    lmfcc, utteranceHMM['means'], utteranceHMM['covars']\n",
    ")"
   ]
  },
  {
   "cell_type": "code",
   "execution_count": 17,
   "metadata": {
    "colab": {
     "base_uri": "https://localhost:8080/",
     "height": 487
    },
    "id": "EU-Mz0OBMTnM",
    "outputId": "74a771df-018b-4101-8c2e-096d29cdf84e"
   },
   "outputs": [
    {
     "data": {
      "image/png": "[encoded data removed]",
      "text/plain": [
       "<Figure size 1500x500 with 2 Axes>"
      ]
     },
     "metadata": {},
     "output_type": "display_data"
    }
   ],
   "source": [
    "# 5 bars - silence, 3x short silence, silence\n",
    "# which we expect\n",
    "plt.figure(figsize=(15, 5))\n",
    "plt.imshow(obsloglik.T, aspect='auto', origin='lower', cmap='viridis', interpolation='none')\n",
    "plt.colorbar(label='Log Likelihood')\n",
    "plt.xlabel('Time step')\n",
    "plt.ylabel('State')\n",
    "plt.title('obsloglik: HMM log likelihood of observation given the state')\n",
    "plt.show()"
   ]
  },
  {
   "cell_type": "code",
   "execution_count": 18,
   "metadata": {
    "colab": {
     "base_uri": "https://localhost:8080/"
    },
    "id": "-QvON7XxMTnM",
    "outputId": "5193d668-1bcc-4bc4-a724-1405cba572e0"
   },
   "outputs": [
    {
     "name": "stderr",
     "output_type": "stream",
     "text": [
      "/tmp/ipykernel_11760/687773586.py:4: RuntimeWarning: divide by zero encountered in log\n",
      "  viterbi_loglik, viterbi_path = viterbi(obsloglik, np.log(startprob), np.log(transmat))\n"
     ]
    }
   ],
   "source": [
    "startprob = utteranceHMM['startprob']\n",
    "transmat = utteranceHMM['transmat']\n",
    "\n",
    "viterbi_loglik, viterbi_path = viterbi(obsloglik, np.log(startprob), np.log(transmat))"
   ]
  },
  {
   "cell_type": "code",
   "execution_count": 19,
   "metadata": {
    "colab": {
     "base_uri": "https://localhost:8080/"
    },
    "id": "wpocjWwhMTnN",
    "outputId": "9b6762c0-d21c-4866-ab57-53919ecea47d"
   },
   "outputs": [
    {
     "name": "stderr",
     "output_type": "stream",
     "text": [
      "/tmp/ipykernel_11760/582359088.py:1: RuntimeWarning: divide by zero encountered in log\n",
      "  logalpha = forward(obsloglik, np.log(startprob), np.log(transmat))\n"
     ]
    }
   ],
   "source": [
    "logalpha = forward(obsloglik, np.log(startprob), np.log(transmat))"
   ]
  },
  {
   "cell_type": "code",
   "execution_count": 20,
   "metadata": {
    "colab": {
     "base_uri": "https://localhost:8080/"
    },
    "id": "M3WAgaiHMTnN",
    "outputId": "d22c84bd-15d9-4254-a150-83d6d3a70007",
    "scrolled": true
   },
   "outputs": [
    {
     "data": {
      "image/png": "[encoded data removed]",
      "text/plain": [
       "<Figure size 640x480 with 1 Axes>"
      ]
     },
     "metadata": {},
     "output_type": "display_data"
    }
   ],
   "source": [
    "plt.pcolormesh(logalpha.T)\n",
    "plt.plot(viterbi_path.T, color=\"magenta\")\n",
    "plt.xlabel('Time step')\n",
    "plt.ylabel('State')\n",
    "plt.show()"
   ]
  },
  {
   "cell_type": "code",
   "execution_count": 21,
   "metadata": {
    "colab": {
     "base_uri": "https://localhost:8080/"
    },
    "id": "a1V8dbfFMTnN",
    "outputId": "4dd58839-6229-41f2-bb3e-b3271e86d555"
   },
   "outputs": [
    {
     "data": {
      "text/plain": [
       "['sil_0',\n",
       " 'sil_0',\n",
       " 'sil_1',\n",
       " 'sil_1',\n",
       " 'sil_1',\n",
       " 'sil_1',\n",
       " 'sil_1',\n",
       " 'sil_1',\n",
       " 'sil_1',\n",
       " 'sil_1',\n",
       " 'sil_1',\n",
       " 'sil_1',\n",
       " 'sil_1',\n",
       " 'sil_1',\n",
       " 'sil_1',\n",
       " 'sil_1',\n",
       " 'sil_1',\n",
       " 'sil_1',\n",
       " 'sil_1',\n",
       " 'sil_1',\n",
       " 'sil_2',\n",
       " 'z_0',\n",
       " 'z_0',\n",
       " 'z_0',\n",
       " 'z_0',\n",
       " 'z_1',\n",
       " 'z_2',\n",
       " 'z_2',\n",
       " 'z_2',\n",
       " 'z_2',\n",
       " 'z_2',\n",
       " 'z_2',\n",
       " 'z_2',\n",
       " 'z_2',\n",
       " 'z_2',\n",
       " 'z_2',\n",
       " 'z_2',\n",
       " 'iy_0',\n",
       " 'iy_0',\n",
       " 'iy_0',\n",
       " 'iy_0',\n",
       " 'iy_0',\n",
       " 'iy_0',\n",
       " 'iy_0',\n",
       " 'iy_0',\n",
       " 'iy_1',\n",
       " 'iy_2',\n",
       " 'r_0',\n",
       " 'r_0',\n",
       " 'r_0',\n",
       " 'r_0',\n",
       " 'r_0',\n",
       " 'r_0',\n",
       " 'r_0',\n",
       " 'r_0',\n",
       " 'r_0',\n",
       " 'r_0',\n",
       " 'r_1',\n",
       " 'r_2',\n",
       " 'ow_0',\n",
       " 'ow_1',\n",
       " 'ow_2',\n",
       " 'ow_2',\n",
       " 'ow_2',\n",
       " 'ow_2',\n",
       " 'ow_2',\n",
       " 'ow_2',\n",
       " 'ow_2',\n",
       " 'ow_2',\n",
       " 'ow_2',\n",
       " 'f_0',\n",
       " 'f_1',\n",
       " 'f_1',\n",
       " 'f_1',\n",
       " 'f_1',\n",
       " 'f_1',\n",
       " 'f_1',\n",
       " 'f_1',\n",
       " 'f_1',\n",
       " 'f_1',\n",
       " 'f_1',\n",
       " 'f_1',\n",
       " 'f_2',\n",
       " 'ao_0',\n",
       " 'ao_1',\n",
       " 'ao_1',\n",
       " 'ao_1',\n",
       " 'ao_1',\n",
       " 'ao_1',\n",
       " 'ao_1',\n",
       " 'ao_1',\n",
       " 'ao_1',\n",
       " 'ao_1',\n",
       " 'ao_1',\n",
       " 'ao_1',\n",
       " 'ao_1',\n",
       " 'ao_1',\n",
       " 'ao_1',\n",
       " 'ao_2',\n",
       " 'ao_2',\n",
       " 'ao_2',\n",
       " 'ao_2',\n",
       " 'ao_2',\n",
       " 'ao_2',\n",
       " 'ao_2',\n",
       " 'ao_2',\n",
       " 'ao_2',\n",
       " 'ao_2',\n",
       " 'ao_2',\n",
       " 'r_0',\n",
       " 'r_0',\n",
       " 'r_0',\n",
       " 'r_1',\n",
       " 'r_2',\n",
       " 'th_0',\n",
       " 'th_0',\n",
       " 'th_0',\n",
       " 'th_0',\n",
       " 'th_0',\n",
       " 'th_0',\n",
       " 'th_0',\n",
       " 'th_0',\n",
       " 'th_0',\n",
       " 'th_0',\n",
       " 'th_1',\n",
       " 'th_1',\n",
       " 'th_1',\n",
       " 'th_2',\n",
       " 'r_0',\n",
       " 'r_0',\n",
       " 'r_0',\n",
       " 'r_0',\n",
       " 'r_0',\n",
       " 'r_0',\n",
       " 'r_0',\n",
       " 'r_0',\n",
       " 'r_0',\n",
       " 'r_1',\n",
       " 'r_2',\n",
       " 'iy_0',\n",
       " 'iy_0',\n",
       " 'iy_0',\n",
       " 'iy_0',\n",
       " 'iy_0',\n",
       " 'iy_0',\n",
       " 'iy_0',\n",
       " 'iy_0',\n",
       " 'iy_0',\n",
       " 'iy_0',\n",
       " 'iy_1',\n",
       " 'iy_1',\n",
       " 'iy_2',\n",
       " 'iy_2',\n",
       " 'iy_2',\n",
       " 'iy_2',\n",
       " 'iy_2',\n",
       " 'iy_2',\n",
       " 'iy_2',\n",
       " 'iy_2',\n",
       " 'sil_0',\n",
       " 'sil_0',\n",
       " 'sil_0',\n",
       " 'sil_0',\n",
       " 'sil_0',\n",
       " 'sil_0',\n",
       " 'sil_0',\n",
       " 'sil_0',\n",
       " 'sil_0',\n",
       " 'sil_0',\n",
       " 'sil_0',\n",
       " 'sil_0',\n",
       " 'sil_0',\n",
       " 'sil_0',\n",
       " 'sil_0',\n",
       " 'sil_1',\n",
       " 'sil_2',\n",
       " 'sil_2',\n",
       " 'sil_2']"
      ]
     },
     "execution_count": 21,
     "metadata": {},
     "output_type": "execute_result"
    }
   ],
   "source": [
    "viterbiStateTrans = [stateTrans[i] for i in viterbi_path]\n",
    "viterbiStateTrans"
   ]
  },
  {
   "cell_type": "code",
   "execution_count": 22,
   "metadata": {
    "id": "zJIA77-AMTnN"
   },
   "outputs": [
    {
     "data": {
      "text/plain": [
       "'0 0.02 sil_0\\n0.02 0.20000000000000004 sil_1\\n0.20000000000000004 0.21000000000000005 sil_2\\n0.21000000000000005 0.25000000000000006 z_0\\n0.25000000000000006 0.26000000000000006 z_1\\n0.26000000000000006 0.37000000000000016 z_2\\n0.37000000000000016 0.45000000000000023 iy_0\\n0.45000000000000023 0.46000000000000024 iy_1\\n0.46000000000000024 0.47000000000000025 iy_2\\n0.47000000000000025 0.5700000000000003 r_0\\n0.5700000000000003 0.5800000000000003 r_1\\n0.5800000000000003 0.5900000000000003 r_2\\n0.5900000000000003 0.6000000000000003 ow_0\\n0.6000000000000003 0.6100000000000003 ow_1\\n0.6100000000000003 0.7000000000000004 ow_2\\n0.7000000000000004 0.7100000000000004 f_0\\n0.7100000000000004 0.8200000000000005 f_1\\n0.8200000000000005 0.8300000000000005 f_2\\n0.8300000000000005 0.8400000000000005 ao_0\\n0.8400000000000005 0.9800000000000006 ao_1\\n0.9800000000000006 1.0900000000000007 ao_2\\n1.0900000000000007 1.1200000000000008 r_0\\n1.1200000000000008 1.1300000000000008 r_1\\n1.1300000000000008 1.1400000000000008 r_2\\n1.1400000000000008 1.2400000000000009 th_0\\n1.2400000000000009 1.270000000000001 th_1\\n1.270000000000001 1.280000000000001 th_2\\n1.280000000000001 1.370000000000001 r_0\\n1.370000000000001 1.380000000000001 r_1\\n1.380000000000001 1.390000000000001 r_2\\n1.390000000000001 1.490000000000001 iy_0\\n1.490000000000001 1.5100000000000011 iy_1\\n1.5100000000000011 1.5900000000000012 iy_2\\n1.5900000000000012 1.7400000000000013 sil_0\\n1.7400000000000013 1.7500000000000013 sil_1\\n1.7500000000000013 1.7800000000000014 sil_2\\n'"
      ]
     },
     "execution_count": 22,
     "metadata": {},
     "output_type": "execute_result"
    }
   ],
   "source": [
    "frames2trans(viterbiStateTrans, outfilename='z43a.lab')"
   ]
  },
  {
   "cell_type": "markdown",
   "metadata": {
    "id": "dyAR8ndwMTnN"
   },
   "source": [
    "Is the alignment correct?\n",
    "- Yes.\n",
    "\n",
    "What can you say observing the alignment between the sound file and the classes?\n",
    "- It fits?"
   ]
  },
  {
   "cell_type": "markdown",
   "metadata": {
    "id": "ifS4x-4VMTnN"
   },
   "source": [
    "![2024-05-03 14_59_30-lab3.pdf - Personal - Microsoft​ Edge.png](attachment:23de2d63-090f-4177-8e14-5af810881119.png)"
   ]
  },
  {
   "cell_type": "markdown",
   "metadata": {
    "id": "9AwoKJLmMTnO"
   },
   "source": [
    "## Feature extraction, forced alignment of datasets"
   ]
  },
  {
   "cell_type": "code",
   "execution_count": 23,
   "metadata": {
    "id": "TVT7Td0cMTnO"
   },
   "outputs": [
    {
     "name": "stdout",
     "output_type": "stream",
     "text": [
      "traindata.npz exists, skipping its creation.\n"
     ]
    }
   ],
   "source": [
    "train_file_name = 'traindata.npz'\n",
    "if exists(train_file_name):\n",
    "        print(f\"{train_file_name} exists, skipping its creation.\")\n",
    "else:\n",
    "    traindata = []\n",
    "    for root, dirs, files in os.walk('tidigits/disc_4.1.1/tidigits/train'):\n",
    "        for file in files:\n",
    "            if file.endswith('.wav'):\n",
    "                filename = os.path.join(root, file)\n",
    "                samples, samplingrate = loadAudio(filename)\n",
    "\n",
    "                # Feature extraction\n",
    "                lmfcc = mfcc(samples)\n",
    "                mspec_1 = mspec(samples)\n",
    "\n",
    "                # Forced alignment\n",
    "                wordTrans = list(path2info(filename)[2])\n",
    "                phoneTrans = words2phones(wordTrans, prondict)\n",
    "                utteranceHMM = concatHMMs(phoneHMMs, phoneTrans)\n",
    "                stateTrans = [phone + '_' + str(stateid) for phone in phoneTrans for stateid in range(nstates[phone])]\n",
    "                # Emission likelihoods\n",
    "                obsloglik = log_multivariate_normal_density_diag(\n",
    "                    lmfcc, utteranceHMM['means'], utteranceHMM['covars']\n",
    "                )\n",
    "                # Viterbi\n",
    "                startprob = utteranceHMM['startprob']\n",
    "                transmat = utteranceHMM['transmat']\n",
    "                viterbi_loglik, viterbi_path = viterbi(obsloglik, np.log(startprob), np.log(transmat))\n",
    "                # Final targets\n",
    "                targets = [stateList.index(stateTrans[i]) for i in viterbi_path]\n",
    "\n",
    "                traindata.append({'filename': filename, 'lmfcc': lmfcc, 'mspec': mspec_1, 'targets': targets})\n",
    "    np.savez(train_file_name, traindata=traindata)"
   ]
  },
  {
   "cell_type": "code",
   "execution_count": 24,
   "metadata": {
    "id": "wkQtx4VSMTnO"
   },
   "outputs": [
    {
     "name": "stdout",
     "output_type": "stream",
     "text": [
      "testdata.npz exists, skipping its creation.\n"
     ]
    }
   ],
   "source": [
    "file_name = 'testdata.npz'\n",
    "if exists(file_name):\n",
    "        print(f\"{file_name} exists, skipping its creation.\")\n",
    "else:\n",
    "    testdata = []\n",
    "    for root, dirs, files in os.walk('tidigits/disc_4.2.1/tidigits/test'):\n",
    "        for file in files:\n",
    "            if file.endswith('.wav'):\n",
    "                filename = os.path.join(root, file)\n",
    "                samples, samplingrate = loadAudio(filename)\n",
    "\n",
    "                # Feature extraction\n",
    "                lmfcc = mfcc(samples)\n",
    "                mspec_1 = mspec(samples)\n",
    "\n",
    "                # Forced alignment\n",
    "                wordTrans = list(path2info(filename)[2])\n",
    "                phoneTrans = words2phones(wordTrans, prondict)\n",
    "                utteranceHMM = concatHMMs(phoneHMMs, phoneTrans)\n",
    "                stateTrans = [phone + '_' + str(stateid) for phone in phoneTrans for stateid in range(nstates[phone])]\n",
    "                # Emission likelihoods\n",
    "                obsloglik = log_multivariate_normal_density_diag(\n",
    "                    lmfcc, utteranceHMM['means'], utteranceHMM['covars']\n",
    "                )\n",
    "                # Viterbi\n",
    "                startprob = utteranceHMM['startprob']\n",
    "                transmat = utteranceHMM['transmat']\n",
    "                viterbi_loglik, viterbi_path = viterbi(obsloglik, np.log(startprob), np.log(transmat))\n",
    "                # Final targets\n",
    "                targets = [stateList.index(stateTrans[i]) for i in viterbi_path]\n",
    "\n",
    "                testdata.append({'filename': filename, 'lmfcc': lmfcc, 'mspec': mspec_1, 'targets': targets})\n",
    "    np.savez(file_name, testdata=testdata)"
   ]
  },
  {
   "cell_type": "markdown",
   "metadata": {
    "id": "Dt7VSunNMTnO"
   },
   "source": [
    "## 4.4 Training and validation sets"
   ]
  },
  {
   "cell_type": "code",
   "execution_count": 25,
   "metadata": {
    "id": "rooHlmXSMTnP"
   },
   "outputs": [
    {
     "name": "stdout",
     "output_type": "stream",
     "text": [
      "Training set size:  0.8999188217557694\n",
      "Validation set size:  0.10008117824423055\n",
      "Training set 'man' ratio:  0.4911082474226804\n",
      "Validation set 'man' ratio:  0.49130938586326767\n"
     ]
    },
    {
     "data": {
      "text/plain": [
       "(112,)"
      ]
     },
     "execution_count": 25,
     "metadata": {},
     "output_type": "execute_result"
    }
   ],
   "source": [
    "from sklearn.model_selection import StratifiedShuffleSplit\n",
    "\n",
    "training_data = np.load(train_file_name, allow_pickle=True)['traindata']\n",
    "\n",
    "genders = [path2info(training_entry['filename'])[0] for training_entry in training_data]\n",
    "\n",
    "# TODO: ensure each speaker is in one set only\n",
    "# We want to generate just a single split\n",
    "sss = StratifiedShuffleSplit(n_splits=1, test_size=0.1, random_state=0)\n",
    "for train_index, test_index in sss.split(training_data, genders):\n",
    "    training_set = np.array([training_data[i] for i in train_index])\n",
    "    validation_set = np.array([training_data[i] for i in test_index])\n",
    "\n",
    "# Validate the split size\n",
    "print(\"Training set size: \", training_set.shape[0]/training_data.shape[0])\n",
    "print(\"Validation set size: \", validation_set.shape[0]/training_data.shape[0])\n",
    "\n",
    "# Validate the gender distribution\n",
    "training_set_man_genders = np.sum([path2info(entry['filename'])[0] == 'man' for entry in training_set])\n",
    "validation_set_man_genders = np.sum([path2info(entry['filename'])[0] == 'man' for entry in validation_set])\n",
    "\n",
    "print(\"Training set 'man' ratio: \", training_set_man_genders/training_set.shape[0])\n",
    "print(\"Validation set 'man' ratio: \", validation_set_man_genders/validation_set.shape[0])\n",
    "\n",
    "training_ids = [path2info(entry['filename'])[1] for entry in training_set]\n",
    "validation_ids = [path2info(entry['filename'])[1] for entry in validation_set]\n",
    "#np.all([np.isin(training_entry, validation_ids) for training_entry in training_ids])\n",
    "np.intersect1d(training_ids,validation_ids).shape"
   ]
  },
  {
   "cell_type": "markdown",
   "metadata": {
    "id": "7ZLPg1N4MTnP"
   },
   "source": [
    "Explain how you selected the two data sets.\n"
   ]
  },
  {
   "cell_type": "code",
   "execution_count": 26,
   "metadata": {
    "id": "YdztqnOyt3O0"
   },
   "outputs": [],
   "source": [
    "# Test data\n",
    "test_set = np.load(file_name, allow_pickle=True)['testdata']"
   ]
  },
  {
   "cell_type": "code",
   "execution_count": 27,
   "metadata": {},
   "outputs": [
    {
     "data": {
      "text/plain": [
       "((1353209,), (154183,), (1527014,))"
      ]
     },
     "execution_count": 27,
     "metadata": {},
     "output_type": "execute_result"
    }
   ],
   "source": [
    "# Create y sets (using targets from sets)\n",
    "train_y = np.concatenate([entry['targets'] for entry in training_set], axis=0)\n",
    "val_y = np.concatenate([entry['targets'] for entry in validation_set], axis=0)\n",
    "test_y = np.concatenate([entry['targets'] for entry in test_set], axis=0)\n",
    "\n",
    "# Validate the correct order in y\n",
    "assert np.array_equal(training_set[0]['targets'], train_y[:len(training_set[0]['targets'])])\n",
    "\n",
    "train_y.shape, val_y.shape, test_y.shape"
   ]
  },
  {
   "cell_type": "markdown",
   "metadata": {
    "id": "IX3KcL-9MTnP"
   },
   "source": [
    "## 4.5 Acoustic Context (Dynamic Features)"
   ]
  },
  {
   "cell_type": "code",
   "execution_count": 28,
   "metadata": {
    "id": "ej5oyfsHMTnP"
   },
   "outputs": [],
   "source": [
    "# For each entry in training and validation set\n",
    "# Go through 'mfcc' and 'mspec' attributes\n",
    "# Resulting in e.g. lmfcc_i = (lmfcc_i-2, lmfcc_i-1, lmfcc_i, lmfcc_i+1, lmfcc_i+2)\n",
    "# If i=0, then lmfcc_i = (lmfcc_i+2, lmfcc_i+1, lmfcc_i, lmfcc_i+1, lmfcc_i+2)\n",
    "\n",
    "def stack_features(dataset, feature='lmfcc', window_size=3):\n",
    "    full_window_size = 1 + 2 * window_size\n",
    "    new_dataset = []\n",
    "    for entry in dataset:\n",
    "        entry_feature = entry[feature]\n",
    "        num_timesteps, num_features = entry_feature.shape\n",
    "        stacked_features = np.zeros((num_timesteps, full_window_size * num_features))\n",
    "\n",
    "        for t in range(num_timesteps):\n",
    "            # Go from -3 to +3 feature\n",
    "            for w in range(-window_size, window_size + 1):\n",
    "                # If the window goes off the edge of the array, use the edge value.\n",
    "                if t + w < 0:\n",
    "                    # Not the same as abs(t+w)\n",
    "                    value_to_be_assigned = entry_feature[t + abs(w)]\n",
    "                elif t + w >= num_timesteps:\n",
    "                    # Apparently correct - a lot of calculations that \"make\" sense\n",
    "                    value_to_be_assigned = entry_feature[2*(num_timesteps - 1) - (t+w)] \n",
    "                else:\n",
    "                    value_to_be_assigned = entry_feature[t + w]\n",
    "                stacked_features[t, (w + window_size) * num_features : (w + window_size + 1) * num_features] = value_to_be_assigned\n",
    "        new_dataset.append(stacked_features)\n",
    "    # Can't return as np.array due to different lengths\n",
    "    return new_dataset"
   ]
  },
  {
   "cell_type": "markdown",
   "metadata": {
    "id": "u4usw_VBoHSs"
   },
   "source": [
    "## 4.6  Feature Standardisation"
   ]
  },
  {
   "cell_type": "code",
   "execution_count": 29,
   "metadata": {
    "id": "4LInHzgUMTnP"
   },
   "outputs": [],
   "source": [
    "# Choose a standardization startegy\n",
    "# - The assignment makes is seem like we should do 1. (whole training set)\n",
    "\n",
    "# Input must be flattened _before_ entered into the Scaler if we want to standardize over the whole training set\n",
    "from sklearn.preprocessing import StandardScaler\n",
    "\n",
    "def standardize_datasets(train_x, val_x, test_x):\n",
    "  scaler = StandardScaler()\n",
    "\n",
    "  # save the normalisation coefficients\n",
    "  scaler.fit(train_x)\n",
    "  # normalise over the whole training set\n",
    "  d_lmfcc_train_x = scaler.transform(train_x)\n",
    "  # normalise the validation and test set\n",
    "  d_lmfcc_val_x = scaler.transform(val_x)\n",
    "  d_lmfcc_test_x = scaler.transform(test_x)\n",
    "  return d_lmfcc_train_x, d_lmfcc_val_x, d_lmfcc_test_x"
   ]
  },
  {
   "cell_type": "markdown",
   "metadata": {
    "id": "wtFEJciYoO7-"
   },
   "source": [
    "Think about the implications of these different strategies:\n",
    "1. normalise over the whole training set,\n",
    "2. normalise over each speaker separately, or\n",
    "3. normalise each utterance individually.\n",
    "\n",
    "In the third case, what will happen\n",
    "with the very short utterances in the files containing isolated digits?\n",
    "- Answer"
   ]
  },
  {
   "cell_type": "code",
   "execution_count": 30,
   "metadata": {},
   "outputs": [],
   "source": [
    "def prepare_x(feature='lmfcc', dynamic=True):\n",
    "    # Once the features are standardised, for each of the training, validation and test sets, flatten\n",
    "    # the data structures, that is, concatenate all the feature matrices so that you obtain a single matrix\n",
    "    # per set that is N × D, where D is the dimension of the features and N is the total number of\n",
    "    # frames in each of the sets.\n",
    "    if dynamic:\n",
    "        train_x = np.concatenate(stack_features(training_set, feature=feature), axis=0)\n",
    "        val_x = np.concatenate(stack_features(validation_set, feature=feature), axis=0)\n",
    "        test_x = np.concatenate(stack_features(test_set, feature=feature), axis=0)\n",
    "    else:\n",
    "        train_x = np.concatenate([entry[feature] for entry in training_set], axis=0)\n",
    "        val_x = np.concatenate([entry[feature] for entry in validation_set], axis=0)\n",
    "        test_x = np.concatenate([entry[feature] for entry in test_set], axis=0)\n",
    "        # Validate the correct order in x\n",
    "        assert np.array_equal(training_set[0][feature], train_x[:len(training_set[0][feature])])\n",
    "\n",
    "    # Printing of expected partition shapes\n",
    "    print(\"train_x: \", train_x.shape)\n",
    "    print(\"val_x: \", val_x.shape)\n",
    "    print(\"test_x: \", test_x.shape)\n",
    "\n",
    "    s_train_x, s_val_x, s_test_x = standardize_datasets(train_x, val_x, test_x)\n",
    "\n",
    "    return s_train_x, s_val_x, s_test_x"
   ]
  },
  {
   "cell_type": "code",
   "execution_count": 31,
   "metadata": {
    "id": "4QRY5PxIoUAr"
   },
   "outputs": [],
   "source": [
    "# target arrays into a one-hot encoding\n",
    "import torch.nn.functional as F\n",
    "output_dim = len(stateList)\n",
    "train_y = F.one_hot(torch.tensor(train_y),num_classes=output_dim)\n",
    "val_y = F.one_hot(torch.tensor(val_y),num_classes=output_dim)"
   ]
  },
  {
   "cell_type": "code",
   "execution_count": 32,
   "metadata": {},
   "outputs": [
    {
     "data": {
      "text/plain": [
       "torch.Size([1353209, 61])"
      ]
     },
     "execution_count": 32,
     "metadata": {},
     "output_type": "execute_result"
    }
   ],
   "source": [
    "train_y.shape"
   ]
  },
  {
   "cell_type": "markdown",
   "metadata": {
    "id": "JZi7aJcRReHq"
   },
   "source": [
    "## 5  Phoneme Recognition with Deep Neural Networks"
   ]
  },
  {
   "cell_type": "code",
   "execution_count": 33,
   "metadata": {
    "id": "rmVEtUeqSfgN"
   },
   "outputs": [],
   "source": [
    "import torch\n",
    "import torch.nn as nn\n",
    "import torch.nn.functional as F\n",
    "import torch.optim as optim\n",
    "from torch.utils.data import DataLoader, TensorDataset\n",
    "# from torch.utils.tensorboard import SummaryWriter\n",
    "import numpy as np\n",
    "\n",
    "# Define the neural network architecture\n",
    "class PhonemeRecognitionModel(nn.Module):\n",
    "    def __init__(self, input_size, output_size, hidden_size=256, num_layers=1):\n",
    "        super(PhonemeRecognitionModel, self).__init__()\n",
    "        self.layers = nn.ModuleList([nn.Linear(input_size, hidden_size)])\n",
    "        self.layers.extend([nn.Linear(hidden_size, hidden_size) for _ in range(num_layers - 1)])\n",
    "        self.layers.append(nn.Linear(hidden_size, output_size))\n",
    "        self.activation = nn.ReLU()  # ReLU activation function, non-linearity\n",
    "\n",
    "    def forward(self, x):\n",
    "        for i, layer in enumerate(self.layers[:-1]):\n",
    "            x = self.activation(layer(x))\n",
    "        x = self.layers[-1](x)  # Output layer without activation\n",
    "        return x"
   ]
  },
  {
   "cell_type": "code",
   "execution_count": 34,
   "metadata": {},
   "outputs": [],
   "source": [
    "# TODO: we need all four configurations mentioned under 5.\n",
    "# Parameters (this would be configuration 3. \"same as 1. but with dynamic features as explained in Section 4.5\")\n",
    "\n",
    "def train_model(model_file_path, train_x, val_x, train_y, val_y):\n",
    "    input_size = train_x.shape[1] # Example: number of features - for dynamic MFCCs 91 in our case\n",
    "    output_size = len(stateList)  # Number of phoneme states\n",
    "    hidden_size = 256 # Batch size\n",
    "    num_layers = 2\n",
    "    \n",
    "    # Instantiate the model\n",
    "    model = PhonemeRecognitionModel(input_size, output_size, hidden_size, num_layers)\n",
    "    \n",
    "    # Convert data to tensors\n",
    "    train_x = torch.tensor(train_x.astype(np.float32))\n",
    "    train_y = train_y.clone().detach()\n",
    "    val_x = torch.tensor(val_x.astype(np.float32))\n",
    "    val_y = val_y.clone().detach()\n",
    "    \n",
    "    # Create datasets from tensors\n",
    "    train_dataset = TensorDataset(train_x, train_y)\n",
    "    train_loader = DataLoader(train_dataset, batch_size=256, shuffle=True)\n",
    "    val_dataset = TensorDataset(val_x, val_y)\n",
    "    val_loader = DataLoader(val_dataset, batch_size=256, shuffle=False)\n",
    "    \n",
    "    # Define loss and optimizer (CrossEntropyLoss + Adam, for instance)\n",
    "    criterion = nn.CrossEntropyLoss()\n",
    "    optimizer = optim.Adam(model.parameters())\n",
    "    \n",
    "    # setup logging so that you can follow training using TensorBoard (see https://pytorch.org/docs/stable/tensorboard.html)\n",
    "    # writer = SummaryWriter()\n",
    "    \n",
    "    # Training and validation loop (from 'pytorch_example.py')\n",
    "    num_epochs = 3\n",
    "    for epoch in range(num_epochs):\n",
    "        model.train()\n",
    "        train_loss = 0.0\n",
    "        for inputs, labels in train_loader:\n",
    "            optimizer.zero_grad()\n",
    "    \n",
    "            # Convert labels from one-hot to indices if not already done before the loop\n",
    "            labels_indices = torch.argmax(labels, dim=1) if labels.dim() > 1 else labels\n",
    "    \n",
    "            outputs = model(inputs)\n",
    "            loss = criterion(outputs, labels_indices)  # Use indices, not one-hot labels\n",
    "            loss.backward()\n",
    "            optimizer.step()\n",
    "            train_loss += loss.item()\n",
    "    \n",
    "        model.eval()\n",
    "        val_loss = 0.0\n",
    "        state_correct = 0\n",
    "        test_total = 0\n",
    "        with torch.no_grad():\n",
    "            for inputs, labels in val_loader:\n",
    "                # Same label conversion for validation\n",
    "                labels_indices = torch.argmax(labels, dim=1) if labels.dim() > 1 else labels\n",
    "                outputs = model(inputs)\n",
    "                loss = criterion(outputs, labels_indices)\n",
    "                val_loss += loss.item()\n",
    "    \n",
    "                _, predicted = torch.max(outputs.data, 1)\n",
    "                test_total += labels_indices.size(0)\n",
    "                state_correct += (predicted == labels_indices).sum().item()\n",
    "    \n",
    "        train_loss /= len(train_loader)\n",
    "        val_loss /= len(val_loader)\n",
    "        state_accuracy = 100 * state_correct / test_total\n",
    "        print(f'Epoch {epoch+1}: train_loss={train_loss:.4f}, val_loss={val_loss:.4f}, state_accuracy={state_accuracy:.2f}%')\n",
    "    \n",
    "    # save the trained network\n",
    "    torch.save(model, model_file_path)\n",
    "    return model"
   ]
  },
  {
   "cell_type": "markdown",
   "metadata": {},
   "source": [
    "### Training"
   ]
  },
  {
   "cell_type": "code",
   "execution_count": 35,
   "metadata": {},
   "outputs": [
    {
     "name": "stdout",
     "output_type": "stream",
     "text": [
      "train_x:  (1353209, 91)\n",
      "val_x:  (154183, 91)\n",
      "test_x:  (1527014, 91)\n"
     ]
    }
   ],
   "source": [
    "feature='lmfcc'\n",
    "dynamic=True\n",
    "\n",
    "train_x, val_x, test_x = prepare_x(feature, dynamic)\n",
    "\n",
    "# Append to file name\n",
    "feature = 'd_' + feature if dynamic else feature\n",
    "model_file_path = f'{feature}_trained-net.pt'\n",
    "\n",
    "if exists(model_file_path):\n",
    "    model = torch.load(model_file_path)\n",
    "else:\n",
    "    model = train_model(model_file_path, train_x, val_x, train_y, val_y)"
   ]
  },
  {
   "cell_type": "markdown",
   "metadata": {},
   "source": [
    "Be prepared to explain why you chose the specific activation and what alternatives there are.\n",
    "\n",
    "Decide the kind of loss criterion most appropriate for classification\n",
    "\n",
    "Try to understand and be prepared to explain what happens inside the loop. What is the purpose of the validation data?\n",
    "\n",
    "Note the evolution of the loss function and the accuracy of the model for every epoch. What\n",
    "can you say comparing the results on the training and validation data?"
   ]
  },
  {
   "cell_type": "markdown",
   "metadata": {
    "id": "COY8xzTJgPgF"
   },
   "source": [
    "## 5.1 Detailed Evaluation"
   ]
  },
  {
   "cell_type": "code",
   "execution_count": 36,
   "metadata": {
    "id": "toaMk_GJgRQ9"
   },
   "outputs": [
    {
     "name": "stdout",
     "output_type": "stream",
     "text": [
      "State-level Accuracy: 0.7595149749773087\n",
      "Phoneme-level Accuracy: 0.8502810059370772\n"
     ]
    }
   ],
   "source": [
    "from sklearn.metrics import confusion_matrix\n",
    "from scipy.special import softmax\n",
    "\n",
    "def calculate_accuracy(predictions, targets):\n",
    "    return (predictions == targets).mean()\n",
    "\n",
    "def map_states_to_phonemes(state_predictions, state_to_phoneme_map):\n",
    "    return np.vectorize(state_to_phoneme_map.get)(state_predictions)\n",
    "\n",
    "# Assuming the model outputs and the targets are in the following variables\n",
    "test_x = torch.tensor(test_x.astype(np.float32))\n",
    "outputs = model(test_x)  # Outputs from the network\n",
    "predictions = torch.argmax(outputs, dim=1).numpy()\n",
    "targets = test_y\n",
    "\n",
    "# 1. Frame-by-frame accuracy at the state level\n",
    "state_level_accuracy = calculate_accuracy(predictions, targets)\n",
    "print(\"State-level Accuracy:\", state_level_accuracy)\n",
    "\n",
    "# Generate state-to-phoneme mapping\n",
    "state_to_phoneme_map = {i: ph.split('_')[0] for i, ph in enumerate(stateList)}\n",
    "\n",
    "\n",
    "# 2. Frame-by-frame accuracy at the phoneme level\n",
    "phoneme_predictions = map_states_to_phonemes(predictions, state_to_phoneme_map)\n",
    "phoneme_targets = map_states_to_phonemes(targets, state_to_phoneme_map)\n",
    "phoneme_level_accuracy = calculate_accuracy(phoneme_predictions, phoneme_targets)\n",
    "print(\"Phoneme-level Accuracy:\", phoneme_level_accuracy)"
   ]
  },
  {
   "cell_type": "markdown",
   "metadata": {},
   "source": [
    "Plot the posteriors for each class for an example utterance and compare them to the target\n",
    "values. What properties can you observe?"
   ]
  },
  {
   "cell_type": "code",
   "execution_count": 37,
   "metadata": {},
   "outputs": [
    {
     "name": "stdout",
     "output_type": "stream",
     "text": [
      "State-level Confusion Matrix:\n",
      " [[14639   463    41 ...     0     1     1]\n",
      " [ 1163 10196   422 ...     0     0     1]\n",
      " [  177   510  5544 ...     2     0     2]\n",
      " ...\n",
      " [    0     0     9 ...  3362   545   220]\n",
      " [    0     0     0 ...   449 10586   887]\n",
      " [    0     0     0 ...    37   345 10040]]\n",
      "Phoneme-level Confusion Matrix:\n",
      " [[ 33155    105   3837     71    267      3    153     46      0   4512\n",
      "     993    397      1      0      0      9     25    365   1497     71\n",
      "       7]\n",
      " [   204  37877    167      0     21    330      7      1      0      7\n",
      "    2669    410      0      0      0      0      5      5     12   2451\n",
      "       0]\n",
      " [  3994     75  90867     45    405    102     56     60      5    715\n",
      "    2919    925      0      0      0     10      3     52   1870     41\n",
      "       0]\n",
      " [    58      1     24  16920    122     17   3027     30    265     19\n",
      "     175     36    658      0      0    111     22     67    658      3\n",
      "     172]\n",
      " [   101      3    313    190  43058     33    633   4381     48    350\n",
      "     233    108     42    749    152    710     10    433    535     10\n",
      "      25]\n",
      " [     9    189   1001      9      4  50739      0     44     33    222\n",
      "     745     41    524   2736     52     96   1120     22   1191    188\n",
      "       1]\n",
      " [    93      0     16   5879   1089      0  29557    494    402     88\n",
      "      12     20   1157      1      0    275     56    254    213      5\n",
      "     540]\n",
      " [     6     10     81     15   2286     47    595  49627     32   1289\n",
      "      76    313     41    756     25    809    229   1646    186     69\n",
      "     389]\n",
      " [     0      0      2   1080     76     75    488     45  26792    153\n",
      "       2      4    915   1019    177    880     26     12    160      0\n",
      "      82]\n",
      " [  1981      3    750     33    407    114    105    529     65  80510\n",
      "     512    211    128   4478     55    493    178   1817   1557    490\n",
      "     376]\n",
      " [  1074   2535   2002    258    413    292     18     77     16   1268\n",
      "   85892    918    162   1549     45    201     83   1449   1859   1072\n",
      "      87]\n",
      " [   798    818    666      9    539     55    165   1723     22    581\n",
      "    3121  59486     65    987     17     60   1102    614    800    140\n",
      "      52]\n",
      " [     0      0      0   1705     78    928   1313    161   2230    350\n",
      "      80     63  52437   3486     72   1060   1360     57    758     15\n",
      "    1571]\n",
      " [     2      0      1      2     78   1612      1    256    685   3427\n",
      "     641    416    925 435929   2423   1045    724    175    939    147\n",
      "     219]\n",
      " [     0      0      0      0      8     54      0      7    420     91\n",
      "      13      6     33  20917   4105    941    168      1     11      1\n",
      "       4]\n",
      " [     8      0      8     36    425    262    605    536    621   1497\n",
      "      94     60    526   5554   1372  35557    643    694    691     93\n",
      "     305]\n",
      " [     8      0      3     26      9   2033     66     75     44    169\n",
      "      19    297    900   1991     96    562  22565     90    509     18\n",
      "      55]\n",
      " [   346     12     22     37    763     32    480   1452     19   2552\n",
      "    1982    202    100   1087     48    446    158  39465    501    433\n",
      "     201]\n",
      " [  1602     12   1832    702    628   1505    246     42     47   1721\n",
      "    1781    348    160   2015     42    265    354    192  44155    118\n",
      "      98]\n",
      " [  1552   1555   1060     24     67    174      2     12      0    886\n",
      "     969     33     15    658      4     39     16    178    177  33227\n",
      "       9]\n",
      " [     9      0      0    196     11      4    711    271     15    686\n",
      "      58      8   1407    551      8    264    118     69    182      2\n",
      "   26471]]\n"
     ]
    }
   ],
   "source": [
    "# 5. Confusion matrices\n",
    "state_conf_matrix = confusion_matrix(targets, predictions)\n",
    "phoneme_conf_matrix = confusion_matrix(phoneme_targets, phoneme_predictions)\n",
    "print(\"State-level Confusion Matrix:\\n\", state_conf_matrix)\n",
    "print(\"Phoneme-level Confusion Matrix:\\n\", phoneme_conf_matrix)"
   ]
  },
  {
   "cell_type": "code",
   "execution_count": null,
   "metadata": {},
   "outputs": [],
   "source": [
    "from nltk.metrics import edit_distance\n",
    "\n",
    "def compute_edit_distance(sequence1, sequence2):\n",
    "    return edit_distance(sequence1, sequence2)\n",
    "\n",
    "# 3. Edit distance at the state level\n",
    "state_sequence_pred = [stateList[p] for p in predictions]\n",
    "state_sequence_true = [stateList[t] for t in targets]\n",
    "state_edit_distance = compute_edit_distance(state_sequence_pred, state_sequence_true)\n",
    "print(\"State-level Edit Distance:\", state_edit_distance)\n",
    "\n",
    "# 4. Edit distance at the phoneme level\n",
    "phoneme_sequence_pred = [state_to_phoneme_map[p] for p in predictions]\n",
    "phoneme_sequence_true = [state_to_phoneme_map[t] for t in targets]\n",
    "phoneme_edit_distance = compute_edit_distance(phoneme_sequence_pred, phoneme_sequence_true)\n",
    "print(\"Phoneme-level Edit Distance:\", phoneme_edit_distance)"
   ]
  },
  {
   "cell_type": "markdown",
   "metadata": {
    "id": "rPFcXfBwihm2"
   },
   "source": [
    "## 5.2 Possible questions"
   ]
  },
  {
   "cell_type": "markdown",
   "metadata": {
    "id": "Nr45vNGkil8d"
   },
   "source": [
    "- **What does feature type and context window size affect?**\n",
    "  - Different features like MFCCs or filterbanks and the size of the window you look at can really shape how well the model captures important info. A bigger window lets the model check out more stuff at once, which might help it understand things like how sounds change over time better.\n",
    "\n",
    "- **Why do we normalize input features based on the activation functions?**\n",
    "  - Normalizing features makes sure no single type of data overwhelms the others just because of its size, which keeps the learning steady. Especially with functions like ReLU, it helps prevent the gradients from exploding or vanishing during training.\n",
    "\n",
    "- **How does the number of units per layer and the number of layers influence learning?**\n",
    "  - More units or layers mean the model can learn more complex patterns, but watch out because it can also overfit, especially if your model is bigger than needed for the task.\n",
    "\n",
    "- **What happens when you switch up activation functions?**\n",
    "  - Changing activation functions can mess with how the model learns. For instance, using sigmoid might slow down learning compared to ReLU due to different gradient behaviors. Trying out things like Leaky ReLU or ELU might help solve some problems typical to standard ReLU.\n",
    "\n",
    "- **What's the deal with learning rate and its strategies?**\n",
    "  - The learning rate is super important. If it's too high, your model might just skip the best solutions, too low and it’ll crawl through learning, maybe even getting stuck. Adaptive strategies adjust the learning rate as it goes, helping the model learn faster and more effectively.\n",
    "\n",
    "- **Are the network's posteriograms stable over time?**\n",
    "  - \n",
    "\n",
    "- **How are errors spread across different phonetic classes?**\n",
    "  - Errors aren't spread evenly across phonetic classes. Some sounds are just naturally easier for the model to get right, while others might keep getting mixed up due to how similar they are to other sounds or their subtle features.\n"
   ]
  },
  {
   "cell_type": "code",
   "execution_count": null,
   "metadata": {},
   "outputs": [],
   "source": []
  }
 ],
 "metadata": {
  "colab": {
   "provenance": []
  },
  "kernelspec": {
   "display_name": "Python 3 (ipykernel)",
   "language": "python",
   "name": "python3"
  },
  "language_info": {
   "codemirror_mode": {
    "name": "ipython",
    "version": 3
   },
   "file_extension": ".py",
   "mimetype": "text/x-python",
   "name": "python",
   "nbconvert_exporter": "python",
   "pygments_lexer": "ipython3",
   "version": "3.10.12"
  }
 },
 "nbformat": 4,
 "nbformat_minor": 4
}
